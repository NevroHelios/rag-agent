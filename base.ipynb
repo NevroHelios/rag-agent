{
 "cells": [
  {
   "cell_type": "code",
   "execution_count": 1,
   "id": "67e38faa",
   "metadata": {},
   "outputs": [
    {
     "name": "stderr",
     "output_type": "stream",
     "text": [
      "c:\\Users\\nevrohelios\\Desktop\\New folder\\rag-institute\\.venv\\Lib\\site-packages\\IPython\\core\\interactiveshell.py:3699: LangChainDeprecationWarning: As of langchain-core 0.3.0, LangChain uses pydantic v2 internally. The langchain_core.pydantic_v1 module was a compatibility shim for pydantic v1, and should no longer be used. Please update the code to import from Pydantic directly.\n",
      "\n",
      "For example, replace imports like: `from langchain_core.pydantic_v1 import BaseModel`\n",
      "with: `from pydantic import BaseModel`\n",
      "or the v1 compatibility namespace if you are working in a code base that has not been fully upgraded to pydantic 2 yet. \tfrom pydantic.v1 import BaseModel\n",
      "\n",
      "  exec(code_obj, self.user_global_ns, self.user_ns)\n"
     ]
    }
   ],
   "source": [
    "from langchain_core.pydantic_v1 import BaseModel, Field\n",
    "from langchain_core.output_parsers import StrOutputParser\n",
    "import os\n",
    "from langchain_community.graphs import Neo4jGraph\n",
    "from langchain.text_splitter import RecursiveCharacterTextSplitter\n",
    "from langchain_ollama.chat_models import ChatOllama\n",
    "from langchain_experimental.graph_transformers import LLMGraphTransformer\n",
    "from neo4j import GraphDatabase\n",
    "from langchain_community.vectorstores import Neo4jVector\n",
    "from langchain_ollama import OllamaEmbeddings\n",
    "from langchain_core.prompts import ChatPromptTemplate\n",
    "from langchain_community.document_loaders import TextLoader, PyMuPDFLoader\n",
    "from langchain_core.runnables import RunnablePassthrough, RunnableConfig\n",
    "from pprint import pprint\n",
    "from langchain_neo4j.vectorstores.neo4j_vector import remove_lucene_chars"
   ]
  },
  {
   "cell_type": "code",
   "execution_count": 2,
   "id": "e4d5e19a",
   "metadata": {},
   "outputs": [
    {
     "data": {
      "text/plain": [
       "True"
      ]
     },
     "execution_count": 2,
     "metadata": {},
     "output_type": "execute_result"
    }
   ],
   "source": [
    "from dotenv import load_dotenv\n",
    "load_dotenv()"
   ]
  },
  {
   "cell_type": "code",
   "execution_count": 3,
   "id": "d54d0c04",
   "metadata": {},
   "outputs": [
    {
     "name": "stdout",
     "output_type": "stream",
     "text": [
      "None\n"
     ]
    }
   ],
   "source": [
    "print(os.getenv(\"NEO4J_DATABASE\"))"
   ]
  },
  {
   "cell_type": "code",
   "execution_count": 4,
   "id": "c039635e",
   "metadata": {},
   "outputs": [
    {
     "name": "stderr",
     "output_type": "stream",
     "text": [
      "C:\\Users\\nevrohelios\\AppData\\Local\\Temp\\ipykernel_22744\\1992970749.py:1: LangChainDeprecationWarning: The class `Neo4jGraph` was deprecated in LangChain 0.3.8 and will be removed in 1.0. An updated version of the class exists in the :class:`~langchain-neo4j package and should be used instead. To use it run `pip install -U :class:`~langchain-neo4j` and import as `from :class:`~langchain_neo4j import Neo4jGraph``.\n",
      "  graph = Neo4jGraph(\n"
     ]
    }
   ],
   "source": [
    "graph = Neo4jGraph(\n",
    "    url=os.getenv(\"NEO4J_URI\"),\n",
    "    username=os.getenv(\"NEO4J_USERNAME\"),\n",
    "    password=os.getenv(\"NEO4J_PASSWORD\"),\n",
    "    database=\"neo4j\",\n",
    ")"
   ]
  },
  {
   "cell_type": "code",
   "execution_count": 11,
   "id": "93a763c5",
   "metadata": {},
   "outputs": [],
   "source": [
    "loader = PyMuPDFLoader(\"data/AllSem23.pdf\")\n",
    "docs = loader.load()\n",
    "\n",
    "text_splitter = RecursiveCharacterTextSplitter(chunk_size=3000, chunk_overlap=200)\n",
    "documents = text_splitter.split_documents(docs)"
   ]
  },
  {
   "cell_type": "code",
   "execution_count": 15,
   "id": "d90b8576",
   "metadata": {},
   "outputs": [],
   "source": [
    "for doc in documents:\n",
    "    doc.page_content = remove_lucene_chars(doc.page_content)\n",
    "    doc.page_content = doc.page_content.replace(\"\\n\", \" \")"
   ]
  },
  {
   "cell_type": "code",
   "execution_count": 17,
   "id": "210dd479",
   "metadata": {},
   "outputs": [
    {
     "name": "stdout",
     "output_type": "stream",
     "text": [
      "('Maulana Abul Kalam Azad University of Technology  Formerly West Bengal '\n",
      " 'University of Technology  Syllabus and Curricular Mapping for B. Tech. in '\n",
      " 'Computer Science and Engineering Effective from Academic Session 2023 24 '\n",
      " 'Page 43   81 of inherited attributes. 5 Type checking  4L  Type systems, '\n",
      " 'Specification of a simple type checker, Equivalence of type expressions, '\n",
      " 'Type conversions 4 6 Run time environments  5L  Source language issues  '\n",
      " 'Activation trees, Control stack, scope of declaration, Binding of names , '\n",
      " 'Storage organization  Subdivision of run time memory, Activation records , '\n",
      " 'Storage allocation strategies, Parameter passing  call by value, call by '\n",
      " 'reference, copy restore, call by name , Symbol tables, dynamic storage '\n",
      " 'allocation techniques 5 7 Intermediate code generation  4L  Intermediate '\n",
      " 'languages, Graphical representation, Three  address code, Implementation of '\n",
      " 'three address statements  Quadruples, Triples, Indirect triples . 4 8 Code '\n",
      " 'optimization  5L  Introduction, Basic blocks   flow graphs, Transformation '\n",
      " 'of basic blocks, Dag representation of basic blocks, The principle sources '\n",
      " 'of optimization, Loops in flow graph, Peephole optimization. 5 9 Code '\n",
      " 'generations  4L  Issues in the design of code generator, a simple code '\n",
      " 'generator, Register allocation   assignment 4 COURSE OUTCOMES  COs  On '\n",
      " 'completion of the course students will be able to Course Outcomes Details '\n",
      " 'Action Verb Knowledge Level PCC CS502.CO1 Demonstrate the concepts of '\n",
      " 'Operating System Services, System calls, structure and types. Demonstrate K2 '\n",
      " 'PCC CS502.CO2 Discuss processes and threads for multiprogramming and multi '\n",
      " 'threading. Discuss K6 PCC CS502.CO3 Develop algorithms for process '\n",
      " 'scheduling for a given specification of CPU utilization, Throughput, '\n",
      " 'Turnaround Time, Waiting Time, Response Develop K3 PCC CS502.CO4 Explain '\n",
      " 'algorithmic solutions to process synchronization problems for Inter Process '\n",
      " 'communication Explain K5 PCC CS502.CO5 Analyse the necessary conditions for '\n",
      " 'Deadlock avoidance and prevention to solve them. Analyze K6 PCC CS502.CO6 '\n",
      " 'Explain Memory management, Virtual Memory, I O Hardware, File and Disk '\n",
      " 'Management system. Explain K2 Mapping of COs with POs and PSOs  Course '\n",
      " 'Articulation Matrix   PO1 PO2 PO3 PO4 PO5 PO6 PO7 PO8 PO9 PO10 PO11 PO12 '\n",
      " 'PSO1 PSO2 CO1 3 1 1 1   2 2 3 2 3   2 3 3 CO2 3 2 1 1 2     3 3 1 1 3 3 2 '\n",
      " 'CO3 3 2 3 1 1     2 3 2 2 2 3 2 CO4 3 3 3 2       3 3 2 2 2 3 2 CO5 3 2 1 1 '\n",
      " '3     2 3 1 2 2 3 2 CO6 3 2 2 1       2 2   2 1 3 2 AVG. 3 2 1.83 1.167 2 2 '\n",
      " '2 2.5 2.667 1.8 1.8 2 3.00 2.17 Course Title  Operating Systems Code  PCC '\n",
      " 'CS502 Type Of Course  Theory Course Designation  Compulsory Semester  5th '\n",
      " 'Contact Hours  3L week Continuous Assessment  25 Marks Final Exam  70 Marks '\n",
      " 'Writer  Course Coordinator Approved by HoD  convenor of DAB')\n"
     ]
    }
   ],
   "source": [
    "pprint(documents[56].page_content)"
   ]
  },
  {
   "cell_type": "code",
   "execution_count": 57,
   "id": "8ba8be96",
   "metadata": {},
   "outputs": [
    {
     "name": "stdout",
     "output_type": "stream",
     "text": [
      "105\n"
     ]
    }
   ],
   "source": [
    "print(len(documents))"
   ]
  },
  {
   "cell_type": "code",
   "execution_count": 54,
   "id": "ac20bbdf",
   "metadata": {},
   "outputs": [],
   "source": [
    "from typing import List\n",
    "\n",
    "class Entities(BaseModel):\n",
    "    \"\"\"A generalized model for identifying key entities in various documents,\n",
    "    such as research papers and academic syllabi.\"\"\"\n",
    "\n",
    "    person: List[str] = Field(\n",
    "        description=\"Names of individuals, such as authors, professors, or cited researchers.\",\n",
    "        default_factory=list\n",
    "    )\n",
    "    organization: List[str] = Field(\n",
    "        description=\"Organizations, including universities, departments, research institutes, or companies.\",\n",
    "        default_factory=list\n",
    "    )\n",
    "    topic: List[str] = Field(\n",
    "        description=\"Key subjects, concepts, or topics discussed in the text.\",\n",
    "        default_factory=list\n",
    "    )\n",
    "    publication: List[str] = Field(\n",
    "        description=\"Cited or mentioned publications, such as papers, books, or articles.\",\n",
    "        default_factory=list\n",
    "    )\n",
    "    location: List[str] = Field(\n",
    "        description=\"Geographical or institutional locations mentioned.\",\n",
    "        default_factory=list\n",
    "    )\n",
    "    date: List[str] = Field(\n",
    "        description=\"Specific dates or years relevant to the document's context.\",\n",
    "        default_factory=list\n",
    "    )\n",
    "    course: List[str] = Field(\n",
    "        description=\"The names or codes of academic courses, if mentioned.\",\n",
    "        default_factory=list\n",
    "    )\n",
    "    assessment: List[str] = Field(\n",
    "        description=\"Methods of evaluation, such as exams, quizzes, projects, or assignments.\",\n",
    "        default_factory=list\n",
    "    )"
   ]
  },
  {
   "cell_type": "code",
   "execution_count": 56,
   "id": "10d23dcf",
   "metadata": {},
   "outputs": [],
   "source": [
    "allowed_nodes = list(Entities.__fields__.keys())\n",
    "allowed_relationships = [\n",
    "    \"MENTIONS\", \"DESCRIBES\", \"CITES\", \"RELATED_TO\", \"PART_OF\",\n",
    "    \"AUTHORED_BY\", \"USES_INSTRUMENT\", \"MEASURES\", \"LOCATED_IN\",\n",
    "    \"STUDIES\", \"PUBLISHED_IN\", \"REFERENCES\"\n",
    "]"
   ]
  },
  {
   "cell_type": "code",
   "execution_count": 59,
   "id": "35a44c7d",
   "metadata": {},
   "outputs": [],
   "source": [
    "llm = ChatOllama(\n",
    "    model=\"llama3.1:8b\",\n",
    "    temperature=0,\n",
    ").with_config({\"max_retries\": 3})\n",
    "llm_transformer = LLMGraphTransformer(llm=llm,\n",
    "                                      allowed_nodes=allowed_nodes,\n",
    "                                      allowed_relationships=allowed_relationships,)\n",
    "graph_docs = llm_transformer.convert_to_graph_documents(documents)"
   ]
  },
  {
   "cell_type": "code",
   "execution_count": 60,
   "id": "39080cd2",
   "metadata": {},
   "outputs": [
    {
     "data": {
      "text/plain": [
       "GraphDocument(nodes=[Node(id='Maulana Abul Kalam Azad University Of Technology', type='Organization', properties={}), Node(id='West Bengal University Of Technology', type='Organization', properties={})], relationships=[], source=Document(metadata={'producer': 'Microsoft: Print To PDF', 'creator': '', 'creationdate': '2023-05-23T13:52:40+05:30', 'source': 'data/AllSem23.pdf', 'file_path': 'data/AllSem23.pdf', 'total_pages': 81, 'format': 'PDF 1.7', 'title': 'Syllabus & Curriculum Mapping B Tech (CSE) (1).docx', 'author': 'MAKAUT 10', 'subject': '', 'keywords': '', 'moddate': '2023-05-23T13:52:40+05:30', 'trapped': '', 'modDate': \"D:20230523135240+05'30'\", 'creationDate': \"D:20230523135240+05'30'\", 'page': 0, 'id': 'a664efaa6d7db0d85dcc362ab6ebb376'}, page_content='Maulana Abul Kalam Azad University of Technology  Formerly West Bengal University of Technology  Syllabus and Curricular Mapping for B. Tech. in Computer Science and Engineering Effective from Academic Session 2023 24 Page 1   81 P23  Mapping of Course Outcomes with Program Outcomes PROGRAM OUTCOME  POs  Engineering Graduates will be able to  1. Engineering Knowledge  Apply the knowledge of mathematics, science, engineering fundamentals, and an engineering specialization to the solution of complex engineering problems. 2. Problem analysis  Identify, formulate, research literature, and analyse complex engineering problems reaching substantiated conclusions using first principles of mathematics, natural sciences, and engineering sciences. 3. Design development of solutions  Design solutions for complex engineering problems and design system components or processes that meet the specified needs with appropriate consideration for the public health and safety, and the cultural, societal, and environmental considerations. 4. Conduct investigations of complex problems  Use research based knowledge and research methods including design of experiments, analysis and interpretation of data, and synthesis of the information to provide valid conclusions. 5. Modern Tool Usage  Create, select, and apply appropriate techniques, resources, and modern engineering and IT tools including prediction and modeling to complex engineering activities with an understanding of the limitations. 6. The Engineer and Society  Apply reasoning informed by the contextual knowledge to assess societal, health, safety, legal, and cultural issues and the consequent responsibilities relevant to the professional engineering practice. 7. Environment and Sustainability  Understand the impact of the professional engineering solutions in societal and environmental contexts, and demonstrate the knowledge of need for sustainable development. 8. Ethics  Apply ethical principles and commit to professional ethics and responsibilities and norms of the engineering practice. 9. Individual and Team Work  Function effectively as an individual, and as a member or leader in diverse teams, and in multidisciplinary settings. 10. Communication  Communicate effectively on complex engineering activities with the engineering community and with society at large, such as, being able to comprehend andwrite effective reports and design documentation, make effective presentations, and giveand receive clear instructions. 11. Project Management and Finance  Demonstrate knowledge and understanding of the engineering and management principles and apply these to one’s own work, as a member and leader in a team, to manage projects and in multidisciplinary environments. 12. Life long learning  Recognize the need for, and have the preparation and ability to engage in independent and life long learning in the broadest context of technological change. MODEL PROGRAM SPECIFIC OUTCOMES  PSOs  1.'))"
      ]
     },
     "execution_count": 60,
     "metadata": {},
     "output_type": "execute_result"
    }
   ],
   "source": [
    "graph_docs[0]"
   ]
  },
  {
   "cell_type": "code",
   "execution_count": 61,
   "id": "38e6f6aa",
   "metadata": {},
   "outputs": [
    {
     "data": {
      "text/plain": [
       "[]"
      ]
     },
     "execution_count": 61,
     "metadata": {},
     "output_type": "execute_result"
    }
   ],
   "source": [
    "graph.query(\"MATCH (n) DETACH DELETE n\")"
   ]
  },
  {
   "cell_type": "code",
   "execution_count": 62,
   "id": "947b179a",
   "metadata": {},
   "outputs": [],
   "source": [
    "graph.add_graph_documents(\n",
    "    graph_documents=graph_docs,\n",
    "    baseEntityLabel=True,\n",
    "    include_source=True\n",
    ")"
   ]
  },
  {
   "cell_type": "code",
   "execution_count": 65,
   "id": "0aaa5913",
   "metadata": {},
   "outputs": [
    {
     "data": {
      "application/vnd.jupyter.widget-view+json": {
       "model_id": "53190f2bc2ca49a59cc58a84ade5c287",
       "version_major": 2,
       "version_minor": 0
      },
      "text/plain": [
       "GraphWidget(layout=Layout(height='800px', width='100%'))"
      ]
     },
     "metadata": {},
     "output_type": "display_data"
    }
   ],
   "source": [
    "from yfiles_jupyter_graphs import GraphWidget\n",
    "\n",
    "def show_graph():\n",
    "    driver = GraphDatabase.driver(\n",
    "        uri=os.getenv(\"NEO4J_URI\"),\n",
    "        auth=(os.getenv(\"NEO4J_USERNAME\"), os.getenv(\"NEO4J_PASSWORD\"))\n",
    "    )\n",
    "    with driver.session() as session:\n",
    "        result = session.run(\"\"\"\n",
    "            MATCH (n)-[r]->(m)\n",
    "            RETURN n, r, m\n",
    "        \"\"\")\n",
    "        widget = GraphWidget(graph=result.graph())\n",
    "    return widget\n",
    "\n",
    "show_graph()\n",
    "\n",
    "show_graph()"
   ]
  },
  {
   "cell_type": "code",
   "execution_count": 66,
   "id": "9b29b676",
   "metadata": {},
   "outputs": [],
   "source": [
    "embedding_model = OllamaEmbeddings(\n",
    "    model=\"nomic-embed-text:latest\"\n",
    ")"
   ]
  },
  {
   "cell_type": "code",
   "execution_count": 45,
   "id": "360355d5",
   "metadata": {},
   "outputs": [
    {
     "data": {
      "text/plain": [
       "[]"
      ]
     },
     "execution_count": 45,
     "metadata": {},
     "output_type": "execute_result"
    }
   ],
   "source": [
    "# graph.query(\"DROP INDEX vector IF EXISTS\")\n",
    "# graph.query(\n",
    "#     \"CREATE FULLTEXT INDEX documentFullTextIndex IF NOT EXISTS \"\n",
    "#     \"FOR (n:Document) ON EACH [n.text, n.source, n.title]\"\n",
    "# )"
   ]
  },
  {
   "cell_type": "code",
   "execution_count": 47,
   "id": "e8459d45",
   "metadata": {},
   "outputs": [],
   "source": [
    "vector_index = Neo4jVector.from_existing_graph(\n",
    "    embedding=embedding_model,\n",
    "    search_type=\"hybrid\",\n",
    "    node_label=\"Document\",\n",
    "    text_node_properties=[\"text\", \"source\", \"title\"],\n",
    "    embedding_node_property=\"embedding\",\n",
    "    keyword_index_name=\"documentFullTextIndex\" \n",
    ")\n",
    "vector_retriever = vector_index.as_retriever()"
   ]
  },
  {
   "cell_type": "code",
   "execution_count": 67,
   "id": "b9e04110",
   "metadata": {},
   "outputs": [
    {
     "name": "stderr",
     "output_type": "stream",
     "text": [
      "Received notification from DBMS server: {severity: WARNING} {code: Neo.ClientNotification.Statement.FeatureDeprecationWarning} {category: DEPRECATION} {title: This feature is deprecated and will be removed in future versions.} {description: CALL subquery without a variable scope clause is now deprecated. Use CALL () { ... }} {position: line: 1, column: 1, offset: 0} for query: \"CALL { CALL db.index.vector.queryNodes($index, $k, $embedding) YIELD node, score WITH collect({node:node, score:score}) AS nodes, max(score) AS max UNWIND nodes AS n RETURN n.node AS node, (n.score / max) AS score UNION CALL db.index.fulltext.queryNodes($keyword_index, $query, {limit: $k}) YIELD node, score WITH collect({node:node, score:score}) AS nodes, max(score) AS max UNWIND nodes AS n RETURN n.node AS node, (n.score / max) AS score } WITH node, max(score) AS score ORDER BY score DESC LIMIT $k RETURN reduce(str='', k IN ['text', 'source', 'title'] | str + '\\\\n' + k + ': ' + coalesce(node[k], '')) AS text, node {.*, `embedding`: Null, id: Null, `text`: Null, `source`: Null, `title`: Null} AS metadata, score\"\n"
     ]
    },
    {
     "name": "stdout",
     "output_type": "stream",
     "text": [
      "('\\n'\n",
      " 'text: Maulana Abul Kalam Azad University of Technology  Formerly West Bengal '\n",
      " 'University of Technology  Syllabus and Curricular Mapping for B. Tech. in '\n",
      " 'Computer Science and Engineering Effective from Academic Session 2023 24 '\n",
      " 'Page 33   81 COURSE OUTCOMES  COs  On completion of the course students will '\n",
      " 'be able to Course Outcomes Details Action Verb Knowledge Level PCC CS403.CO1 '\n",
      " 'Write a formal notation for strings, languages and machines. Write K6 PCC '\n",
      " 'CS403.CO2 Design finite automata to accept a set of strings of a language. '\n",
      " 'Design K6 PCC CS403.CO3 For a given language determine whether the given '\n",
      " 'language is regular or not Determine K5 PCC CS403.CO4 Design context free '\n",
      " 'grammars to generate strings of context free language. Design K6 PCC '\n",
      " 'CS403.CO5 Determine equivalence of languages accepted by Push Down Automata '\n",
      " 'and languages generated by context free grammars Determine K5 PCC CS403.CO6 '\n",
      " 'Write the hierarchy of formal languages, grammars and machines and '\n",
      " 'Distinguish between computability and non computability and Decidability and '\n",
      " 'undecidability Write K6 Mapping of COs with POs and PSOs  Course '\n",
      " 'Articulation Matrix   PO1 PO2 PO3 PO4 PO5 PO6 PO7 PO8 PO9 PO10 PO11 PO12 '\n",
      " 'PSO1 PSO2 CO1 3 3 3 2 2             3 3 2 CO2 3 3 2 2 2             3 3 2 '\n",
      " 'CO3 3 1 2 2 2             3 2 2 CO4 3 2 2 2 3           1 3 2 3 CO5 3 3 2 2 '\n",
      " '3           2 3 2 2 CO6 3 3 2 2 3           2 3 2 2 AVG. 3 2.5 2.17 2 2.5 0 '\n",
      " '0 0 0 0 1.67 3 2.33 2.17 University Syllabus   Unit Content Hrs Unit 1 '\n",
      " 'Introduction  Alphabet, languages and grammars, productions and derivation, '\n",
      " 'Chomsky hierarchy of languages. 6 2 Regular languages and finite automata  '\n",
      " 'Regular expressions and languages, deterministic finite automata  DFA  and '\n",
      " 'equivalence with regular expressions, nondeterministic finite automata  NFA  '\n",
      " 'and equivalence with DFA, regular grammars and equivalence with finite '\n",
      " 'automata, properties of regular languages, pumping lemma for regular '\n",
      " 'languages, minimization of finite automata  7 3 Context free languages and '\n",
      " 'pushdown automata  Context free grammars  CFG  and languages  CFL , Chomsky '\n",
      " 'and Greibach normal forms, nondeterministic pushdown automata  PDA  and '\n",
      " 'equivalence with CFG, parse trees, ambiguity in CFG, pumping lemma for '\n",
      " 'context free languages, deterministic push down automata, closure properties '\n",
      " 'of CFLs. 6 4 Context sensitive languages  Context sensitive grammars  CSG  '\n",
      " 'and languages, linear bounded automata and equivalence with CSG. 6 5 Turing '\n",
      " 'machines  The basic model for Turing machines  TM , Turing recognizable '\n",
      " 'recursively enumerable  and Turing decidable  recursive  languages and their '\n",
      " 'closure properties, variants of Turing machines, nondeterministic TMs and '\n",
      " 'equivalence with deterministic TMs, unrestricted grammars and 6 Course '\n",
      " 'Title  Formal Language   Automata Theory Code  PCC CS403 Type of Course  '\n",
      " 'Theory Course Designation  Compulsory Semester  4th Contact Hours  3L week '\n",
      " 'Continuous Assessment  25 Marks Final Exam  70 Marks Course Coordinator   '\n",
      " 'Approved by HoD  convenor of DAB\\n'\n",
      " 'source: data/AllSem23.pdf\\n'\n",
      " 'title: Syllabus & Curriculum Mapping B Tech (CSE) (1).docx')\n"
     ]
    }
   ],
   "source": [
    "res = vector_retriever.invoke(\n",
    "    \"Automata syllabus?\",\n",
    "    top_k=5,\n",
    "    similarity_threshold=0.7,\n",
    "    include_embeddings=True\n",
    ")\n",
    "pprint(res[0].model_dump()[\"page_content\"])"
   ]
  },
  {
   "cell_type": "code",
   "execution_count": 68,
   "id": "269fd984",
   "metadata": {},
   "outputs": [],
   "source": [
    "prompt = ChatPromptTemplate.from_messages(\n",
    "    [\n",
    "        (\n",
    "            \"system\",\n",
    "            \"You are an expert in scientific papers. Your task is to extract entities from the text. \"\n",
    "        ),\n",
    "        (\n",
    "            \"human\",\n",
    "            \"Use the given format to extract information from the following\"\n",
    "            \"input: {question}\"\n",
    "        )\n",
    "    ]\n",
    ")\n",
    "\n",
    "entity_chain = prompt | llm.with_structured_output(Entities)"
   ]
  },
  {
   "cell_type": "code",
   "execution_count": 70,
   "id": "544d082f",
   "metadata": {},
   "outputs": [
    {
     "data": {
      "text/plain": [
       "Entities(person=[], organization=[], topic=['automata'], publication=[], location=[], date=[], course=['syllabus'], assessment=[])"
      ]
     },
     "execution_count": 70,
     "metadata": {},
     "output_type": "execute_result"
    }
   ],
   "source": [
    "entities = entity_chain.invoke(\n",
    "    {\"question\": \"What is the syllabus of automata?\"}\n",
    ")\n",
    "\n",
    "entities"
   ]
  },
  {
   "cell_type": "code",
   "execution_count": 78,
   "id": "25e2a11f",
   "metadata": {},
   "outputs": [
    {
     "name": "stderr",
     "output_type": "stream",
     "text": [
      "Received notification from DBMS server: {severity: WARNING} {code: Neo.ClientNotification.Statement.FeatureDeprecationWarning} {category: DEPRECATION} {title: This feature is deprecated and will be removed in future versions.} {description: CALL subquery without a variable scope clause is now deprecated. Use CALL (node) { ... }} {position: line: 4, column: 13, offset: 132} for query: \"\\n            CALL db.index.fulltext.queryNodes('entityFullTextIndex', $query, {limit: 5})\\n            YIELD node, score\\n            CALL {\\n                WITH node\\n                OPTIONAL MATCH (node)-[:MENTIONS|RELATED_TO|CITED_IN|GENERATED_BY*1..2]-(doc:Document)\\n                RETURN DISTINCT doc.title AS title, doc.abstract AS abstract\\n            }\\n            RETURN title, abstract, score\\n            ORDER BY score DESC\\n            LIMIT 3\\n            \"\n",
      "Received notification from DBMS server: {severity: WARNING} {code: Neo.ClientNotification.Statement.UnknownRelationshipTypeWarning} {category: UNRECOGNIZED} {title: The provided relationship type is not in the database.} {description: One of the relationship types in your query is not available in the database, make sure you didn't misspell it or that the label is available when you run this statement in your application (the missing relationship type is: CITED_IN)} {position: line: 6, column: 61, offset: 225} for query: \"\\n            CALL db.index.fulltext.queryNodes('entityFullTextIndex', $query, {limit: 5})\\n            YIELD node, score\\n            CALL {\\n                WITH node\\n                OPTIONAL MATCH (node)-[:MENTIONS|RELATED_TO|CITED_IN|GENERATED_BY*1..2]-(doc:Document)\\n                RETURN DISTINCT doc.title AS title, doc.abstract AS abstract\\n            }\\n            RETURN title, abstract, score\\n            ORDER BY score DESC\\n            LIMIT 3\\n            \"\n",
      "Received notification from DBMS server: {severity: WARNING} {code: Neo.ClientNotification.Statement.UnknownRelationshipTypeWarning} {category: UNRECOGNIZED} {title: The provided relationship type is not in the database.} {description: One of the relationship types in your query is not available in the database, make sure you didn't misspell it or that the label is available when you run this statement in your application (the missing relationship type is: GENERATED_BY)} {position: line: 6, column: 70, offset: 234} for query: \"\\n            CALL db.index.fulltext.queryNodes('entityFullTextIndex', $query, {limit: 5})\\n            YIELD node, score\\n            CALL {\\n                WITH node\\n                OPTIONAL MATCH (node)-[:MENTIONS|RELATED_TO|CITED_IN|GENERATED_BY*1..2]-(doc:Document)\\n                RETURN DISTINCT doc.title AS title, doc.abstract AS abstract\\n            }\\n            RETURN title, abstract, score\\n            ORDER BY score DESC\\n            LIMIT 3\\n            \"\n",
      "Received notification from DBMS server: {severity: WARNING} {code: Neo.ClientNotification.Statement.UnknownPropertyKeyWarning} {category: UNRECOGNIZED} {title: The provided property key is not in the database} {description: One of the property names in your query is not available in the database, make sure you didn't misspell it or that the label is available when you run this statement in your application (the missing property name is: abstract)} {position: line: 7, column: 57, offset: 324} for query: \"\\n            CALL db.index.fulltext.queryNodes('entityFullTextIndex', $query, {limit: 5})\\n            YIELD node, score\\n            CALL {\\n                WITH node\\n                OPTIONAL MATCH (node)-[:MENTIONS|RELATED_TO|CITED_IN|GENERATED_BY*1..2]-(doc:Document)\\n                RETURN DISTINCT doc.title AS title, doc.abstract AS abstract\\n            }\\n            RETURN title, abstract, score\\n            ORDER BY score DESC\\n            LIMIT 3\\n            \"\n",
      "Received notification from DBMS server: {severity: WARNING} {code: Neo.ClientNotification.Statement.FeatureDeprecationWarning} {category: DEPRECATION} {title: This feature is deprecated and will be removed in future versions.} {description: CALL subquery without a variable scope clause is now deprecated. Use CALL (node) { ... }} {position: line: 4, column: 13, offset: 132} for query: \"\\n            CALL db.index.fulltext.queryNodes('entityFullTextIndex', $query, {limit: 5})\\n            YIELD node, score\\n            CALL {\\n                WITH node\\n                OPTIONAL MATCH (node)-[:MENTIONS|RELATED_TO|CITED_IN|GENERATED_BY*1..2]-(doc:Document)\\n                RETURN DISTINCT doc.title AS title, doc.abstract AS abstract\\n            }\\n            RETURN title, abstract, score\\n            ORDER BY score DESC\\n            LIMIT 3\\n            \"\n",
      "Received notification from DBMS server: {severity: WARNING} {code: Neo.ClientNotification.Statement.UnknownRelationshipTypeWarning} {category: UNRECOGNIZED} {title: The provided relationship type is not in the database.} {description: One of the relationship types in your query is not available in the database, make sure you didn't misspell it or that the label is available when you run this statement in your application (the missing relationship type is: CITED_IN)} {position: line: 6, column: 61, offset: 225} for query: \"\\n            CALL db.index.fulltext.queryNodes('entityFullTextIndex', $query, {limit: 5})\\n            YIELD node, score\\n            CALL {\\n                WITH node\\n                OPTIONAL MATCH (node)-[:MENTIONS|RELATED_TO|CITED_IN|GENERATED_BY*1..2]-(doc:Document)\\n                RETURN DISTINCT doc.title AS title, doc.abstract AS abstract\\n            }\\n            RETURN title, abstract, score\\n            ORDER BY score DESC\\n            LIMIT 3\\n            \"\n",
      "Received notification from DBMS server: {severity: WARNING} {code: Neo.ClientNotification.Statement.UnknownRelationshipTypeWarning} {category: UNRECOGNIZED} {title: The provided relationship type is not in the database.} {description: One of the relationship types in your query is not available in the database, make sure you didn't misspell it or that the label is available when you run this statement in your application (the missing relationship type is: GENERATED_BY)} {position: line: 6, column: 70, offset: 234} for query: \"\\n            CALL db.index.fulltext.queryNodes('entityFullTextIndex', $query, {limit: 5})\\n            YIELD node, score\\n            CALL {\\n                WITH node\\n                OPTIONAL MATCH (node)-[:MENTIONS|RELATED_TO|CITED_IN|GENERATED_BY*1..2]-(doc:Document)\\n                RETURN DISTINCT doc.title AS title, doc.abstract AS abstract\\n            }\\n            RETURN title, abstract, score\\n            ORDER BY score DESC\\n            LIMIT 3\\n            \"\n",
      "Received notification from DBMS server: {severity: WARNING} {code: Neo.ClientNotification.Statement.UnknownPropertyKeyWarning} {category: UNRECOGNIZED} {title: The provided property key is not in the database} {description: One of the property names in your query is not available in the database, make sure you didn't misspell it or that the label is available when you run this statement in your application (the missing property name is: abstract)} {position: line: 7, column: 57, offset: 324} for query: \"\\n            CALL db.index.fulltext.queryNodes('entityFullTextIndex', $query, {limit: 5})\\n            YIELD node, score\\n            CALL {\\n                WITH node\\n                OPTIONAL MATCH (node)-[:MENTIONS|RELATED_TO|CITED_IN|GENERATED_BY*1..2]-(doc:Document)\\n                RETURN DISTINCT doc.title AS title, doc.abstract AS abstract\\n            }\\n            RETURN title, abstract, score\\n            ORDER BY score DESC\\n            LIMIT 3\\n            \"\n"
     ]
    },
    {
     "data": {
      "text/plain": [
       "''"
      ]
     },
     "execution_count": 78,
     "metadata": {},
     "output_type": "execute_result"
    }
   ],
   "source": [
    "def generate_full_text_query(input: str) ->  str:\n",
    "    words = [el for el in remove_lucene_chars(input).split() if el]\n",
    "    if not words:\n",
    "        return \"\"\n",
    "    full_text_query = \" AND \".join([f\"{word}~2\" for word in words])\n",
    "    return full_text_query.strip()\n",
    "\n",
    "def graph_retriever(question: str) -> str:\n",
    "    \"\"\"Retrieves relevant documents and related entities based on the question.\"\"\"\n",
    "    result = \"\"\n",
    "    entities = entity_chain.invoke({\"question\": question}) \n",
    "    seen = set()\n",
    "    for entity_type, value in entities.dict().items():\n",
    "        if not value:\n",
    "            continue\n",
    "        value = value[0].strip()\n",
    "        if not value or value in seen:\n",
    "            continue  # Skip empty fields\n",
    "        seen.add(value)\n",
    "\n",
    "        fuzzy_query = generate_full_text_query(value)\n",
    "\n",
    "        response = graph.query(\n",
    "            \"\"\"\n",
    "            CALL db.index.fulltext.queryNodes('entityFullTextIndex', $query, {limit: 5})\n",
    "            YIELD node, score\n",
    "            CALL {\n",
    "                WITH node\n",
    "                OPTIONAL MATCH (node)-[:MENTIONS|RELATED_TO|CITED_IN|GENERATED_BY*1..2]-(doc:Document)\n",
    "                RETURN DISTINCT doc.title AS title, doc.abstract AS abstract\n",
    "            }\n",
    "            RETURN title, abstract, score\n",
    "            ORDER BY score DESC\n",
    "            LIMIT 3\n",
    "            \"\"\",\n",
    "            {\"query\": fuzzy_query}\n",
    "        )\n",
    "\n",
    "        for record in response:\n",
    "            result += f\"Matched Field: {entity_type}\\n\"\n",
    "            result += f\"Entity: {value}\\n\"\n",
    "            result += f\"Title: {record['title']}\\n\"\n",
    "            result += f\"Abstract: {record['abstract']}\\n\"\n",
    "            result += f\"Score: {record['score']:.2f}\\n\\n\"\n",
    "\n",
    "    return result.strip()\n",
    "\n",
    "\n",
    "\n",
    "# generate_full_text_query(\"What the contents of this paper say?\")\n",
    "graph_retriever(\"What is the syllabus of automata?\")"
   ]
  },
  {
   "cell_type": "code",
   "execution_count": 79,
   "id": "03e45fe1",
   "metadata": {},
   "outputs": [],
   "source": [
    "def full_retriever(query: str):\n",
    "    \"\"\"Retrieves relevant documents and entities based on the query.\"\"\"\n",
    "    graph_data = graph_retriever(question=query)\n",
    "    vector_data = [el.model_dump()[\"page_content\"] for el in vector_retriever.invoke(query)]\n",
    "\n",
    "    final_data = f\"\"\"Graph Data:\\n{graph_data}\\n\\nVector Data:\\n\n",
    "                  {\"\\nDocument\".join(vector_data)}\"\"\"\n",
    "    \n",
    "    return final_data.strip()"
   ]
  },
  {
   "cell_type": "code",
   "execution_count": 80,
   "id": "c926d936",
   "metadata": {},
   "outputs": [
    {
     "name": "stderr",
     "output_type": "stream",
     "text": [
      "Received notification from DBMS server: {severity: WARNING} {code: Neo.ClientNotification.Statement.FeatureDeprecationWarning} {category: DEPRECATION} {title: This feature is deprecated and will be removed in future versions.} {description: CALL subquery without a variable scope clause is now deprecated. Use CALL (node) { ... }} {position: line: 4, column: 13, offset: 132} for query: \"\\n            CALL db.index.fulltext.queryNodes('entityFullTextIndex', $query, {limit: 5})\\n            YIELD node, score\\n            CALL {\\n                WITH node\\n                OPTIONAL MATCH (node)-[:MENTIONS|RELATED_TO|CITED_IN|GENERATED_BY*1..2]-(doc:Document)\\n                RETURN DISTINCT doc.title AS title, doc.abstract AS abstract\\n            }\\n            RETURN title, abstract, score\\n            ORDER BY score DESC\\n            LIMIT 3\\n            \"\n",
      "Received notification from DBMS server: {severity: WARNING} {code: Neo.ClientNotification.Statement.UnknownRelationshipTypeWarning} {category: UNRECOGNIZED} {title: The provided relationship type is not in the database.} {description: One of the relationship types in your query is not available in the database, make sure you didn't misspell it or that the label is available when you run this statement in your application (the missing relationship type is: CITED_IN)} {position: line: 6, column: 61, offset: 225} for query: \"\\n            CALL db.index.fulltext.queryNodes('entityFullTextIndex', $query, {limit: 5})\\n            YIELD node, score\\n            CALL {\\n                WITH node\\n                OPTIONAL MATCH (node)-[:MENTIONS|RELATED_TO|CITED_IN|GENERATED_BY*1..2]-(doc:Document)\\n                RETURN DISTINCT doc.title AS title, doc.abstract AS abstract\\n            }\\n            RETURN title, abstract, score\\n            ORDER BY score DESC\\n            LIMIT 3\\n            \"\n",
      "Received notification from DBMS server: {severity: WARNING} {code: Neo.ClientNotification.Statement.UnknownRelationshipTypeWarning} {category: UNRECOGNIZED} {title: The provided relationship type is not in the database.} {description: One of the relationship types in your query is not available in the database, make sure you didn't misspell it or that the label is available when you run this statement in your application (the missing relationship type is: GENERATED_BY)} {position: line: 6, column: 70, offset: 234} for query: \"\\n            CALL db.index.fulltext.queryNodes('entityFullTextIndex', $query, {limit: 5})\\n            YIELD node, score\\n            CALL {\\n                WITH node\\n                OPTIONAL MATCH (node)-[:MENTIONS|RELATED_TO|CITED_IN|GENERATED_BY*1..2]-(doc:Document)\\n                RETURN DISTINCT doc.title AS title, doc.abstract AS abstract\\n            }\\n            RETURN title, abstract, score\\n            ORDER BY score DESC\\n            LIMIT 3\\n            \"\n",
      "Received notification from DBMS server: {severity: WARNING} {code: Neo.ClientNotification.Statement.UnknownPropertyKeyWarning} {category: UNRECOGNIZED} {title: The provided property key is not in the database} {description: One of the property names in your query is not available in the database, make sure you didn't misspell it or that the label is available when you run this statement in your application (the missing property name is: abstract)} {position: line: 7, column: 57, offset: 324} for query: \"\\n            CALL db.index.fulltext.queryNodes('entityFullTextIndex', $query, {limit: 5})\\n            YIELD node, score\\n            CALL {\\n                WITH node\\n                OPTIONAL MATCH (node)-[:MENTIONS|RELATED_TO|CITED_IN|GENERATED_BY*1..2]-(doc:Document)\\n                RETURN DISTINCT doc.title AS title, doc.abstract AS abstract\\n            }\\n            RETURN title, abstract, score\\n            ORDER BY score DESC\\n            LIMIT 3\\n            \"\n",
      "Received notification from DBMS server: {severity: WARNING} {code: Neo.ClientNotification.Statement.FeatureDeprecationWarning} {category: DEPRECATION} {title: This feature is deprecated and will be removed in future versions.} {description: CALL subquery without a variable scope clause is now deprecated. Use CALL (node) { ... }} {position: line: 4, column: 13, offset: 132} for query: \"\\n            CALL db.index.fulltext.queryNodes('entityFullTextIndex', $query, {limit: 5})\\n            YIELD node, score\\n            CALL {\\n                WITH node\\n                OPTIONAL MATCH (node)-[:MENTIONS|RELATED_TO|CITED_IN|GENERATED_BY*1..2]-(doc:Document)\\n                RETURN DISTINCT doc.title AS title, doc.abstract AS abstract\\n            }\\n            RETURN title, abstract, score\\n            ORDER BY score DESC\\n            LIMIT 3\\n            \"\n",
      "Received notification from DBMS server: {severity: WARNING} {code: Neo.ClientNotification.Statement.UnknownRelationshipTypeWarning} {category: UNRECOGNIZED} {title: The provided relationship type is not in the database.} {description: One of the relationship types in your query is not available in the database, make sure you didn't misspell it or that the label is available when you run this statement in your application (the missing relationship type is: CITED_IN)} {position: line: 6, column: 61, offset: 225} for query: \"\\n            CALL db.index.fulltext.queryNodes('entityFullTextIndex', $query, {limit: 5})\\n            YIELD node, score\\n            CALL {\\n                WITH node\\n                OPTIONAL MATCH (node)-[:MENTIONS|RELATED_TO|CITED_IN|GENERATED_BY*1..2]-(doc:Document)\\n                RETURN DISTINCT doc.title AS title, doc.abstract AS abstract\\n            }\\n            RETURN title, abstract, score\\n            ORDER BY score DESC\\n            LIMIT 3\\n            \"\n",
      "Received notification from DBMS server: {severity: WARNING} {code: Neo.ClientNotification.Statement.UnknownRelationshipTypeWarning} {category: UNRECOGNIZED} {title: The provided relationship type is not in the database.} {description: One of the relationship types in your query is not available in the database, make sure you didn't misspell it or that the label is available when you run this statement in your application (the missing relationship type is: GENERATED_BY)} {position: line: 6, column: 70, offset: 234} for query: \"\\n            CALL db.index.fulltext.queryNodes('entityFullTextIndex', $query, {limit: 5})\\n            YIELD node, score\\n            CALL {\\n                WITH node\\n                OPTIONAL MATCH (node)-[:MENTIONS|RELATED_TO|CITED_IN|GENERATED_BY*1..2]-(doc:Document)\\n                RETURN DISTINCT doc.title AS title, doc.abstract AS abstract\\n            }\\n            RETURN title, abstract, score\\n            ORDER BY score DESC\\n            LIMIT 3\\n            \"\n",
      "Received notification from DBMS server: {severity: WARNING} {code: Neo.ClientNotification.Statement.UnknownPropertyKeyWarning} {category: UNRECOGNIZED} {title: The provided property key is not in the database} {description: One of the property names in your query is not available in the database, make sure you didn't misspell it or that the label is available when you run this statement in your application (the missing property name is: abstract)} {position: line: 7, column: 57, offset: 324} for query: \"\\n            CALL db.index.fulltext.queryNodes('entityFullTextIndex', $query, {limit: 5})\\n            YIELD node, score\\n            CALL {\\n                WITH node\\n                OPTIONAL MATCH (node)-[:MENTIONS|RELATED_TO|CITED_IN|GENERATED_BY*1..2]-(doc:Document)\\n                RETURN DISTINCT doc.title AS title, doc.abstract AS abstract\\n            }\\n            RETURN title, abstract, score\\n            ORDER BY score DESC\\n            LIMIT 3\\n            \"\n",
      "Received notification from DBMS server: {severity: WARNING} {code: Neo.ClientNotification.Statement.FeatureDeprecationWarning} {category: DEPRECATION} {title: This feature is deprecated and will be removed in future versions.} {description: CALL subquery without a variable scope clause is now deprecated. Use CALL () { ... }} {position: line: 1, column: 1, offset: 0} for query: \"CALL { CALL db.index.vector.queryNodes($index, $k, $embedding) YIELD node, score WITH collect({node:node, score:score}) AS nodes, max(score) AS max UNWIND nodes AS n RETURN n.node AS node, (n.score / max) AS score UNION CALL db.index.fulltext.queryNodes($keyword_index, $query, {limit: $k}) YIELD node, score WITH collect({node:node, score:score}) AS nodes, max(score) AS max UNWIND nodes AS n RETURN n.node AS node, (n.score / max) AS score } WITH node, max(score) AS score ORDER BY score DESC LIMIT $k RETURN reduce(str='', k IN ['text', 'source', 'title'] | str + '\\\\n' + k + ': ' + coalesce(node[k], '')) AS text, node {.*, `embedding`: Null, id: Null, `text`: Null, `source`: Null, `title`: Null} AS metadata, score\"\n"
     ]
    }
   ],
   "source": [
    "op = full_retriever(\"What is the syllabus of automata?\")"
   ]
  },
  {
   "cell_type": "code",
   "execution_count": 81,
   "id": "7fcac9a7",
   "metadata": {},
   "outputs": [],
   "source": [
    "template = \"\"\"Answer the question based on the provided data.\n",
    "Context: \n",
    "{context}\n",
    "\n",
    "Question: {question}\n",
    "\n",
    "Use the context to answer the question as accurately as possible. Be concise and to the point.\n",
    "\n",
    "Answer:\n",
    "\"\"\"\n",
    "\n",
    "prompt = ChatPromptTemplate.from_template(template)\n",
    "\n",
    "chain = (\n",
    "    {\n",
    "        \"context\": full_retriever,\n",
    "        \"question\": RunnablePassthrough(),\n",
    "    } \n",
    "    | prompt\n",
    "    | llm\n",
    "    | StrOutputParser()\n",
    ")"
   ]
  },
  {
   "cell_type": "code",
   "execution_count": 82,
   "id": "bcd05c2f",
   "metadata": {},
   "outputs": [
    {
     "name": "stderr",
     "output_type": "stream",
     "text": [
      "Received notification from DBMS server: {severity: WARNING} {code: Neo.ClientNotification.Statement.FeatureDeprecationWarning} {category: DEPRECATION} {title: This feature is deprecated and will be removed in future versions.} {description: CALL subquery without a variable scope clause is now deprecated. Use CALL (node) { ... }} {position: line: 4, column: 13, offset: 132} for query: \"\\n            CALL db.index.fulltext.queryNodes('entityFullTextIndex', $query, {limit: 5})\\n            YIELD node, score\\n            CALL {\\n                WITH node\\n                OPTIONAL MATCH (node)-[:MENTIONS|RELATED_TO|CITED_IN|GENERATED_BY*1..2]-(doc:Document)\\n                RETURN DISTINCT doc.title AS title, doc.abstract AS abstract\\n            }\\n            RETURN title, abstract, score\\n            ORDER BY score DESC\\n            LIMIT 3\\n            \"\n",
      "Received notification from DBMS server: {severity: WARNING} {code: Neo.ClientNotification.Statement.UnknownRelationshipTypeWarning} {category: UNRECOGNIZED} {title: The provided relationship type is not in the database.} {description: One of the relationship types in your query is not available in the database, make sure you didn't misspell it or that the label is available when you run this statement in your application (the missing relationship type is: CITED_IN)} {position: line: 6, column: 61, offset: 225} for query: \"\\n            CALL db.index.fulltext.queryNodes('entityFullTextIndex', $query, {limit: 5})\\n            YIELD node, score\\n            CALL {\\n                WITH node\\n                OPTIONAL MATCH (node)-[:MENTIONS|RELATED_TO|CITED_IN|GENERATED_BY*1..2]-(doc:Document)\\n                RETURN DISTINCT doc.title AS title, doc.abstract AS abstract\\n            }\\n            RETURN title, abstract, score\\n            ORDER BY score DESC\\n            LIMIT 3\\n            \"\n",
      "Received notification from DBMS server: {severity: WARNING} {code: Neo.ClientNotification.Statement.UnknownRelationshipTypeWarning} {category: UNRECOGNIZED} {title: The provided relationship type is not in the database.} {description: One of the relationship types in your query is not available in the database, make sure you didn't misspell it or that the label is available when you run this statement in your application (the missing relationship type is: GENERATED_BY)} {position: line: 6, column: 70, offset: 234} for query: \"\\n            CALL db.index.fulltext.queryNodes('entityFullTextIndex', $query, {limit: 5})\\n            YIELD node, score\\n            CALL {\\n                WITH node\\n                OPTIONAL MATCH (node)-[:MENTIONS|RELATED_TO|CITED_IN|GENERATED_BY*1..2]-(doc:Document)\\n                RETURN DISTINCT doc.title AS title, doc.abstract AS abstract\\n            }\\n            RETURN title, abstract, score\\n            ORDER BY score DESC\\n            LIMIT 3\\n            \"\n",
      "Received notification from DBMS server: {severity: WARNING} {code: Neo.ClientNotification.Statement.UnknownPropertyKeyWarning} {category: UNRECOGNIZED} {title: The provided property key is not in the database} {description: One of the property names in your query is not available in the database, make sure you didn't misspell it or that the label is available when you run this statement in your application (the missing property name is: abstract)} {position: line: 7, column: 57, offset: 324} for query: \"\\n            CALL db.index.fulltext.queryNodes('entityFullTextIndex', $query, {limit: 5})\\n            YIELD node, score\\n            CALL {\\n                WITH node\\n                OPTIONAL MATCH (node)-[:MENTIONS|RELATED_TO|CITED_IN|GENERATED_BY*1..2]-(doc:Document)\\n                RETURN DISTINCT doc.title AS title, doc.abstract AS abstract\\n            }\\n            RETURN title, abstract, score\\n            ORDER BY score DESC\\n            LIMIT 3\\n            \"\n",
      "Received notification from DBMS server: {severity: WARNING} {code: Neo.ClientNotification.Statement.FeatureDeprecationWarning} {category: DEPRECATION} {title: This feature is deprecated and will be removed in future versions.} {description: CALL subquery without a variable scope clause is now deprecated. Use CALL (node) { ... }} {position: line: 4, column: 13, offset: 132} for query: \"\\n            CALL db.index.fulltext.queryNodes('entityFullTextIndex', $query, {limit: 5})\\n            YIELD node, score\\n            CALL {\\n                WITH node\\n                OPTIONAL MATCH (node)-[:MENTIONS|RELATED_TO|CITED_IN|GENERATED_BY*1..2]-(doc:Document)\\n                RETURN DISTINCT doc.title AS title, doc.abstract AS abstract\\n            }\\n            RETURN title, abstract, score\\n            ORDER BY score DESC\\n            LIMIT 3\\n            \"\n",
      "Received notification from DBMS server: {severity: WARNING} {code: Neo.ClientNotification.Statement.UnknownRelationshipTypeWarning} {category: UNRECOGNIZED} {title: The provided relationship type is not in the database.} {description: One of the relationship types in your query is not available in the database, make sure you didn't misspell it or that the label is available when you run this statement in your application (the missing relationship type is: CITED_IN)} {position: line: 6, column: 61, offset: 225} for query: \"\\n            CALL db.index.fulltext.queryNodes('entityFullTextIndex', $query, {limit: 5})\\n            YIELD node, score\\n            CALL {\\n                WITH node\\n                OPTIONAL MATCH (node)-[:MENTIONS|RELATED_TO|CITED_IN|GENERATED_BY*1..2]-(doc:Document)\\n                RETURN DISTINCT doc.title AS title, doc.abstract AS abstract\\n            }\\n            RETURN title, abstract, score\\n            ORDER BY score DESC\\n            LIMIT 3\\n            \"\n",
      "Received notification from DBMS server: {severity: WARNING} {code: Neo.ClientNotification.Statement.UnknownRelationshipTypeWarning} {category: UNRECOGNIZED} {title: The provided relationship type is not in the database.} {description: One of the relationship types in your query is not available in the database, make sure you didn't misspell it or that the label is available when you run this statement in your application (the missing relationship type is: GENERATED_BY)} {position: line: 6, column: 70, offset: 234} for query: \"\\n            CALL db.index.fulltext.queryNodes('entityFullTextIndex', $query, {limit: 5})\\n            YIELD node, score\\n            CALL {\\n                WITH node\\n                OPTIONAL MATCH (node)-[:MENTIONS|RELATED_TO|CITED_IN|GENERATED_BY*1..2]-(doc:Document)\\n                RETURN DISTINCT doc.title AS title, doc.abstract AS abstract\\n            }\\n            RETURN title, abstract, score\\n            ORDER BY score DESC\\n            LIMIT 3\\n            \"\n",
      "Received notification from DBMS server: {severity: WARNING} {code: Neo.ClientNotification.Statement.UnknownPropertyKeyWarning} {category: UNRECOGNIZED} {title: The provided property key is not in the database} {description: One of the property names in your query is not available in the database, make sure you didn't misspell it or that the label is available when you run this statement in your application (the missing property name is: abstract)} {position: line: 7, column: 57, offset: 324} for query: \"\\n            CALL db.index.fulltext.queryNodes('entityFullTextIndex', $query, {limit: 5})\\n            YIELD node, score\\n            CALL {\\n                WITH node\\n                OPTIONAL MATCH (node)-[:MENTIONS|RELATED_TO|CITED_IN|GENERATED_BY*1..2]-(doc:Document)\\n                RETURN DISTINCT doc.title AS title, doc.abstract AS abstract\\n            }\\n            RETURN title, abstract, score\\n            ORDER BY score DESC\\n            LIMIT 3\\n            \"\n",
      "Received notification from DBMS server: {severity: WARNING} {code: Neo.ClientNotification.Statement.FeatureDeprecationWarning} {category: DEPRECATION} {title: This feature is deprecated and will be removed in future versions.} {description: CALL subquery without a variable scope clause is now deprecated. Use CALL () { ... }} {position: line: 1, column: 1, offset: 0} for query: \"CALL { CALL db.index.vector.queryNodes($index, $k, $embedding) YIELD node, score WITH collect({node:node, score:score}) AS nodes, max(score) AS max UNWIND nodes AS n RETURN n.node AS node, (n.score / max) AS score UNION CALL db.index.fulltext.queryNodes($keyword_index, $query, {limit: $k}) YIELD node, score WITH collect({node:node, score:score}) AS nodes, max(score) AS max UNWIND nodes AS n RETURN n.node AS node, (n.score / max) AS score } WITH node, max(score) AS score ORDER BY score DESC LIMIT $k RETURN reduce(str='', k IN ['text', 'source', 'title'] | str + '\\\\n' + k + ': ' + coalesce(node[k], '')) AS text, node {.*, `embedding`: Null, id: Null, `text`: Null, `source`: Null, `title`: Null} AS metadata, score\"\n"
     ]
    }
   ],
   "source": [
    "output = chain.invoke(input=\"What is the syllabus of automata?\")"
   ]
  },
  {
   "cell_type": "code",
   "execution_count": 83,
   "id": "0e88071b",
   "metadata": {},
   "outputs": [
    {
     "data": {
      "text/markdown": [
       "The syllabus for Automata Theory (PCC CS403) includes:\n",
       "\n",
       "* Unit 1: Introduction - Alphabet, languages, and grammars; Chomsky hierarchy of languages\n",
       "* Unit 2: Regular Languages and Finite Automata - Regular expressions and languages, deterministic and nondeterministic finite automata, equivalence with regular expressions, properties of regular languages, pumping lemma for regular languages\n",
       "* Unit 3: Context-Free Languages and Pushdown Automata - Context-free grammars and languages, Chomsky and Greibach normal forms, nondeterministic pushdown automata, parse trees, ambiguity in context-free grammars, closure properties of CFLs\n",
       "* Unit 4: Context-Sensitive Languages - Context-sensitive grammars and languages, linear bounded automata\n",
       "* Unit 5: Turing Machines - Basic model for Turing machines, Turing recognizable, recursively enumerable, and decidable languages, variants of Turing machines\n",
       "\n",
       "The course has a total of 70 marks, with 25 marks allocated to continuous assessment and 45 marks to the final exam."
      ],
      "text/plain": [
       "<IPython.core.display.Markdown object>"
      ]
     },
     "execution_count": 83,
     "metadata": {},
     "output_type": "execute_result"
    }
   ],
   "source": [
    "from IPython.display import Markdown as md\n",
    "md(output)"
   ]
  },
  {
   "cell_type": "code",
   "execution_count": 84,
   "id": "aac9b11a",
   "metadata": {},
   "outputs": [
    {
     "name": "stderr",
     "output_type": "stream",
     "text": [
      "Received notification from DBMS server: {severity: WARNING} {code: Neo.ClientNotification.Statement.FeatureDeprecationWarning} {category: DEPRECATION} {title: This feature is deprecated and will be removed in future versions.} {description: CALL subquery without a variable scope clause is now deprecated. Use CALL () { ... }} {position: line: 1, column: 1, offset: 0} for query: \"CALL { CALL db.index.vector.queryNodes($index, $k, $embedding) YIELD node, score WITH collect({node:node, score:score}) AS nodes, max(score) AS max UNWIND nodes AS n RETURN n.node AS node, (n.score / max) AS score UNION CALL db.index.fulltext.queryNodes($keyword_index, $query, {limit: $k}) YIELD node, score WITH collect({node:node, score:score}) AS nodes, max(score) AS max UNWIND nodes AS n RETURN n.node AS node, (n.score / max) AS score } WITH node, max(score) AS score ORDER BY score DESC LIMIT $k RETURN reduce(str='', k IN ['text', 'source', 'title'] | str + '\\\\n' + k + ': ' + coalesce(node[k], '')) AS text, node {.*, `embedding`: Null, id: Null, `text`: Null, `source`: Null, `title`: Null} AS metadata, score\"\n"
     ]
    },
    {
     "data": {
      "text/markdown": [
       "This document appears to be a syllabus for the Bachelor of Technology in Computer Science and Engineering program at Maulana Abul Kalam Azad University of Technology, effective from Academic Session 2023-24. It outlines the course structure, content, and outcomes for various subjects, including Big Data Analytics, Workshop Practice, and others."
      ],
      "text/plain": [
       "<IPython.core.display.Markdown object>"
      ]
     },
     "execution_count": 84,
     "metadata": {},
     "output_type": "execute_result"
    }
   ],
   "source": [
    "md(chain.invoke(input=\"what is this doc about?\"))"
   ]
  }
 ],
 "metadata": {
  "kernelspec": {
   "display_name": "rag-institute (3.13.2)",
   "language": "python",
   "name": "python3"
  },
  "language_info": {
   "codemirror_mode": {
    "name": "ipython",
    "version": 3
   },
   "file_extension": ".py",
   "mimetype": "text/x-python",
   "name": "python",
   "nbconvert_exporter": "python",
   "pygments_lexer": "ipython3",
   "version": "3.13.2"
  }
 },
 "nbformat": 4,
 "nbformat_minor": 5
}
