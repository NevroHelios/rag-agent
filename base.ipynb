{
 "cells": [
  {
   "cell_type": "code",
   "execution_count": 1,
   "id": "67e38faa",
   "metadata": {},
   "outputs": [
    {
     "name": "stderr",
     "output_type": "stream",
     "text": [
      "c:\\Users\\nevrohelios\\Desktop\\New folder\\rag-institute\\.venv\\Lib\\site-packages\\IPython\\core\\interactiveshell.py:3699: LangChainDeprecationWarning: As of langchain-core 0.3.0, LangChain uses pydantic v2 internally. The langchain_core.pydantic_v1 module was a compatibility shim for pydantic v1, and should no longer be used. Please update the code to import from Pydantic directly.\n",
      "\n",
      "For example, replace imports like: `from langchain_core.pydantic_v1 import BaseModel`\n",
      "with: `from pydantic import BaseModel`\n",
      "or the v1 compatibility namespace if you are working in a code base that has not been fully upgraded to pydantic 2 yet. \tfrom pydantic.v1 import BaseModel\n",
      "\n",
      "  exec(code_obj, self.user_global_ns, self.user_ns)\n"
     ]
    }
   ],
   "source": [
    "from langchain_core.pydantic_v1 import BaseModel, Field\n",
    "from langchain_core.output_parsers import StrOutputParser\n",
    "import os\n",
    "from langchain_community.graphs import Neo4jGraph\n",
    "from langchain.text_splitter import RecursiveCharacterTextSplitter\n",
    "from langchain_ollama.chat_models import ChatOllama\n",
    "from langchain_experimental.graph_transformers import LLMGraphTransformer\n",
    "from neo4j import GraphDatabase\n",
    "from langchain_community.vectorstores import Neo4jVector\n",
    "from langchain_ollama import OllamaEmbeddings\n",
    "from langchain_core.prompts import ChatPromptTemplate\n",
    "from langchain_community.document_loaders import TextLoader, PyMuPDFLoader\n",
    "from langchain_core.runnables import RunnablePassthrough, RunnableConfig\n",
    "from pprint import pprint\n",
    "from langchain_neo4j.vectorstores.neo4j_vector import remove_lucene_chars"
   ]
  },
  {
   "cell_type": "code",
   "execution_count": 2,
   "id": "e4d5e19a",
   "metadata": {},
   "outputs": [
    {
     "data": {
      "text/plain": [
       "True"
      ]
     },
     "execution_count": 2,
     "metadata": {},
     "output_type": "execute_result"
    }
   ],
   "source": [
    "from dotenv import load_dotenv\n",
    "load_dotenv()"
   ]
  },
  {
   "cell_type": "code",
   "execution_count": 3,
   "id": "d54d0c04",
   "metadata": {},
   "outputs": [
    {
     "name": "stdout",
     "output_type": "stream",
     "text": [
      "None\n"
     ]
    }
   ],
   "source": [
    "print(os.getenv(\"NEO4J_DATABASE\"))"
   ]
  },
  {
   "cell_type": "code",
   "execution_count": 4,
   "id": "c039635e",
   "metadata": {},
   "outputs": [
    {
     "name": "stderr",
     "output_type": "stream",
     "text": [
      "C:\\Users\\nevrohelios\\AppData\\Local\\Temp\\ipykernel_22744\\1992970749.py:1: LangChainDeprecationWarning: The class `Neo4jGraph` was deprecated in LangChain 0.3.8 and will be removed in 1.0. An updated version of the class exists in the :class:`~langchain-neo4j package and should be used instead. To use it run `pip install -U :class:`~langchain-neo4j` and import as `from :class:`~langchain_neo4j import Neo4jGraph``.\n",
      "  graph = Neo4jGraph(\n"
     ]
    }
   ],
   "source": [
    "graph = Neo4jGraph(\n",
    "    url=os.getenv(\"NEO4J_URI\"),\n",
    "    username=os.getenv(\"NEO4J_USERNAME\"),\n",
    "    password=os.getenv(\"NEO4J_PASSWORD\"),\n",
    "    database=\"neo4j\",\n",
    ")"
   ]
  },
  {
   "cell_type": "code",
   "execution_count": 11,
   "id": "93a763c5",
   "metadata": {},
   "outputs": [],
   "source": [
    "loader = PyMuPDFLoader(\"data/AllSem23.pdf\")\n",
    "docs = loader.load()\n",
    "\n",
    "text_splitter = RecursiveCharacterTextSplitter(chunk_size=3000, chunk_overlap=200)\n",
    "documents = text_splitter.split_documents(docs)"
   ]
  },
  {
   "cell_type": "code",
   "execution_count": 15,
   "id": "d90b8576",
   "metadata": {},
   "outputs": [],
   "source": [
    "for doc in documents:\n",
    "    doc.page_content = remove_lucene_chars(doc.page_content)\n",
    "    doc.page_content = doc.page_content.replace(\"\\n\", \" \")"
   ]
  },
  {
   "cell_type": "code",
   "execution_count": 17,
   "id": "210dd479",
   "metadata": {},
   "outputs": [
    {
     "name": "stdout",
     "output_type": "stream",
     "text": [
      "('Maulana Abul Kalam Azad University of Technology  Formerly West Bengal '\n",
      " 'University of Technology  Syllabus and Curricular Mapping for B. Tech. in '\n",
      " 'Computer Science and Engineering Effective from Academic Session 2023 24 '\n",
      " 'Page 43   81 of inherited attributes. 5 Type checking  4L  Type systems, '\n",
      " 'Specification of a simple type checker, Equivalence of type expressions, '\n",
      " 'Type conversions 4 6 Run time environments  5L  Source language issues  '\n",
      " 'Activation trees, Control stack, scope of declaration, Binding of names , '\n",
      " 'Storage organization  Subdivision of run time memory, Activation records , '\n",
      " 'Storage allocation strategies, Parameter passing  call by value, call by '\n",
      " 'reference, copy restore, call by name , Symbol tables, dynamic storage '\n",
      " 'allocation techniques 5 7 Intermediate code generation  4L  Intermediate '\n",
      " 'languages, Graphical representation, Three  address code, Implementation of '\n",
      " 'three address statements  Quadruples, Triples, Indirect triples . 4 8 Code '\n",
      " 'optimization  5L  Introduction, Basic blocks   flow graphs, Transformation '\n",
      " 'of basic blocks, Dag representation of basic blocks, The principle sources '\n",
      " 'of optimization, Loops in flow graph, Peephole optimization. 5 9 Code '\n",
      " 'generations  4L  Issues in the design of code generator, a simple code '\n",
      " 'generator, Register allocation   assignment 4 COURSE OUTCOMES  COs  On '\n",
      " 'completion of the course students will be able to Course Outcomes Details '\n",
      " 'Action Verb Knowledge Level PCC CS502.CO1 Demonstrate the concepts of '\n",
      " 'Operating System Services, System calls, structure and types. Demonstrate K2 '\n",
      " 'PCC CS502.CO2 Discuss processes and threads for multiprogramming and multi '\n",
      " 'threading. Discuss K6 PCC CS502.CO3 Develop algorithms for process '\n",
      " 'scheduling for a given specification of CPU utilization, Throughput, '\n",
      " 'Turnaround Time, Waiting Time, Response Develop K3 PCC CS502.CO4 Explain '\n",
      " 'algorithmic solutions to process synchronization problems for Inter Process '\n",
      " 'communication Explain K5 PCC CS502.CO5 Analyse the necessary conditions for '\n",
      " 'Deadlock avoidance and prevention to solve them. Analyze K6 PCC CS502.CO6 '\n",
      " 'Explain Memory management, Virtual Memory, I O Hardware, File and Disk '\n",
      " 'Management system. Explain K2 Mapping of COs with POs and PSOs  Course '\n",
      " 'Articulation Matrix   PO1 PO2 PO3 PO4 PO5 PO6 PO7 PO8 PO9 PO10 PO11 PO12 '\n",
      " 'PSO1 PSO2 CO1 3 1 1 1   2 2 3 2 3   2 3 3 CO2 3 2 1 1 2     3 3 1 1 3 3 2 '\n",
      " 'CO3 3 2 3 1 1     2 3 2 2 2 3 2 CO4 3 3 3 2       3 3 2 2 2 3 2 CO5 3 2 1 1 '\n",
      " '3     2 3 1 2 2 3 2 CO6 3 2 2 1       2 2   2 1 3 2 AVG. 3 2 1.83 1.167 2 2 '\n",
      " '2 2.5 2.667 1.8 1.8 2 3.00 2.17 Course Title  Operating Systems Code  PCC '\n",
      " 'CS502 Type Of Course  Theory Course Designation  Compulsory Semester  5th '\n",
      " 'Contact Hours  3L week Continuous Assessment  25 Marks Final Exam  70 Marks '\n",
      " 'Writer  Course Coordinator Approved by HoD  convenor of DAB')\n"
     ]
    }
   ],
   "source": [
    "pprint(documents[56].page_content)"
   ]
  },
  {
   "cell_type": "code",
   "execution_count": 18,
   "id": "8ba8be96",
   "metadata": {},
   "outputs": [
    {
     "name": "stdout",
     "output_type": "stream",
     "text": [
      "105\n"
     ]
    }
   ],
   "source": [
    "print(len(documents))"
   ]
  },
  {
   "cell_type": "code",
   "execution_count": 19,
   "id": "35a44c7d",
   "metadata": {},
   "outputs": [],
   "source": [
    "llm = ChatOllama(\n",
    "    model=\"llama3.1:8b\",\n",
    "    temperature=0,\n",
    ").with_config({\"max_retries\": 3})\n",
    "llm_transformer = LLMGraphTransformer(llm=llm)\n",
    "graph_docs = llm_transformer.convert_to_graph_documents(documents)"
   ]
  },
  {
   "cell_type": "code",
   "execution_count": 20,
   "id": "39080cd2",
   "metadata": {},
   "outputs": [
    {
     "data": {
      "text/plain": [
       "GraphDocument(nodes=[Node(id='Maulana Abul Kalam Azad University Of Technology', type='Organization', properties={}), Node(id='West Bengal University Of Technology', type='Organization', properties={})], relationships=[Relationship(source=Node(id='Maulana Abul Kalam Azad University Of Technology', type='Organization', properties={}), target=Node(id='West Bengal University Of Technology', type='Organization', properties={}), type='FORMERLY_KNOWN_AS', properties={})], source=Document(metadata={'producer': 'Microsoft: Print To PDF', 'creator': '', 'creationdate': '2023-05-23T13:52:40+05:30', 'source': 'data/AllSem23.pdf', 'file_path': 'data/AllSem23.pdf', 'total_pages': 81, 'format': 'PDF 1.7', 'title': 'Syllabus & Curriculum Mapping B Tech (CSE) (1).docx', 'author': 'MAKAUT 10', 'subject': '', 'keywords': '', 'moddate': '2023-05-23T13:52:40+05:30', 'trapped': '', 'modDate': \"D:20230523135240+05'30'\", 'creationDate': \"D:20230523135240+05'30'\", 'page': 0}, page_content='Maulana Abul Kalam Azad University of Technology  Formerly West Bengal University of Technology  Syllabus and Curricular Mapping for B. Tech. in Computer Science and Engineering Effective from Academic Session 2023 24 Page 1   81 P23  Mapping of Course Outcomes with Program Outcomes PROGRAM OUTCOME  POs  Engineering Graduates will be able to  1. Engineering Knowledge  Apply the knowledge of mathematics, science, engineering fundamentals, and an engineering specialization to the solution of complex engineering problems. 2. Problem analysis  Identify, formulate, research literature, and analyse complex engineering problems reaching substantiated conclusions using first principles of mathematics, natural sciences, and engineering sciences. 3. Design development of solutions  Design solutions for complex engineering problems and design system components or processes that meet the specified needs with appropriate consideration for the public health and safety, and the cultural, societal, and environmental considerations. 4. Conduct investigations of complex problems  Use research based knowledge and research methods including design of experiments, analysis and interpretation of data, and synthesis of the information to provide valid conclusions. 5. Modern Tool Usage  Create, select, and apply appropriate techniques, resources, and modern engineering and IT tools including prediction and modeling to complex engineering activities with an understanding of the limitations. 6. The Engineer and Society  Apply reasoning informed by the contextual knowledge to assess societal, health, safety, legal, and cultural issues and the consequent responsibilities relevant to the professional engineering practice. 7. Environment and Sustainability  Understand the impact of the professional engineering solutions in societal and environmental contexts, and demonstrate the knowledge of need for sustainable development. 8. Ethics  Apply ethical principles and commit to professional ethics and responsibilities and norms of the engineering practice. 9. Individual and Team Work  Function effectively as an individual, and as a member or leader in diverse teams, and in multidisciplinary settings. 10. Communication  Communicate effectively on complex engineering activities with the engineering community and with society at large, such as, being able to comprehend andwrite effective reports and design documentation, make effective presentations, and giveand receive clear instructions. 11. Project Management and Finance  Demonstrate knowledge and understanding of the engineering and management principles and apply these to one’s own work, as a member and leader in a team, to manage projects and in multidisciplinary environments. 12. Life long learning  Recognize the need for, and have the preparation and ability to engage in independent and life long learning in the broadest context of technological change. MODEL PROGRAM SPECIFIC OUTCOMES  PSOs  1.'))"
      ]
     },
     "execution_count": 20,
     "metadata": {},
     "output_type": "execute_result"
    }
   ],
   "source": [
    "graph_docs[0]"
   ]
  },
  {
   "cell_type": "code",
   "execution_count": 21,
   "id": "947b179a",
   "metadata": {},
   "outputs": [],
   "source": [
    "graph.add_graph_documents(\n",
    "    graph_documents=graph_docs,\n",
    "    baseEntityLabel=True,\n",
    "    include_source=True\n",
    ")"
   ]
  },
  {
   "cell_type": "code",
   "execution_count": 44,
   "id": "9b29b676",
   "metadata": {},
   "outputs": [],
   "source": [
    "embedding_model = OllamaEmbeddings(\n",
    "    model=\"nomic-embed-text:latest\"\n",
    ")"
   ]
  },
  {
   "cell_type": "code",
   "execution_count": null,
   "id": "360355d5",
   "metadata": {},
   "outputs": [
    {
     "data": {
      "text/plain": [
       "[]"
      ]
     },
     "execution_count": 45,
     "metadata": {},
     "output_type": "execute_result"
    }
   ],
   "source": [
    "# graph.query(\"DROP INDEX vector IF EXISTS\")\n",
    "# graph.query(\n",
    "#     \"CREATE FULLTEXT INDEX documentFullTextIndex IF NOT EXISTS \"\n",
    "#     \"FOR (n:Document) ON EACH [n.text, n.source, n.title]\"\n",
    "# )"
   ]
  },
  {
   "cell_type": "code",
   "execution_count": 47,
   "id": "e8459d45",
   "metadata": {},
   "outputs": [],
   "source": [
    "vector_index = Neo4jVector.from_existing_graph(\n",
    "    embedding=embedding_model,\n",
    "    search_type=\"hybrid\",\n",
    "    node_label=\"Document\",\n",
    "    text_node_properties=[\"text\", \"source\", \"title\"],\n",
    "    embedding_node_property=\"embedding\",\n",
    "    keyword_index_name=\"documentFullTextIndex\" \n",
    ")\n",
    "vector_retriever = vector_index.as_retriever()"
   ]
  },
  {
   "cell_type": "code",
   "execution_count": 51,
   "id": "b9e04110",
   "metadata": {},
   "outputs": [
    {
     "name": "stderr",
     "output_type": "stream",
     "text": [
      "Received notification from DBMS server: {severity: WARNING} {code: Neo.ClientNotification.Statement.FeatureDeprecationWarning} {category: DEPRECATION} {title: This feature is deprecated and will be removed in future versions.} {description: CALL subquery without a variable scope clause is now deprecated. Use CALL () { ... }} {position: line: 1, column: 1, offset: 0} for query: \"CALL { CALL db.index.vector.queryNodes($index, $k, $embedding) YIELD node, score WITH collect({node:node, score:score}) AS nodes, max(score) AS max UNWIND nodes AS n RETURN n.node AS node, (n.score / max) AS score UNION CALL db.index.fulltext.queryNodes($keyword_index, $query, {limit: $k}) YIELD node, score WITH collect({node:node, score:score}) AS nodes, max(score) AS max UNWIND nodes AS n RETURN n.node AS node, (n.score / max) AS score } WITH node, max(score) AS score ORDER BY score DESC LIMIT $k RETURN reduce(str='', k IN ['text', 'source', 'title'] | str + '\\\\n' + k + ': ' + coalesce(node[k], '')) AS text, node {.*, `embedding`: Null, id: Null, `text`: Null, `source`: Null, `title`: Null} AS metadata, score\"\n"
     ]
    },
    {
     "name": "stdout",
     "output_type": "stream",
     "text": [
      "('\\n'\n",
      " 'text: line) and geomagnetic storms (red line) have been automati-\\n'\n",
      " 'cally detected. For each quantity relevant to the forecasting of\\n'\n",
      " 'geoeffective CMEs, the corresponding 97.5% threshold typical\\n'\n",
      " 'of the unperturbed solar wind plasma is shown as a red dashed\\n'\n",
      " 'line and regions with exceeding values are ﬂagged by solid\\n'\n",
      " 'lines.\\n'\n",
      " 'In the time scanned interval, the solar wind, which shows the\\n'\n",
      " 'characteristic pattern of alternating high- and low-speed\\n'\n",
      " 'streams in the ecliptic plane (ﬁrst panel), is highly structured.\\n'\n",
      " 'Indeed, in two months, a dozen intervals about 12 hr long or\\n'\n",
      " 'source: '\n",
      " 'data/2019_ApJ_Telloni_et_al._DetectionofCoronalMassEjectionsatL1andForecastofTheirGeoeffectiveness.pdf\\n'\n",
      " 'title: Detection of Coronal Mass Ejections at L1 and Forecast of Their '\n",
      " 'Geoeffectiveness')\n"
     ]
    }
   ],
   "source": [
    "res = vector_retriever.invoke(\n",
    "    \"Automata syllabus?\",\n",
    "    top_k=5,\n",
    "    similarity_threshold=0.7,\n",
    "    include_embeddings=True\n",
    ")\n",
    "pprint(res[0].model_dump()[\"page_content\"])"
   ]
  },
  {
   "cell_type": "code",
   "execution_count": null,
   "id": "7a6d6109",
   "metadata": {},
   "outputs": [],
   "source": [
    "class Entities(BaseModel):\n",
    "    \"\"\"Identifying information about entities in the text.\"\"\"\n",
    "\n",
    "    address: str = Field(description=\"An address, such as a street address or a location.\")\n",
    "    attribute: str = Field(description=\"An attribute or characteristic of an entity.\")\n",
    "    author: str = Field(description=\"A single author of the paper or a cited work.\")\n",
    "    authors: str = Field(description=\"List of authors associated with the paper.\")\n",
    "    chunk: str = Field(description=\"A section or meaningful unit of the text.\")\n",
    "    company: str = Field(description=\"A company or corporate entity mentioned in the text.\")\n",
    "    concept: str = Field(description=\"An abstract idea, principle, or domain-specific notion.\")\n",
    "    curve: str = Field(description=\"A graphical representation or mathematical curve described in the paper.\")\n",
    "    cycle: str = Field(description=\"A repeated process or time cycle referenced in the study.\")\n",
    "    data: str = Field(description=\"Specific data values, raw or processed, mentioned in the paper.\")\n",
    "    dataset: str = Field(description=\"A collection of data used, referenced, or produced in the study.\")\n",
    "    department: str = Field(description=\"A specific department within an organization or institution.\")\n",
    "    distribution: str = Field(description=\"The statistical or spatial distribution of data or variables.\")\n",
    "    document: str = Field(description=\"A referenced or related document, article, or paper.\")\n",
    "    electric_current: str = Field(description=\"Mentions of electric current or related electrical measurements.\")\n",
    "    entity: str = Field(description=\"A general named entity not otherwise categorized.\")\n",
    "    environment: str = Field(description=\"The environmental context or conditions mentioned.\")\n",
    "    equation: str = Field(description=\"A mathematical equation or formula stated in the text.\")\n",
    "    event: str = Field(description=\"An occurrence or happening described in the context of the study.\")\n",
    "    figure: str = Field(description=\"A referenced figure, chart, or diagram within the paper.\")\n",
    "    function: str = Field(description=\"A mathematical or computational function described or used.\")\n",
    "    group: str = Field(description=\"A collection of people, items, or elements considered together.\")\n",
    "    index: str = Field(description=\"An index value or indexing term used in the paper.\")\n",
    "    instrument: str = Field(description=\"A scientific or technical instrument used in data collection.\")\n",
    "    journal: str = Field(description=\"The journal where the paper or referenced articles are published.\")\n",
    "    location: str = Field(description=\"A geographic location or place mentioned.\")\n",
    "    magnetometer: str = Field(description=\"A specific instrument measuring magnetic fields.\")\n",
    "    measurement: str = Field(description=\"The act or result of measuring a quantity.\")\n",
    "    number: str = Field(description=\"A numerical value mentioned in the text.\")\n",
    "    orcid_id: str = Field(description=\"The ORCID identifier for an author.\")\n",
    "    organization: str = Field(description=\"An organization or institution involved or referenced.\")\n",
    "    person: str = Field(description=\"A named individual mentioned in the text.\")\n",
    "    phenomenon: str = Field(description=\"A scientific or observable phenomenon discussed.\")\n",
    "    planet: str = Field(description=\"A planet mentioned in the astronomical or environmental context.\")\n",
    "    publication: str = Field(description=\"A published work referenced or discussed.\")\n",
    "    quantity: str = Field(description=\"A measurable amount or value.\")\n",
    "    reference: str = Field(description=\"A citation or bibliographic reference.\")\n",
    "    region: str = Field(description=\"A specific area or region, geographic or conceptual.\")\n",
    "    resource: str = Field(description=\"Any resource—material, computational, or informational—mentioned.\")\n",
    "    satellite: str = Field(description=\"A satellite referenced in context to data collection or observation.\")\n",
    "    spacecraft: str = Field(description=\"A spacecraft or probe mentioned in the study.\")\n",
    "    state: str = Field(description=\"A physical or logical state or condition of a system or material.\")\n",
    "    structure: str = Field(description=\"A physical, logical, or organizational structure.\")\n",
    "    system: str = Field(description=\"A system—technical, natural, or conceptual—described in the paper.\")\n",
    "    thresholds: str = Field(description=\"Threshold values or limits defined or measured.\")\n",
    "    time_unit: str = Field(description=\"Units of time used in measurements or descriptions.\")\n",
    "    tool: str = Field(description=\"A software or hardware tool used in the analysis or study.\")\n",
    "    unit_of_measurement: str = Field(description=\"A standardized unit for measuring variables.\")\n",
    "    value: str = Field(description=\"A specific value, usually numerical or categorical, relevant to the context.\")\n",
    "    variable: str = Field(description=\"A changing or measured quantity in the study.\")\n",
    "    website: str = Field(description=\"A URL or web-based resource referenced.\")\n",
    "    year: str = Field(description=\"A specific year mentioned in the paper.\")\n"
   ]
  },
  {
   "cell_type": "code",
   "execution_count": 28,
   "id": "269fd984",
   "metadata": {},
   "outputs": [],
   "source": [
    "prompt = ChatPromptTemplate.from_messages(\n",
    "    [\n",
    "        (\n",
    "            \"system\",\n",
    "            \"You are an expert in scientific papers. Your task is to extract entities from the text. \"\n",
    "        ),\n",
    "        (\n",
    "            \"human\",\n",
    "            \"Use the given format to extract information from the following\"\n",
    "            \"input: {question}\"\n",
    "        )\n",
    "    ]\n",
    ")\n",
    "\n",
    "entity_chain = prompt | llm.with_structured_output(Entities)"
   ]
  },
  {
   "cell_type": "code",
   "execution_count": 52,
   "id": "544d082f",
   "metadata": {},
   "outputs": [
    {
     "data": {
      "text/plain": [
       "''"
      ]
     },
     "execution_count": 52,
     "metadata": {},
     "output_type": "execute_result"
    }
   ],
   "source": [
    "entities = entity_chain.invoke(\n",
    "    {\"question\": \"What is cme?\"}\n",
    ")\n",
    "\n",
    "entities.author"
   ]
  },
  {
   "cell_type": "code",
   "execution_count": 53,
   "id": "33ae680b",
   "metadata": {},
   "outputs": [
    {
     "data": {
      "text/plain": [
       "Entities(address='', attribute='cme', author='', authors='', chunk='What is cme?', company='', concept='cme', curve='', cycle='', data='', dataset='', department='', distribution='', document='', electric_current='', entity='cme', environment='', equation='', event='', figure='', function='', group='', index='', instrument='', journal='', location='', magnetometer='', measurement='', number='', orcid_id='', organization='', person='', phenomenon='', planet='', publication='', quantity='', reference='', region='', resource='', satellite='', spacecraft='', state='', structure='', system='', thresholds='', time_unit='', tool='', unit_of_measurement='', value='', variable='', website='', year='')"
      ]
     },
     "execution_count": 53,
     "metadata": {},
     "output_type": "execute_result"
    }
   ],
   "source": [
    "entities"
   ]
  },
  {
   "cell_type": "code",
   "execution_count": null,
   "id": "25e2a11f",
   "metadata": {},
   "outputs": [
    {
     "name": "stderr",
     "output_type": "stream",
     "text": [
      "Received notification from DBMS server: {severity: WARNING} {code: Neo.ClientNotification.Statement.FeatureDeprecationWarning} {category: DEPRECATION} {title: This feature is deprecated and will be removed in future versions.} {description: CALL subquery without a variable scope clause is now deprecated. Use CALL (node) { ... }} {position: line: 4, column: 13, offset: 132} for query: \"\\n            CALL db.index.fulltext.queryNodes('entityFullTextIndex', $query, {limit: 5})\\n            YIELD node, score\\n            CALL {\\n                WITH node\\n                OPTIONAL MATCH (node)-[:MENTIONS|RELATED_TO|CITED_IN|GENERATED_BY*1..2]-(doc:Document)\\n                RETURN DISTINCT doc.title AS title, doc.abstract AS abstract\\n            }\\n            RETURN title, abstract, score\\n            ORDER BY score DESC\\n            LIMIT 3\\n            \"\n",
      "Received notification from DBMS server: {severity: WARNING} {code: Neo.ClientNotification.Statement.UnknownRelationshipTypeWarning} {category: UNRECOGNIZED} {title: The provided relationship type is not in the database.} {description: One of the relationship types in your query is not available in the database, make sure you didn't misspell it or that the label is available when you run this statement in your application (the missing relationship type is: CITED_IN)} {position: line: 6, column: 61, offset: 225} for query: \"\\n            CALL db.index.fulltext.queryNodes('entityFullTextIndex', $query, {limit: 5})\\n            YIELD node, score\\n            CALL {\\n                WITH node\\n                OPTIONAL MATCH (node)-[:MENTIONS|RELATED_TO|CITED_IN|GENERATED_BY*1..2]-(doc:Document)\\n                RETURN DISTINCT doc.title AS title, doc.abstract AS abstract\\n            }\\n            RETURN title, abstract, score\\n            ORDER BY score DESC\\n            LIMIT 3\\n            \"\n",
      "Received notification from DBMS server: {severity: WARNING} {code: Neo.ClientNotification.Statement.UnknownRelationshipTypeWarning} {category: UNRECOGNIZED} {title: The provided relationship type is not in the database.} {description: One of the relationship types in your query is not available in the database, make sure you didn't misspell it or that the label is available when you run this statement in your application (the missing relationship type is: GENERATED_BY)} {position: line: 6, column: 70, offset: 234} for query: \"\\n            CALL db.index.fulltext.queryNodes('entityFullTextIndex', $query, {limit: 5})\\n            YIELD node, score\\n            CALL {\\n                WITH node\\n                OPTIONAL MATCH (node)-[:MENTIONS|RELATED_TO|CITED_IN|GENERATED_BY*1..2]-(doc:Document)\\n                RETURN DISTINCT doc.title AS title, doc.abstract AS abstract\\n            }\\n            RETURN title, abstract, score\\n            ORDER BY score DESC\\n            LIMIT 3\\n            \"\n",
      "Received notification from DBMS server: {severity: WARNING} {code: Neo.ClientNotification.Statement.UnknownPropertyKeyWarning} {category: UNRECOGNIZED} {title: The provided property key is not in the database} {description: One of the property names in your query is not available in the database, make sure you didn't misspell it or that the label is available when you run this statement in your application (the missing property name is: abstract)} {position: line: 7, column: 57, offset: 324} for query: \"\\n            CALL db.index.fulltext.queryNodes('entityFullTextIndex', $query, {limit: 5})\\n            YIELD node, score\\n            CALL {\\n                WITH node\\n                OPTIONAL MATCH (node)-[:MENTIONS|RELATED_TO|CITED_IN|GENERATED_BY*1..2]-(doc:Document)\\n                RETURN DISTINCT doc.title AS title, doc.abstract AS abstract\\n            }\\n            RETURN title, abstract, score\\n            ORDER BY score DESC\\n            LIMIT 3\\n            \"\n",
      "Received notification from DBMS server: {severity: WARNING} {code: Neo.ClientNotification.Statement.FeatureDeprecationWarning} {category: DEPRECATION} {title: This feature is deprecated and will be removed in future versions.} {description: CALL subquery without a variable scope clause is now deprecated. Use CALL (node) { ... }} {position: line: 4, column: 13, offset: 132} for query: \"\\n            CALL db.index.fulltext.queryNodes('entityFullTextIndex', $query, {limit: 5})\\n            YIELD node, score\\n            CALL {\\n                WITH node\\n                OPTIONAL MATCH (node)-[:MENTIONS|RELATED_TO|CITED_IN|GENERATED_BY*1..2]-(doc:Document)\\n                RETURN DISTINCT doc.title AS title, doc.abstract AS abstract\\n            }\\n            RETURN title, abstract, score\\n            ORDER BY score DESC\\n            LIMIT 3\\n            \"\n",
      "Received notification from DBMS server: {severity: WARNING} {code: Neo.ClientNotification.Statement.UnknownRelationshipTypeWarning} {category: UNRECOGNIZED} {title: The provided relationship type is not in the database.} {description: One of the relationship types in your query is not available in the database, make sure you didn't misspell it or that the label is available when you run this statement in your application (the missing relationship type is: CITED_IN)} {position: line: 6, column: 61, offset: 225} for query: \"\\n            CALL db.index.fulltext.queryNodes('entityFullTextIndex', $query, {limit: 5})\\n            YIELD node, score\\n            CALL {\\n                WITH node\\n                OPTIONAL MATCH (node)-[:MENTIONS|RELATED_TO|CITED_IN|GENERATED_BY*1..2]-(doc:Document)\\n                RETURN DISTINCT doc.title AS title, doc.abstract AS abstract\\n            }\\n            RETURN title, abstract, score\\n            ORDER BY score DESC\\n            LIMIT 3\\n            \"\n",
      "Received notification from DBMS server: {severity: WARNING} {code: Neo.ClientNotification.Statement.UnknownRelationshipTypeWarning} {category: UNRECOGNIZED} {title: The provided relationship type is not in the database.} {description: One of the relationship types in your query is not available in the database, make sure you didn't misspell it or that the label is available when you run this statement in your application (the missing relationship type is: GENERATED_BY)} {position: line: 6, column: 70, offset: 234} for query: \"\\n            CALL db.index.fulltext.queryNodes('entityFullTextIndex', $query, {limit: 5})\\n            YIELD node, score\\n            CALL {\\n                WITH node\\n                OPTIONAL MATCH (node)-[:MENTIONS|RELATED_TO|CITED_IN|GENERATED_BY*1..2]-(doc:Document)\\n                RETURN DISTINCT doc.title AS title, doc.abstract AS abstract\\n            }\\n            RETURN title, abstract, score\\n            ORDER BY score DESC\\n            LIMIT 3\\n            \"\n",
      "Received notification from DBMS server: {severity: WARNING} {code: Neo.ClientNotification.Statement.UnknownPropertyKeyWarning} {category: UNRECOGNIZED} {title: The provided property key is not in the database} {description: One of the property names in your query is not available in the database, make sure you didn't misspell it or that the label is available when you run this statement in your application (the missing property name is: abstract)} {position: line: 7, column: 57, offset: 324} for query: \"\\n            CALL db.index.fulltext.queryNodes('entityFullTextIndex', $query, {limit: 5})\\n            YIELD node, score\\n            CALL {\\n                WITH node\\n                OPTIONAL MATCH (node)-[:MENTIONS|RELATED_TO|CITED_IN|GENERATED_BY*1..2]-(doc:Document)\\n                RETURN DISTINCT doc.title AS title, doc.abstract AS abstract\\n            }\\n            RETURN title, abstract, score\\n            ORDER BY score DESC\\n            LIMIT 3\\n            \"\n",
      "Received notification from DBMS server: {severity: WARNING} {code: Neo.ClientNotification.Statement.FeatureDeprecationWarning} {category: DEPRECATION} {title: This feature is deprecated and will be removed in future versions.} {description: CALL subquery without a variable scope clause is now deprecated. Use CALL (node) { ... }} {position: line: 4, column: 13, offset: 132} for query: \"\\n            CALL db.index.fulltext.queryNodes('entityFullTextIndex', $query, {limit: 5})\\n            YIELD node, score\\n            CALL {\\n                WITH node\\n                OPTIONAL MATCH (node)-[:MENTIONS|RELATED_TO|CITED_IN|GENERATED_BY*1..2]-(doc:Document)\\n                RETURN DISTINCT doc.title AS title, doc.abstract AS abstract\\n            }\\n            RETURN title, abstract, score\\n            ORDER BY score DESC\\n            LIMIT 3\\n            \"\n",
      "Received notification from DBMS server: {severity: WARNING} {code: Neo.ClientNotification.Statement.UnknownRelationshipTypeWarning} {category: UNRECOGNIZED} {title: The provided relationship type is not in the database.} {description: One of the relationship types in your query is not available in the database, make sure you didn't misspell it or that the label is available when you run this statement in your application (the missing relationship type is: CITED_IN)} {position: line: 6, column: 61, offset: 225} for query: \"\\n            CALL db.index.fulltext.queryNodes('entityFullTextIndex', $query, {limit: 5})\\n            YIELD node, score\\n            CALL {\\n                WITH node\\n                OPTIONAL MATCH (node)-[:MENTIONS|RELATED_TO|CITED_IN|GENERATED_BY*1..2]-(doc:Document)\\n                RETURN DISTINCT doc.title AS title, doc.abstract AS abstract\\n            }\\n            RETURN title, abstract, score\\n            ORDER BY score DESC\\n            LIMIT 3\\n            \"\n",
      "Received notification from DBMS server: {severity: WARNING} {code: Neo.ClientNotification.Statement.UnknownRelationshipTypeWarning} {category: UNRECOGNIZED} {title: The provided relationship type is not in the database.} {description: One of the relationship types in your query is not available in the database, make sure you didn't misspell it or that the label is available when you run this statement in your application (the missing relationship type is: GENERATED_BY)} {position: line: 6, column: 70, offset: 234} for query: \"\\n            CALL db.index.fulltext.queryNodes('entityFullTextIndex', $query, {limit: 5})\\n            YIELD node, score\\n            CALL {\\n                WITH node\\n                OPTIONAL MATCH (node)-[:MENTIONS|RELATED_TO|CITED_IN|GENERATED_BY*1..2]-(doc:Document)\\n                RETURN DISTINCT doc.title AS title, doc.abstract AS abstract\\n            }\\n            RETURN title, abstract, score\\n            ORDER BY score DESC\\n            LIMIT 3\\n            \"\n",
      "Received notification from DBMS server: {severity: WARNING} {code: Neo.ClientNotification.Statement.UnknownPropertyKeyWarning} {category: UNRECOGNIZED} {title: The provided property key is not in the database} {description: One of the property names in your query is not available in the database, make sure you didn't misspell it or that the label is available when you run this statement in your application (the missing property name is: abstract)} {position: line: 7, column: 57, offset: 324} for query: \"\\n            CALL db.index.fulltext.queryNodes('entityFullTextIndex', $query, {limit: 5})\\n            YIELD node, score\\n            CALL {\\n                WITH node\\n                OPTIONAL MATCH (node)-[:MENTIONS|RELATED_TO|CITED_IN|GENERATED_BY*1..2]-(doc:Document)\\n                RETURN DISTINCT doc.title AS title, doc.abstract AS abstract\\n            }\\n            RETURN title, abstract, score\\n            ORDER BY score DESC\\n            LIMIT 3\\n            \"\n",
      "Received notification from DBMS server: {severity: WARNING} {code: Neo.ClientNotification.Statement.FeatureDeprecationWarning} {category: DEPRECATION} {title: This feature is deprecated and will be removed in future versions.} {description: CALL subquery without a variable scope clause is now deprecated. Use CALL (node) { ... }} {position: line: 4, column: 13, offset: 132} for query: \"\\n            CALL db.index.fulltext.queryNodes('entityFullTextIndex', $query, {limit: 5})\\n            YIELD node, score\\n            CALL {\\n                WITH node\\n                OPTIONAL MATCH (node)-[:MENTIONS|RELATED_TO|CITED_IN|GENERATED_BY*1..2]-(doc:Document)\\n                RETURN DISTINCT doc.title AS title, doc.abstract AS abstract\\n            }\\n            RETURN title, abstract, score\\n            ORDER BY score DESC\\n            LIMIT 3\\n            \"\n",
      "Received notification from DBMS server: {severity: WARNING} {code: Neo.ClientNotification.Statement.UnknownRelationshipTypeWarning} {category: UNRECOGNIZED} {title: The provided relationship type is not in the database.} {description: One of the relationship types in your query is not available in the database, make sure you didn't misspell it or that the label is available when you run this statement in your application (the missing relationship type is: CITED_IN)} {position: line: 6, column: 61, offset: 225} for query: \"\\n            CALL db.index.fulltext.queryNodes('entityFullTextIndex', $query, {limit: 5})\\n            YIELD node, score\\n            CALL {\\n                WITH node\\n                OPTIONAL MATCH (node)-[:MENTIONS|RELATED_TO|CITED_IN|GENERATED_BY*1..2]-(doc:Document)\\n                RETURN DISTINCT doc.title AS title, doc.abstract AS abstract\\n            }\\n            RETURN title, abstract, score\\n            ORDER BY score DESC\\n            LIMIT 3\\n            \"\n",
      "Received notification from DBMS server: {severity: WARNING} {code: Neo.ClientNotification.Statement.UnknownRelationshipTypeWarning} {category: UNRECOGNIZED} {title: The provided relationship type is not in the database.} {description: One of the relationship types in your query is not available in the database, make sure you didn't misspell it or that the label is available when you run this statement in your application (the missing relationship type is: GENERATED_BY)} {position: line: 6, column: 70, offset: 234} for query: \"\\n            CALL db.index.fulltext.queryNodes('entityFullTextIndex', $query, {limit: 5})\\n            YIELD node, score\\n            CALL {\\n                WITH node\\n                OPTIONAL MATCH (node)-[:MENTIONS|RELATED_TO|CITED_IN|GENERATED_BY*1..2]-(doc:Document)\\n                RETURN DISTINCT doc.title AS title, doc.abstract AS abstract\\n            }\\n            RETURN title, abstract, score\\n            ORDER BY score DESC\\n            LIMIT 3\\n            \"\n",
      "Received notification from DBMS server: {severity: WARNING} {code: Neo.ClientNotification.Statement.UnknownPropertyKeyWarning} {category: UNRECOGNIZED} {title: The provided property key is not in the database} {description: One of the property names in your query is not available in the database, make sure you didn't misspell it or that the label is available when you run this statement in your application (the missing property name is: abstract)} {position: line: 7, column: 57, offset: 324} for query: \"\\n            CALL db.index.fulltext.queryNodes('entityFullTextIndex', $query, {limit: 5})\\n            YIELD node, score\\n            CALL {\\n                WITH node\\n                OPTIONAL MATCH (node)-[:MENTIONS|RELATED_TO|CITED_IN|GENERATED_BY*1..2]-(doc:Document)\\n                RETURN DISTINCT doc.title AS title, doc.abstract AS abstract\\n            }\\n            RETURN title, abstract, score\\n            ORDER BY score DESC\\n            LIMIT 3\\n            \"\n"
     ]
    },
    {
     "data": {
      "text/plain": [
       "'Matched Field: attribute\\nEntity: cme\\nTitle: Detection of Coronal Mass Ejections at L1 and Forecast of Their Geoeffectiveness\\nAbstract: None\\nScore: 2.08\\n\\nMatched Field: attribute\\nEntity: cme\\nTitle: Detection of Coronal Mass Ejections at L1 and Forecast of Their Geoeffectiveness\\nAbstract: None\\nScore: 1.63\\n\\nMatched Field: attribute\\nEntity: cme\\nTitle: Detection of Coronal Mass Ejections at L1 and Forecast of Their Geoeffectiveness\\nAbstract: None\\nScore: 1.63'"
      ]
     },
     "execution_count": 66,
     "metadata": {},
     "output_type": "execute_result"
    }
   ],
   "source": [
    "def generate_full_text_query(input: str) ->  str:\n",
    "    words = [el for el in remove_lucene_chars(input).split() if el]\n",
    "    if not words:\n",
    "        return \"\"\n",
    "    full_text_query = \" AND \".join([f\"{word}~2\" for word in words])\n",
    "    return full_text_query.strip()\n",
    "\n",
    "def graph_retriever(question: str) -> str:\n",
    "    \"\"\"Retrieves relevant documents and related entities based on the question.\"\"\"\n",
    "    result = \"\"\n",
    "    entities = entity_chain.invoke({\"question\": question}) \n",
    "    seen = set()\n",
    "    for entity_type, value in entities.dict().items():\n",
    "        value = value.strip()\n",
    "        if not value or value in seen:\n",
    "            continue  # Skip empty fields\n",
    "        seen.add(value)\n",
    "\n",
    "        fuzzy_query = generate_full_text_query(value)\n",
    "\n",
    "        response = graph.query(\n",
    "            \"\"\"\n",
    "            CALL db.index.fulltext.queryNodes('entityFullTextIndex', $query, {limit: 5})\n",
    "            YIELD node, score\n",
    "            CALL {\n",
    "                WITH node\n",
    "                OPTIONAL MATCH (node)-[:MENTIONS|RELATED_TO|CITED_IN|GENERATED_BY*1..2]-(doc:Document)\n",
    "                RETURN DISTINCT doc.title AS title, doc.abstract AS abstract\n",
    "            }\n",
    "            RETURN title, abstract, score\n",
    "            ORDER BY score DESC\n",
    "            LIMIT 3\n",
    "            \"\"\",\n",
    "            {\"query\": fuzzy_query}\n",
    "        )\n",
    "\n",
    "        for record in response:\n",
    "            result += f\"Matched Field: {entity_type}\\n\"\n",
    "            result += f\"Entity: {value}\\n\"\n",
    "            result += f\"Title: {record['title']}\\n\"\n",
    "            result += f\"Abstract: {record['abstract']}\\n\"\n",
    "            result += f\"Score: {record['score']:.2f}\\n\\n\"\n",
    "\n",
    "    return result.strip()\n",
    "\n",
    "\n",
    "\n",
    "# generate_full_text_query(\"What the contents of this paper say?\")\n",
    "# graph_retriever(\"how to detect cme?\")"
   ]
  },
  {
   "cell_type": "code",
   "execution_count": 69,
   "id": "03e45fe1",
   "metadata": {},
   "outputs": [],
   "source": [
    "def full_retriever(query: str):\n",
    "    \"\"\"Retrieves relevant documents and entities based on the query.\"\"\"\n",
    "    graph_data = graph_retriever(question=query)\n",
    "    vector_data = [el.model_dump()[\"page_content\"] for el in vector_retriever.invoke(query)]\n",
    "\n",
    "    final_data = f\"\"\"Graph Data:\\n{graph_data}\\n\\nVector Data:\\n\n",
    "                  {\"\\nDocument\".join(vector_data)}\"\"\"\n",
    "    \n",
    "    return final_data.strip()"
   ]
  },
  {
   "cell_type": "code",
   "execution_count": 71,
   "id": "c926d936",
   "metadata": {},
   "outputs": [
    {
     "name": "stderr",
     "output_type": "stream",
     "text": [
      "Received notification from DBMS server: {severity: WARNING} {code: Neo.ClientNotification.Statement.FeatureDeprecationWarning} {category: DEPRECATION} {title: This feature is deprecated and will be removed in future versions.} {description: CALL subquery without a variable scope clause is now deprecated. Use CALL (node) { ... }} {position: line: 4, column: 13, offset: 132} for query: \"\\n            CALL db.index.fulltext.queryNodes('entityFullTextIndex', $query, {limit: 5})\\n            YIELD node, score\\n            CALL {\\n                WITH node\\n                OPTIONAL MATCH (node)-[:MENTIONS|RELATED_TO|CITED_IN|GENERATED_BY*1..2]-(doc:Document)\\n                RETURN DISTINCT doc.title AS title, doc.abstract AS abstract\\n            }\\n            RETURN title, abstract, score\\n            ORDER BY score DESC\\n            LIMIT 3\\n            \"\n",
      "Received notification from DBMS server: {severity: WARNING} {code: Neo.ClientNotification.Statement.UnknownRelationshipTypeWarning} {category: UNRECOGNIZED} {title: The provided relationship type is not in the database.} {description: One of the relationship types in your query is not available in the database, make sure you didn't misspell it or that the label is available when you run this statement in your application (the missing relationship type is: CITED_IN)} {position: line: 6, column: 61, offset: 225} for query: \"\\n            CALL db.index.fulltext.queryNodes('entityFullTextIndex', $query, {limit: 5})\\n            YIELD node, score\\n            CALL {\\n                WITH node\\n                OPTIONAL MATCH (node)-[:MENTIONS|RELATED_TO|CITED_IN|GENERATED_BY*1..2]-(doc:Document)\\n                RETURN DISTINCT doc.title AS title, doc.abstract AS abstract\\n            }\\n            RETURN title, abstract, score\\n            ORDER BY score DESC\\n            LIMIT 3\\n            \"\n",
      "Received notification from DBMS server: {severity: WARNING} {code: Neo.ClientNotification.Statement.UnknownRelationshipTypeWarning} {category: UNRECOGNIZED} {title: The provided relationship type is not in the database.} {description: One of the relationship types in your query is not available in the database, make sure you didn't misspell it or that the label is available when you run this statement in your application (the missing relationship type is: GENERATED_BY)} {position: line: 6, column: 70, offset: 234} for query: \"\\n            CALL db.index.fulltext.queryNodes('entityFullTextIndex', $query, {limit: 5})\\n            YIELD node, score\\n            CALL {\\n                WITH node\\n                OPTIONAL MATCH (node)-[:MENTIONS|RELATED_TO|CITED_IN|GENERATED_BY*1..2]-(doc:Document)\\n                RETURN DISTINCT doc.title AS title, doc.abstract AS abstract\\n            }\\n            RETURN title, abstract, score\\n            ORDER BY score DESC\\n            LIMIT 3\\n            \"\n",
      "Received notification from DBMS server: {severity: WARNING} {code: Neo.ClientNotification.Statement.UnknownPropertyKeyWarning} {category: UNRECOGNIZED} {title: The provided property key is not in the database} {description: One of the property names in your query is not available in the database, make sure you didn't misspell it or that the label is available when you run this statement in your application (the missing property name is: abstract)} {position: line: 7, column: 57, offset: 324} for query: \"\\n            CALL db.index.fulltext.queryNodes('entityFullTextIndex', $query, {limit: 5})\\n            YIELD node, score\\n            CALL {\\n                WITH node\\n                OPTIONAL MATCH (node)-[:MENTIONS|RELATED_TO|CITED_IN|GENERATED_BY*1..2]-(doc:Document)\\n                RETURN DISTINCT doc.title AS title, doc.abstract AS abstract\\n            }\\n            RETURN title, abstract, score\\n            ORDER BY score DESC\\n            LIMIT 3\\n            \"\n",
      "Received notification from DBMS server: {severity: WARNING} {code: Neo.ClientNotification.Statement.FeatureDeprecationWarning} {category: DEPRECATION} {title: This feature is deprecated and will be removed in future versions.} {description: CALL subquery without a variable scope clause is now deprecated. Use CALL (node) { ... }} {position: line: 4, column: 13, offset: 132} for query: \"\\n            CALL db.index.fulltext.queryNodes('entityFullTextIndex', $query, {limit: 5})\\n            YIELD node, score\\n            CALL {\\n                WITH node\\n                OPTIONAL MATCH (node)-[:MENTIONS|RELATED_TO|CITED_IN|GENERATED_BY*1..2]-(doc:Document)\\n                RETURN DISTINCT doc.title AS title, doc.abstract AS abstract\\n            }\\n            RETURN title, abstract, score\\n            ORDER BY score DESC\\n            LIMIT 3\\n            \"\n",
      "Received notification from DBMS server: {severity: WARNING} {code: Neo.ClientNotification.Statement.UnknownRelationshipTypeWarning} {category: UNRECOGNIZED} {title: The provided relationship type is not in the database.} {description: One of the relationship types in your query is not available in the database, make sure you didn't misspell it or that the label is available when you run this statement in your application (the missing relationship type is: CITED_IN)} {position: line: 6, column: 61, offset: 225} for query: \"\\n            CALL db.index.fulltext.queryNodes('entityFullTextIndex', $query, {limit: 5})\\n            YIELD node, score\\n            CALL {\\n                WITH node\\n                OPTIONAL MATCH (node)-[:MENTIONS|RELATED_TO|CITED_IN|GENERATED_BY*1..2]-(doc:Document)\\n                RETURN DISTINCT doc.title AS title, doc.abstract AS abstract\\n            }\\n            RETURN title, abstract, score\\n            ORDER BY score DESC\\n            LIMIT 3\\n            \"\n",
      "Received notification from DBMS server: {severity: WARNING} {code: Neo.ClientNotification.Statement.UnknownRelationshipTypeWarning} {category: UNRECOGNIZED} {title: The provided relationship type is not in the database.} {description: One of the relationship types in your query is not available in the database, make sure you didn't misspell it or that the label is available when you run this statement in your application (the missing relationship type is: GENERATED_BY)} {position: line: 6, column: 70, offset: 234} for query: \"\\n            CALL db.index.fulltext.queryNodes('entityFullTextIndex', $query, {limit: 5})\\n            YIELD node, score\\n            CALL {\\n                WITH node\\n                OPTIONAL MATCH (node)-[:MENTIONS|RELATED_TO|CITED_IN|GENERATED_BY*1..2]-(doc:Document)\\n                RETURN DISTINCT doc.title AS title, doc.abstract AS abstract\\n            }\\n            RETURN title, abstract, score\\n            ORDER BY score DESC\\n            LIMIT 3\\n            \"\n",
      "Received notification from DBMS server: {severity: WARNING} {code: Neo.ClientNotification.Statement.UnknownPropertyKeyWarning} {category: UNRECOGNIZED} {title: The provided property key is not in the database} {description: One of the property names in your query is not available in the database, make sure you didn't misspell it or that the label is available when you run this statement in your application (the missing property name is: abstract)} {position: line: 7, column: 57, offset: 324} for query: \"\\n            CALL db.index.fulltext.queryNodes('entityFullTextIndex', $query, {limit: 5})\\n            YIELD node, score\\n            CALL {\\n                WITH node\\n                OPTIONAL MATCH (node)-[:MENTIONS|RELATED_TO|CITED_IN|GENERATED_BY*1..2]-(doc:Document)\\n                RETURN DISTINCT doc.title AS title, doc.abstract AS abstract\\n            }\\n            RETURN title, abstract, score\\n            ORDER BY score DESC\\n            LIMIT 3\\n            \"\n",
      "Received notification from DBMS server: {severity: WARNING} {code: Neo.ClientNotification.Statement.FeatureDeprecationWarning} {category: DEPRECATION} {title: This feature is deprecated and will be removed in future versions.} {description: CALL subquery without a variable scope clause is now deprecated. Use CALL (node) { ... }} {position: line: 4, column: 13, offset: 132} for query: \"\\n            CALL db.index.fulltext.queryNodes('entityFullTextIndex', $query, {limit: 5})\\n            YIELD node, score\\n            CALL {\\n                WITH node\\n                OPTIONAL MATCH (node)-[:MENTIONS|RELATED_TO|CITED_IN|GENERATED_BY*1..2]-(doc:Document)\\n                RETURN DISTINCT doc.title AS title, doc.abstract AS abstract\\n            }\\n            RETURN title, abstract, score\\n            ORDER BY score DESC\\n            LIMIT 3\\n            \"\n",
      "Received notification from DBMS server: {severity: WARNING} {code: Neo.ClientNotification.Statement.UnknownRelationshipTypeWarning} {category: UNRECOGNIZED} {title: The provided relationship type is not in the database.} {description: One of the relationship types in your query is not available in the database, make sure you didn't misspell it or that the label is available when you run this statement in your application (the missing relationship type is: CITED_IN)} {position: line: 6, column: 61, offset: 225} for query: \"\\n            CALL db.index.fulltext.queryNodes('entityFullTextIndex', $query, {limit: 5})\\n            YIELD node, score\\n            CALL {\\n                WITH node\\n                OPTIONAL MATCH (node)-[:MENTIONS|RELATED_TO|CITED_IN|GENERATED_BY*1..2]-(doc:Document)\\n                RETURN DISTINCT doc.title AS title, doc.abstract AS abstract\\n            }\\n            RETURN title, abstract, score\\n            ORDER BY score DESC\\n            LIMIT 3\\n            \"\n",
      "Received notification from DBMS server: {severity: WARNING} {code: Neo.ClientNotification.Statement.UnknownRelationshipTypeWarning} {category: UNRECOGNIZED} {title: The provided relationship type is not in the database.} {description: One of the relationship types in your query is not available in the database, make sure you didn't misspell it or that the label is available when you run this statement in your application (the missing relationship type is: GENERATED_BY)} {position: line: 6, column: 70, offset: 234} for query: \"\\n            CALL db.index.fulltext.queryNodes('entityFullTextIndex', $query, {limit: 5})\\n            YIELD node, score\\n            CALL {\\n                WITH node\\n                OPTIONAL MATCH (node)-[:MENTIONS|RELATED_TO|CITED_IN|GENERATED_BY*1..2]-(doc:Document)\\n                RETURN DISTINCT doc.title AS title, doc.abstract AS abstract\\n            }\\n            RETURN title, abstract, score\\n            ORDER BY score DESC\\n            LIMIT 3\\n            \"\n",
      "Received notification from DBMS server: {severity: WARNING} {code: Neo.ClientNotification.Statement.UnknownPropertyKeyWarning} {category: UNRECOGNIZED} {title: The provided property key is not in the database} {description: One of the property names in your query is not available in the database, make sure you didn't misspell it or that the label is available when you run this statement in your application (the missing property name is: abstract)} {position: line: 7, column: 57, offset: 324} for query: \"\\n            CALL db.index.fulltext.queryNodes('entityFullTextIndex', $query, {limit: 5})\\n            YIELD node, score\\n            CALL {\\n                WITH node\\n                OPTIONAL MATCH (node)-[:MENTIONS|RELATED_TO|CITED_IN|GENERATED_BY*1..2]-(doc:Document)\\n                RETURN DISTINCT doc.title AS title, doc.abstract AS abstract\\n            }\\n            RETURN title, abstract, score\\n            ORDER BY score DESC\\n            LIMIT 3\\n            \"\n",
      "Received notification from DBMS server: {severity: WARNING} {code: Neo.ClientNotification.Statement.FeatureDeprecationWarning} {category: DEPRECATION} {title: This feature is deprecated and will be removed in future versions.} {description: CALL subquery without a variable scope clause is now deprecated. Use CALL (node) { ... }} {position: line: 4, column: 13, offset: 132} for query: \"\\n            CALL db.index.fulltext.queryNodes('entityFullTextIndex', $query, {limit: 5})\\n            YIELD node, score\\n            CALL {\\n                WITH node\\n                OPTIONAL MATCH (node)-[:MENTIONS|RELATED_TO|CITED_IN|GENERATED_BY*1..2]-(doc:Document)\\n                RETURN DISTINCT doc.title AS title, doc.abstract AS abstract\\n            }\\n            RETURN title, abstract, score\\n            ORDER BY score DESC\\n            LIMIT 3\\n            \"\n",
      "Received notification from DBMS server: {severity: WARNING} {code: Neo.ClientNotification.Statement.UnknownRelationshipTypeWarning} {category: UNRECOGNIZED} {title: The provided relationship type is not in the database.} {description: One of the relationship types in your query is not available in the database, make sure you didn't misspell it or that the label is available when you run this statement in your application (the missing relationship type is: CITED_IN)} {position: line: 6, column: 61, offset: 225} for query: \"\\n            CALL db.index.fulltext.queryNodes('entityFullTextIndex', $query, {limit: 5})\\n            YIELD node, score\\n            CALL {\\n                WITH node\\n                OPTIONAL MATCH (node)-[:MENTIONS|RELATED_TO|CITED_IN|GENERATED_BY*1..2]-(doc:Document)\\n                RETURN DISTINCT doc.title AS title, doc.abstract AS abstract\\n            }\\n            RETURN title, abstract, score\\n            ORDER BY score DESC\\n            LIMIT 3\\n            \"\n",
      "Received notification from DBMS server: {severity: WARNING} {code: Neo.ClientNotification.Statement.UnknownRelationshipTypeWarning} {category: UNRECOGNIZED} {title: The provided relationship type is not in the database.} {description: One of the relationship types in your query is not available in the database, make sure you didn't misspell it or that the label is available when you run this statement in your application (the missing relationship type is: GENERATED_BY)} {position: line: 6, column: 70, offset: 234} for query: \"\\n            CALL db.index.fulltext.queryNodes('entityFullTextIndex', $query, {limit: 5})\\n            YIELD node, score\\n            CALL {\\n                WITH node\\n                OPTIONAL MATCH (node)-[:MENTIONS|RELATED_TO|CITED_IN|GENERATED_BY*1..2]-(doc:Document)\\n                RETURN DISTINCT doc.title AS title, doc.abstract AS abstract\\n            }\\n            RETURN title, abstract, score\\n            ORDER BY score DESC\\n            LIMIT 3\\n            \"\n",
      "Received notification from DBMS server: {severity: WARNING} {code: Neo.ClientNotification.Statement.UnknownPropertyKeyWarning} {category: UNRECOGNIZED} {title: The provided property key is not in the database} {description: One of the property names in your query is not available in the database, make sure you didn't misspell it or that the label is available when you run this statement in your application (the missing property name is: abstract)} {position: line: 7, column: 57, offset: 324} for query: \"\\n            CALL db.index.fulltext.queryNodes('entityFullTextIndex', $query, {limit: 5})\\n            YIELD node, score\\n            CALL {\\n                WITH node\\n                OPTIONAL MATCH (node)-[:MENTIONS|RELATED_TO|CITED_IN|GENERATED_BY*1..2]-(doc:Document)\\n                RETURN DISTINCT doc.title AS title, doc.abstract AS abstract\\n            }\\n            RETURN title, abstract, score\\n            ORDER BY score DESC\\n            LIMIT 3\\n            \"\n",
      "Received notification from DBMS server: {severity: WARNING} {code: Neo.ClientNotification.Statement.FeatureDeprecationWarning} {category: DEPRECATION} {title: This feature is deprecated and will be removed in future versions.} {description: CALL subquery without a variable scope clause is now deprecated. Use CALL () { ... }} {position: line: 1, column: 1, offset: 0} for query: \"CALL { CALL db.index.vector.queryNodes($index, $k, $embedding) YIELD node, score WITH collect({node:node, score:score}) AS nodes, max(score) AS max UNWIND nodes AS n RETURN n.node AS node, (n.score / max) AS score UNION CALL db.index.fulltext.queryNodes($keyword_index, $query, {limit: $k}) YIELD node, score WITH collect({node:node, score:score}) AS nodes, max(score) AS max UNWIND nodes AS n RETURN n.node AS node, (n.score / max) AS score } WITH node, max(score) AS score ORDER BY score DESC LIMIT $k RETURN reduce(str='', k IN ['text', 'source', 'title'] | str + '\\\\n' + k + ': ' + coalesce(node[k], '')) AS text, node {.*, `embedding`: Null, id: Null, `text`: Null, `source`: Null, `title`: Null} AS metadata, score\"\n"
     ]
    }
   ],
   "source": [
    "op = full_retriever(\"how to detect cme?\")"
   ]
  },
  {
   "cell_type": "code",
   "execution_count": 73,
   "id": "7fcac9a7",
   "metadata": {},
   "outputs": [],
   "source": [
    "template = \"\"\"Answer the question based on the provided data.\n",
    "Context: \n",
    "{context}\n",
    "\n",
    "Question: {question}\n",
    "\n",
    "Use the context to answer the question as accurately as possible. Be concise and to the point.\n",
    "\n",
    "Answer:\n",
    "\"\"\"\n",
    "\n",
    "prompt = ChatPromptTemplate.from_template(template)\n",
    "\n",
    "chain = (\n",
    "    {\n",
    "        \"context\": full_retriever,\n",
    "        \"question\": RunnablePassthrough(),\n",
    "    } \n",
    "    | prompt\n",
    "    | llm\n",
    "    | StrOutputParser()\n",
    ")"
   ]
  },
  {
   "cell_type": "code",
   "execution_count": 77,
   "id": "bcd05c2f",
   "metadata": {},
   "outputs": [
    {
     "name": "stderr",
     "output_type": "stream",
     "text": [
      "Received notification from DBMS server: {severity: WARNING} {code: Neo.ClientNotification.Statement.FeatureDeprecationWarning} {category: DEPRECATION} {title: This feature is deprecated and will be removed in future versions.} {description: CALL subquery without a variable scope clause is now deprecated. Use CALL (node) { ... }} {position: line: 4, column: 13, offset: 132} for query: \"\\n            CALL db.index.fulltext.queryNodes('entityFullTextIndex', $query, {limit: 5})\\n            YIELD node, score\\n            CALL {\\n                WITH node\\n                OPTIONAL MATCH (node)-[:MENTIONS|RELATED_TO|CITED_IN|GENERATED_BY*1..2]-(doc:Document)\\n                RETURN DISTINCT doc.title AS title, doc.abstract AS abstract\\n            }\\n            RETURN title, abstract, score\\n            ORDER BY score DESC\\n            LIMIT 3\\n            \"\n",
      "Received notification from DBMS server: {severity: WARNING} {code: Neo.ClientNotification.Statement.UnknownRelationshipTypeWarning} {category: UNRECOGNIZED} {title: The provided relationship type is not in the database.} {description: One of the relationship types in your query is not available in the database, make sure you didn't misspell it or that the label is available when you run this statement in your application (the missing relationship type is: CITED_IN)} {position: line: 6, column: 61, offset: 225} for query: \"\\n            CALL db.index.fulltext.queryNodes('entityFullTextIndex', $query, {limit: 5})\\n            YIELD node, score\\n            CALL {\\n                WITH node\\n                OPTIONAL MATCH (node)-[:MENTIONS|RELATED_TO|CITED_IN|GENERATED_BY*1..2]-(doc:Document)\\n                RETURN DISTINCT doc.title AS title, doc.abstract AS abstract\\n            }\\n            RETURN title, abstract, score\\n            ORDER BY score DESC\\n            LIMIT 3\\n            \"\n",
      "Received notification from DBMS server: {severity: WARNING} {code: Neo.ClientNotification.Statement.UnknownRelationshipTypeWarning} {category: UNRECOGNIZED} {title: The provided relationship type is not in the database.} {description: One of the relationship types in your query is not available in the database, make sure you didn't misspell it or that the label is available when you run this statement in your application (the missing relationship type is: GENERATED_BY)} {position: line: 6, column: 70, offset: 234} for query: \"\\n            CALL db.index.fulltext.queryNodes('entityFullTextIndex', $query, {limit: 5})\\n            YIELD node, score\\n            CALL {\\n                WITH node\\n                OPTIONAL MATCH (node)-[:MENTIONS|RELATED_TO|CITED_IN|GENERATED_BY*1..2]-(doc:Document)\\n                RETURN DISTINCT doc.title AS title, doc.abstract AS abstract\\n            }\\n            RETURN title, abstract, score\\n            ORDER BY score DESC\\n            LIMIT 3\\n            \"\n",
      "Received notification from DBMS server: {severity: WARNING} {code: Neo.ClientNotification.Statement.UnknownPropertyKeyWarning} {category: UNRECOGNIZED} {title: The provided property key is not in the database} {description: One of the property names in your query is not available in the database, make sure you didn't misspell it or that the label is available when you run this statement in your application (the missing property name is: abstract)} {position: line: 7, column: 57, offset: 324} for query: \"\\n            CALL db.index.fulltext.queryNodes('entityFullTextIndex', $query, {limit: 5})\\n            YIELD node, score\\n            CALL {\\n                WITH node\\n                OPTIONAL MATCH (node)-[:MENTIONS|RELATED_TO|CITED_IN|GENERATED_BY*1..2]-(doc:Document)\\n                RETURN DISTINCT doc.title AS title, doc.abstract AS abstract\\n            }\\n            RETURN title, abstract, score\\n            ORDER BY score DESC\\n            LIMIT 3\\n            \"\n",
      "Received notification from DBMS server: {severity: WARNING} {code: Neo.ClientNotification.Statement.FeatureDeprecationWarning} {category: DEPRECATION} {title: This feature is deprecated and will be removed in future versions.} {description: CALL subquery without a variable scope clause is now deprecated. Use CALL (node) { ... }} {position: line: 4, column: 13, offset: 132} for query: \"\\n            CALL db.index.fulltext.queryNodes('entityFullTextIndex', $query, {limit: 5})\\n            YIELD node, score\\n            CALL {\\n                WITH node\\n                OPTIONAL MATCH (node)-[:MENTIONS|RELATED_TO|CITED_IN|GENERATED_BY*1..2]-(doc:Document)\\n                RETURN DISTINCT doc.title AS title, doc.abstract AS abstract\\n            }\\n            RETURN title, abstract, score\\n            ORDER BY score DESC\\n            LIMIT 3\\n            \"\n",
      "Received notification from DBMS server: {severity: WARNING} {code: Neo.ClientNotification.Statement.UnknownRelationshipTypeWarning} {category: UNRECOGNIZED} {title: The provided relationship type is not in the database.} {description: One of the relationship types in your query is not available in the database, make sure you didn't misspell it or that the label is available when you run this statement in your application (the missing relationship type is: CITED_IN)} {position: line: 6, column: 61, offset: 225} for query: \"\\n            CALL db.index.fulltext.queryNodes('entityFullTextIndex', $query, {limit: 5})\\n            YIELD node, score\\n            CALL {\\n                WITH node\\n                OPTIONAL MATCH (node)-[:MENTIONS|RELATED_TO|CITED_IN|GENERATED_BY*1..2]-(doc:Document)\\n                RETURN DISTINCT doc.title AS title, doc.abstract AS abstract\\n            }\\n            RETURN title, abstract, score\\n            ORDER BY score DESC\\n            LIMIT 3\\n            \"\n",
      "Received notification from DBMS server: {severity: WARNING} {code: Neo.ClientNotification.Statement.UnknownRelationshipTypeWarning} {category: UNRECOGNIZED} {title: The provided relationship type is not in the database.} {description: One of the relationship types in your query is not available in the database, make sure you didn't misspell it or that the label is available when you run this statement in your application (the missing relationship type is: GENERATED_BY)} {position: line: 6, column: 70, offset: 234} for query: \"\\n            CALL db.index.fulltext.queryNodes('entityFullTextIndex', $query, {limit: 5})\\n            YIELD node, score\\n            CALL {\\n                WITH node\\n                OPTIONAL MATCH (node)-[:MENTIONS|RELATED_TO|CITED_IN|GENERATED_BY*1..2]-(doc:Document)\\n                RETURN DISTINCT doc.title AS title, doc.abstract AS abstract\\n            }\\n            RETURN title, abstract, score\\n            ORDER BY score DESC\\n            LIMIT 3\\n            \"\n",
      "Received notification from DBMS server: {severity: WARNING} {code: Neo.ClientNotification.Statement.UnknownPropertyKeyWarning} {category: UNRECOGNIZED} {title: The provided property key is not in the database} {description: One of the property names in your query is not available in the database, make sure you didn't misspell it or that the label is available when you run this statement in your application (the missing property name is: abstract)} {position: line: 7, column: 57, offset: 324} for query: \"\\n            CALL db.index.fulltext.queryNodes('entityFullTextIndex', $query, {limit: 5})\\n            YIELD node, score\\n            CALL {\\n                WITH node\\n                OPTIONAL MATCH (node)-[:MENTIONS|RELATED_TO|CITED_IN|GENERATED_BY*1..2]-(doc:Document)\\n                RETURN DISTINCT doc.title AS title, doc.abstract AS abstract\\n            }\\n            RETURN title, abstract, score\\n            ORDER BY score DESC\\n            LIMIT 3\\n            \"\n",
      "Received notification from DBMS server: {severity: WARNING} {code: Neo.ClientNotification.Statement.FeatureDeprecationWarning} {category: DEPRECATION} {title: This feature is deprecated and will be removed in future versions.} {description: CALL subquery without a variable scope clause is now deprecated. Use CALL (node) { ... }} {position: line: 4, column: 13, offset: 132} for query: \"\\n            CALL db.index.fulltext.queryNodes('entityFullTextIndex', $query, {limit: 5})\\n            YIELD node, score\\n            CALL {\\n                WITH node\\n                OPTIONAL MATCH (node)-[:MENTIONS|RELATED_TO|CITED_IN|GENERATED_BY*1..2]-(doc:Document)\\n                RETURN DISTINCT doc.title AS title, doc.abstract AS abstract\\n            }\\n            RETURN title, abstract, score\\n            ORDER BY score DESC\\n            LIMIT 3\\n            \"\n",
      "Received notification from DBMS server: {severity: WARNING} {code: Neo.ClientNotification.Statement.UnknownRelationshipTypeWarning} {category: UNRECOGNIZED} {title: The provided relationship type is not in the database.} {description: One of the relationship types in your query is not available in the database, make sure you didn't misspell it or that the label is available when you run this statement in your application (the missing relationship type is: CITED_IN)} {position: line: 6, column: 61, offset: 225} for query: \"\\n            CALL db.index.fulltext.queryNodes('entityFullTextIndex', $query, {limit: 5})\\n            YIELD node, score\\n            CALL {\\n                WITH node\\n                OPTIONAL MATCH (node)-[:MENTIONS|RELATED_TO|CITED_IN|GENERATED_BY*1..2]-(doc:Document)\\n                RETURN DISTINCT doc.title AS title, doc.abstract AS abstract\\n            }\\n            RETURN title, abstract, score\\n            ORDER BY score DESC\\n            LIMIT 3\\n            \"\n",
      "Received notification from DBMS server: {severity: WARNING} {code: Neo.ClientNotification.Statement.UnknownRelationshipTypeWarning} {category: UNRECOGNIZED} {title: The provided relationship type is not in the database.} {description: One of the relationship types in your query is not available in the database, make sure you didn't misspell it or that the label is available when you run this statement in your application (the missing relationship type is: GENERATED_BY)} {position: line: 6, column: 70, offset: 234} for query: \"\\n            CALL db.index.fulltext.queryNodes('entityFullTextIndex', $query, {limit: 5})\\n            YIELD node, score\\n            CALL {\\n                WITH node\\n                OPTIONAL MATCH (node)-[:MENTIONS|RELATED_TO|CITED_IN|GENERATED_BY*1..2]-(doc:Document)\\n                RETURN DISTINCT doc.title AS title, doc.abstract AS abstract\\n            }\\n            RETURN title, abstract, score\\n            ORDER BY score DESC\\n            LIMIT 3\\n            \"\n",
      "Received notification from DBMS server: {severity: WARNING} {code: Neo.ClientNotification.Statement.UnknownPropertyKeyWarning} {category: UNRECOGNIZED} {title: The provided property key is not in the database} {description: One of the property names in your query is not available in the database, make sure you didn't misspell it or that the label is available when you run this statement in your application (the missing property name is: abstract)} {position: line: 7, column: 57, offset: 324} for query: \"\\n            CALL db.index.fulltext.queryNodes('entityFullTextIndex', $query, {limit: 5})\\n            YIELD node, score\\n            CALL {\\n                WITH node\\n                OPTIONAL MATCH (node)-[:MENTIONS|RELATED_TO|CITED_IN|GENERATED_BY*1..2]-(doc:Document)\\n                RETURN DISTINCT doc.title AS title, doc.abstract AS abstract\\n            }\\n            RETURN title, abstract, score\\n            ORDER BY score DESC\\n            LIMIT 3\\n            \"\n",
      "Received notification from DBMS server: {severity: WARNING} {code: Neo.ClientNotification.Statement.FeatureDeprecationWarning} {category: DEPRECATION} {title: This feature is deprecated and will be removed in future versions.} {description: CALL subquery without a variable scope clause is now deprecated. Use CALL (node) { ... }} {position: line: 4, column: 13, offset: 132} for query: \"\\n            CALL db.index.fulltext.queryNodes('entityFullTextIndex', $query, {limit: 5})\\n            YIELD node, score\\n            CALL {\\n                WITH node\\n                OPTIONAL MATCH (node)-[:MENTIONS|RELATED_TO|CITED_IN|GENERATED_BY*1..2]-(doc:Document)\\n                RETURN DISTINCT doc.title AS title, doc.abstract AS abstract\\n            }\\n            RETURN title, abstract, score\\n            ORDER BY score DESC\\n            LIMIT 3\\n            \"\n",
      "Received notification from DBMS server: {severity: WARNING} {code: Neo.ClientNotification.Statement.UnknownRelationshipTypeWarning} {category: UNRECOGNIZED} {title: The provided relationship type is not in the database.} {description: One of the relationship types in your query is not available in the database, make sure you didn't misspell it or that the label is available when you run this statement in your application (the missing relationship type is: CITED_IN)} {position: line: 6, column: 61, offset: 225} for query: \"\\n            CALL db.index.fulltext.queryNodes('entityFullTextIndex', $query, {limit: 5})\\n            YIELD node, score\\n            CALL {\\n                WITH node\\n                OPTIONAL MATCH (node)-[:MENTIONS|RELATED_TO|CITED_IN|GENERATED_BY*1..2]-(doc:Document)\\n                RETURN DISTINCT doc.title AS title, doc.abstract AS abstract\\n            }\\n            RETURN title, abstract, score\\n            ORDER BY score DESC\\n            LIMIT 3\\n            \"\n",
      "Received notification from DBMS server: {severity: WARNING} {code: Neo.ClientNotification.Statement.UnknownRelationshipTypeWarning} {category: UNRECOGNIZED} {title: The provided relationship type is not in the database.} {description: One of the relationship types in your query is not available in the database, make sure you didn't misspell it or that the label is available when you run this statement in your application (the missing relationship type is: GENERATED_BY)} {position: line: 6, column: 70, offset: 234} for query: \"\\n            CALL db.index.fulltext.queryNodes('entityFullTextIndex', $query, {limit: 5})\\n            YIELD node, score\\n            CALL {\\n                WITH node\\n                OPTIONAL MATCH (node)-[:MENTIONS|RELATED_TO|CITED_IN|GENERATED_BY*1..2]-(doc:Document)\\n                RETURN DISTINCT doc.title AS title, doc.abstract AS abstract\\n            }\\n            RETURN title, abstract, score\\n            ORDER BY score DESC\\n            LIMIT 3\\n            \"\n",
      "Received notification from DBMS server: {severity: WARNING} {code: Neo.ClientNotification.Statement.UnknownPropertyKeyWarning} {category: UNRECOGNIZED} {title: The provided property key is not in the database} {description: One of the property names in your query is not available in the database, make sure you didn't misspell it or that the label is available when you run this statement in your application (the missing property name is: abstract)} {position: line: 7, column: 57, offset: 324} for query: \"\\n            CALL db.index.fulltext.queryNodes('entityFullTextIndex', $query, {limit: 5})\\n            YIELD node, score\\n            CALL {\\n                WITH node\\n                OPTIONAL MATCH (node)-[:MENTIONS|RELATED_TO|CITED_IN|GENERATED_BY*1..2]-(doc:Document)\\n                RETURN DISTINCT doc.title AS title, doc.abstract AS abstract\\n            }\\n            RETURN title, abstract, score\\n            ORDER BY score DESC\\n            LIMIT 3\\n            \"\n",
      "Received notification from DBMS server: {severity: WARNING} {code: Neo.ClientNotification.Statement.FeatureDeprecationWarning} {category: DEPRECATION} {title: This feature is deprecated and will be removed in future versions.} {description: CALL subquery without a variable scope clause is now deprecated. Use CALL (node) { ... }} {position: line: 4, column: 13, offset: 132} for query: \"\\n            CALL db.index.fulltext.queryNodes('entityFullTextIndex', $query, {limit: 5})\\n            YIELD node, score\\n            CALL {\\n                WITH node\\n                OPTIONAL MATCH (node)-[:MENTIONS|RELATED_TO|CITED_IN|GENERATED_BY*1..2]-(doc:Document)\\n                RETURN DISTINCT doc.title AS title, doc.abstract AS abstract\\n            }\\n            RETURN title, abstract, score\\n            ORDER BY score DESC\\n            LIMIT 3\\n            \"\n",
      "Received notification from DBMS server: {severity: WARNING} {code: Neo.ClientNotification.Statement.UnknownRelationshipTypeWarning} {category: UNRECOGNIZED} {title: The provided relationship type is not in the database.} {description: One of the relationship types in your query is not available in the database, make sure you didn't misspell it or that the label is available when you run this statement in your application (the missing relationship type is: CITED_IN)} {position: line: 6, column: 61, offset: 225} for query: \"\\n            CALL db.index.fulltext.queryNodes('entityFullTextIndex', $query, {limit: 5})\\n            YIELD node, score\\n            CALL {\\n                WITH node\\n                OPTIONAL MATCH (node)-[:MENTIONS|RELATED_TO|CITED_IN|GENERATED_BY*1..2]-(doc:Document)\\n                RETURN DISTINCT doc.title AS title, doc.abstract AS abstract\\n            }\\n            RETURN title, abstract, score\\n            ORDER BY score DESC\\n            LIMIT 3\\n            \"\n",
      "Received notification from DBMS server: {severity: WARNING} {code: Neo.ClientNotification.Statement.UnknownRelationshipTypeWarning} {category: UNRECOGNIZED} {title: The provided relationship type is not in the database.} {description: One of the relationship types in your query is not available in the database, make sure you didn't misspell it or that the label is available when you run this statement in your application (the missing relationship type is: GENERATED_BY)} {position: line: 6, column: 70, offset: 234} for query: \"\\n            CALL db.index.fulltext.queryNodes('entityFullTextIndex', $query, {limit: 5})\\n            YIELD node, score\\n            CALL {\\n                WITH node\\n                OPTIONAL MATCH (node)-[:MENTIONS|RELATED_TO|CITED_IN|GENERATED_BY*1..2]-(doc:Document)\\n                RETURN DISTINCT doc.title AS title, doc.abstract AS abstract\\n            }\\n            RETURN title, abstract, score\\n            ORDER BY score DESC\\n            LIMIT 3\\n            \"\n",
      "Received notification from DBMS server: {severity: WARNING} {code: Neo.ClientNotification.Statement.UnknownPropertyKeyWarning} {category: UNRECOGNIZED} {title: The provided property key is not in the database} {description: One of the property names in your query is not available in the database, make sure you didn't misspell it or that the label is available when you run this statement in your application (the missing property name is: abstract)} {position: line: 7, column: 57, offset: 324} for query: \"\\n            CALL db.index.fulltext.queryNodes('entityFullTextIndex', $query, {limit: 5})\\n            YIELD node, score\\n            CALL {\\n                WITH node\\n                OPTIONAL MATCH (node)-[:MENTIONS|RELATED_TO|CITED_IN|GENERATED_BY*1..2]-(doc:Document)\\n                RETURN DISTINCT doc.title AS title, doc.abstract AS abstract\\n            }\\n            RETURN title, abstract, score\\n            ORDER BY score DESC\\n            LIMIT 3\\n            \"\n",
      "Received notification from DBMS server: {severity: WARNING} {code: Neo.ClientNotification.Statement.FeatureDeprecationWarning} {category: DEPRECATION} {title: This feature is deprecated and will be removed in future versions.} {description: CALL subquery without a variable scope clause is now deprecated. Use CALL (node) { ... }} {position: line: 4, column: 13, offset: 132} for query: \"\\n            CALL db.index.fulltext.queryNodes('entityFullTextIndex', $query, {limit: 5})\\n            YIELD node, score\\n            CALL {\\n                WITH node\\n                OPTIONAL MATCH (node)-[:MENTIONS|RELATED_TO|CITED_IN|GENERATED_BY*1..2]-(doc:Document)\\n                RETURN DISTINCT doc.title AS title, doc.abstract AS abstract\\n            }\\n            RETURN title, abstract, score\\n            ORDER BY score DESC\\n            LIMIT 3\\n            \"\n",
      "Received notification from DBMS server: {severity: WARNING} {code: Neo.ClientNotification.Statement.UnknownRelationshipTypeWarning} {category: UNRECOGNIZED} {title: The provided relationship type is not in the database.} {description: One of the relationship types in your query is not available in the database, make sure you didn't misspell it or that the label is available when you run this statement in your application (the missing relationship type is: CITED_IN)} {position: line: 6, column: 61, offset: 225} for query: \"\\n            CALL db.index.fulltext.queryNodes('entityFullTextIndex', $query, {limit: 5})\\n            YIELD node, score\\n            CALL {\\n                WITH node\\n                OPTIONAL MATCH (node)-[:MENTIONS|RELATED_TO|CITED_IN|GENERATED_BY*1..2]-(doc:Document)\\n                RETURN DISTINCT doc.title AS title, doc.abstract AS abstract\\n            }\\n            RETURN title, abstract, score\\n            ORDER BY score DESC\\n            LIMIT 3\\n            \"\n",
      "Received notification from DBMS server: {severity: WARNING} {code: Neo.ClientNotification.Statement.UnknownRelationshipTypeWarning} {category: UNRECOGNIZED} {title: The provided relationship type is not in the database.} {description: One of the relationship types in your query is not available in the database, make sure you didn't misspell it or that the label is available when you run this statement in your application (the missing relationship type is: GENERATED_BY)} {position: line: 6, column: 70, offset: 234} for query: \"\\n            CALL db.index.fulltext.queryNodes('entityFullTextIndex', $query, {limit: 5})\\n            YIELD node, score\\n            CALL {\\n                WITH node\\n                OPTIONAL MATCH (node)-[:MENTIONS|RELATED_TO|CITED_IN|GENERATED_BY*1..2]-(doc:Document)\\n                RETURN DISTINCT doc.title AS title, doc.abstract AS abstract\\n            }\\n            RETURN title, abstract, score\\n            ORDER BY score DESC\\n            LIMIT 3\\n            \"\n",
      "Received notification from DBMS server: {severity: WARNING} {code: Neo.ClientNotification.Statement.UnknownPropertyKeyWarning} {category: UNRECOGNIZED} {title: The provided property key is not in the database} {description: One of the property names in your query is not available in the database, make sure you didn't misspell it or that the label is available when you run this statement in your application (the missing property name is: abstract)} {position: line: 7, column: 57, offset: 324} for query: \"\\n            CALL db.index.fulltext.queryNodes('entityFullTextIndex', $query, {limit: 5})\\n            YIELD node, score\\n            CALL {\\n                WITH node\\n                OPTIONAL MATCH (node)-[:MENTIONS|RELATED_TO|CITED_IN|GENERATED_BY*1..2]-(doc:Document)\\n                RETURN DISTINCT doc.title AS title, doc.abstract AS abstract\\n            }\\n            RETURN title, abstract, score\\n            ORDER BY score DESC\\n            LIMIT 3\\n            \"\n",
      "Received notification from DBMS server: {severity: WARNING} {code: Neo.ClientNotification.Statement.FeatureDeprecationWarning} {category: DEPRECATION} {title: This feature is deprecated and will be removed in future versions.} {description: CALL subquery without a variable scope clause is now deprecated. Use CALL () { ... }} {position: line: 1, column: 1, offset: 0} for query: \"CALL { CALL db.index.vector.queryNodes($index, $k, $embedding) YIELD node, score WITH collect({node:node, score:score}) AS nodes, max(score) AS max UNWIND nodes AS n RETURN n.node AS node, (n.score / max) AS score UNION CALL db.index.fulltext.queryNodes($keyword_index, $query, {limit: $k}) YIELD node, score WITH collect({node:node, score:score}) AS nodes, max(score) AS max UNWIND nodes AS n RETURN n.node AS node, (n.score / max) AS score } WITH node, max(score) AS score ORDER BY score DESC LIMIT $k RETURN reduce(str='', k IN ['text', 'source', 'title'] | str + '\\\\n' + k + ': ' + coalesce(node[k], '')) AS text, node {.*, `embedding`: Null, id: Null, `text`: Null, `source`: Null, `title`: Null} AS metadata, score\"\n"
     ]
    }
   ],
   "source": [
    "output = chain.invoke(input=\"how to detect cme from particle activity in l1, in detail?\")"
   ]
  },
  {
   "cell_type": "code",
   "execution_count": 78,
   "id": "0e88071b",
   "metadata": {},
   "outputs": [
    {
     "data": {
      "text/markdown": [
       "The document discusses a method for detecting Coronal Mass Ejections (CMEs) at L1 using an algorithm that detects images containing single or multiple CMEs and reduces data volume. The detection efficiency is higher for bright CMEs (>90%) and lower for faint CMEs (<10%). To detect CMEs from particle activity in L1, the following steps can be taken:\n",
       "\n",
       "1. Use a coronagraph with an FOV close to the solar limb, such as LASCO C1 or VELC on board ADITYA-L1.\n",
       "2. Obtain continuous data from the coronagraph using high-resolution images and spectroscopy/spectropolarimetric capabilities.\n",
       "3. Apply the algorithm to detect images containing single or multiple CMEs.\n",
       "4. Measure properties of CMEs, such as apparent central position angle, average angular width, and height as a function of time.\n",
       "\n",
       "Note: The document does not provide detailed information on how to detect CMEs from particle activity in L1, but rather discusses the detection method using images and spectroscopy/spectropolarimetric capabilities."
      ],
      "text/plain": [
       "<IPython.core.display.Markdown object>"
      ]
     },
     "execution_count": 78,
     "metadata": {},
     "output_type": "execute_result"
    }
   ],
   "source": [
    "from IPython.display import Markdown as md\n",
    "md(output)"
   ]
  },
  {
   "cell_type": "code",
   "execution_count": 79,
   "id": "aac9b11a",
   "metadata": {},
   "outputs": [
    {
     "name": "stderr",
     "output_type": "stream",
     "text": [
      "Received notification from DBMS server: {severity: WARNING} {code: Neo.ClientNotification.Statement.FeatureDeprecationWarning} {category: DEPRECATION} {title: This feature is deprecated and will be removed in future versions.} {description: CALL subquery without a variable scope clause is now deprecated. Use CALL (node) { ... }} {position: line: 4, column: 13, offset: 132} for query: \"\\n            CALL db.index.fulltext.queryNodes('entityFullTextIndex', $query, {limit: 5})\\n            YIELD node, score\\n            CALL {\\n                WITH node\\n                OPTIONAL MATCH (node)-[:MENTIONS|RELATED_TO|CITED_IN|GENERATED_BY*1..2]-(doc:Document)\\n                RETURN DISTINCT doc.title AS title, doc.abstract AS abstract\\n            }\\n            RETURN title, abstract, score\\n            ORDER BY score DESC\\n            LIMIT 3\\n            \"\n",
      "Received notification from DBMS server: {severity: WARNING} {code: Neo.ClientNotification.Statement.UnknownRelationshipTypeWarning} {category: UNRECOGNIZED} {title: The provided relationship type is not in the database.} {description: One of the relationship types in your query is not available in the database, make sure you didn't misspell it or that the label is available when you run this statement in your application (the missing relationship type is: CITED_IN)} {position: line: 6, column: 61, offset: 225} for query: \"\\n            CALL db.index.fulltext.queryNodes('entityFullTextIndex', $query, {limit: 5})\\n            YIELD node, score\\n            CALL {\\n                WITH node\\n                OPTIONAL MATCH (node)-[:MENTIONS|RELATED_TO|CITED_IN|GENERATED_BY*1..2]-(doc:Document)\\n                RETURN DISTINCT doc.title AS title, doc.abstract AS abstract\\n            }\\n            RETURN title, abstract, score\\n            ORDER BY score DESC\\n            LIMIT 3\\n            \"\n",
      "Received notification from DBMS server: {severity: WARNING} {code: Neo.ClientNotification.Statement.UnknownRelationshipTypeWarning} {category: UNRECOGNIZED} {title: The provided relationship type is not in the database.} {description: One of the relationship types in your query is not available in the database, make sure you didn't misspell it or that the label is available when you run this statement in your application (the missing relationship type is: GENERATED_BY)} {position: line: 6, column: 70, offset: 234} for query: \"\\n            CALL db.index.fulltext.queryNodes('entityFullTextIndex', $query, {limit: 5})\\n            YIELD node, score\\n            CALL {\\n                WITH node\\n                OPTIONAL MATCH (node)-[:MENTIONS|RELATED_TO|CITED_IN|GENERATED_BY*1..2]-(doc:Document)\\n                RETURN DISTINCT doc.title AS title, doc.abstract AS abstract\\n            }\\n            RETURN title, abstract, score\\n            ORDER BY score DESC\\n            LIMIT 3\\n            \"\n",
      "Received notification from DBMS server: {severity: WARNING} {code: Neo.ClientNotification.Statement.UnknownPropertyKeyWarning} {category: UNRECOGNIZED} {title: The provided property key is not in the database} {description: One of the property names in your query is not available in the database, make sure you didn't misspell it or that the label is available when you run this statement in your application (the missing property name is: abstract)} {position: line: 7, column: 57, offset: 324} for query: \"\\n            CALL db.index.fulltext.queryNodes('entityFullTextIndex', $query, {limit: 5})\\n            YIELD node, score\\n            CALL {\\n                WITH node\\n                OPTIONAL MATCH (node)-[:MENTIONS|RELATED_TO|CITED_IN|GENERATED_BY*1..2]-(doc:Document)\\n                RETURN DISTINCT doc.title AS title, doc.abstract AS abstract\\n            }\\n            RETURN title, abstract, score\\n            ORDER BY score DESC\\n            LIMIT 3\\n            \"\n",
      "Received notification from DBMS server: {severity: WARNING} {code: Neo.ClientNotification.Statement.FeatureDeprecationWarning} {category: DEPRECATION} {title: This feature is deprecated and will be removed in future versions.} {description: CALL subquery without a variable scope clause is now deprecated. Use CALL () { ... }} {position: line: 1, column: 1, offset: 0} for query: \"CALL { CALL db.index.vector.queryNodes($index, $k, $embedding) YIELD node, score WITH collect({node:node, score:score}) AS nodes, max(score) AS max UNWIND nodes AS n RETURN n.node AS node, (n.score / max) AS score UNION CALL db.index.fulltext.queryNodes($keyword_index, $query, {limit: $k}) YIELD node, score WITH collect({node:node, score:score}) AS nodes, max(score) AS max UNWIND nodes AS n RETURN n.node AS node, (n.score / max) AS score } WITH node, max(score) AS score ORDER BY score DESC LIMIT $k RETURN reduce(str='', k IN ['text', 'source', 'title'] | str + '\\\\n' + k + ': ' + coalesce(node[k], '')) AS text, node {.*, `embedding`: Null, id: Null, `text`: Null, `source`: Null, `title`: Null} AS metadata, score\"\n"
     ]
    },
    {
     "data": {
      "text/markdown": [
       "This document appears to be a syllabus for B.Tech in Computer Science and Engineering at Maulana Abul Kalam Azad University of Technology, outlining the curriculum for various subjects including biology, genetics, microbiology, and more."
      ],
      "text/plain": [
       "<IPython.core.display.Markdown object>"
      ]
     },
     "execution_count": 79,
     "metadata": {},
     "output_type": "execute_result"
    }
   ],
   "source": [
    "md(chain.invoke(input=\"what is this doc about?\"))"
   ]
  }
 ],
 "metadata": {
  "kernelspec": {
   "display_name": "rag-institute (3.13.2)",
   "language": "python",
   "name": "python3"
  },
  "language_info": {
   "codemirror_mode": {
    "name": "ipython",
    "version": 3
   },
   "file_extension": ".py",
   "mimetype": "text/x-python",
   "name": "python",
   "nbconvert_exporter": "python",
   "pygments_lexer": "ipython3",
   "version": "3.13.2"
  }
 },
 "nbformat": 4,
 "nbformat_minor": 5
}
