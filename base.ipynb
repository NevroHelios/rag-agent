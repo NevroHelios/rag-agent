{
 "cells": [
  {
   "cell_type": "code",
   "execution_count": 44,
   "id": "67e38faa",
   "metadata": {},
   "outputs": [],
   "source": [
    "from langchain_core.pydantic_v1 import BaseModel, Field\n",
    "from langchain_core.output_parsers import StrOutputParser\n",
    "import os\n",
    "from langchain_community.graphs import Neo4jGraph\n",
    "from langchain.text_splitter import RecursiveCharacterTextSplitter\n",
    "from langchain_ollama.chat_models import ChatOllama\n",
    "from langchain_experimental.graph_transformers import LLMGraphTransformer\n",
    "from neo4j import GraphDatabase\n",
    "from langchain_community.vectorstores import Neo4jVector\n",
    "from langchain_ollama import OllamaEmbeddings\n",
    "from langchain_core.prompts import ChatPromptTemplate\n",
    "from langchain_community.document_loaders import TextLoader, PyMuPDFLoader\n",
    "from langchain_core.runnables import RunnablePassthrough, RunnableConfig\n",
    "from pprint import pprint\n",
    "from langchain_neo4j.vectorstores.neo4j_vector import remove_lucene_chars"
   ]
  },
  {
   "cell_type": "code",
   "execution_count": 2,
   "id": "e4d5e19a",
   "metadata": {},
   "outputs": [
    {
     "data": {
      "text/plain": [
       "True"
      ]
     },
     "execution_count": 2,
     "metadata": {},
     "output_type": "execute_result"
    }
   ],
   "source": [
    "from dotenv import load_dotenv\n",
    "load_dotenv()"
   ]
  },
  {
   "cell_type": "code",
   "execution_count": 3,
   "id": "d54d0c04",
   "metadata": {},
   "outputs": [
    {
     "name": "stdout",
     "output_type": "stream",
     "text": [
      "None\n"
     ]
    }
   ],
   "source": [
    "print(os.getenv(\"NEO4J_DATABASE\"))"
   ]
  },
  {
   "cell_type": "code",
   "execution_count": 4,
   "id": "c039635e",
   "metadata": {},
   "outputs": [
    {
     "name": "stderr",
     "output_type": "stream",
     "text": [
      "C:\\Users\\nevrohelios\\AppData\\Local\\Temp\\ipykernel_21900\\1992970749.py:1: LangChainDeprecationWarning: The class `Neo4jGraph` was deprecated in LangChain 0.3.8 and will be removed in 1.0. An updated version of the class exists in the :class:`~langchain-neo4j package and should be used instead. To use it run `pip install -U :class:`~langchain-neo4j` and import as `from :class:`~langchain_neo4j import Neo4jGraph``.\n",
      "  graph = Neo4jGraph(\n"
     ]
    }
   ],
   "source": [
    "graph = Neo4jGraph(\n",
    "    url=os.getenv(\"NEO4J_URI\"),\n",
    "    username=os.getenv(\"NEO4J_USERNAME\"),\n",
    "    password=os.getenv(\"NEO4J_PASSWORD\"),\n",
    "    database=\"neo4j\",\n",
    ")"
   ]
  },
  {
   "cell_type": "code",
   "execution_count": 6,
   "id": "93a763c5",
   "metadata": {},
   "outputs": [],
   "source": [
    "loader = PyMuPDFLoader(\"data/2019_ApJ_Telloni_et_al._DetectionofCoronalMassEjectionsatL1andForecastofTheirGeoeffectiveness.pdf\")\n",
    "docs = loader.load()\n",
    "\n",
    "text_splitter = RecursiveCharacterTextSplitter(chunk_size=600, chunk_overlap=200)\n",
    "documents = text_splitter.split_documents(docs)"
   ]
  },
  {
   "cell_type": "code",
   "execution_count": 9,
   "id": "8ba8be96",
   "metadata": {},
   "outputs": [
    {
     "name": "stdout",
     "output_type": "stream",
     "text": [
      "92\n"
     ]
    }
   ],
   "source": [
    "print(len(documents))"
   ]
  },
  {
   "cell_type": "code",
   "execution_count": 13,
   "id": "35a44c7d",
   "metadata": {},
   "outputs": [],
   "source": [
    "llm = ChatOllama(\n",
    "    model=\"llama3.1:8b\",\n",
    "    temperature=0,\n",
    ").with_config({\"max_retries\": 3})\n",
    "llm_transformer = LLMGraphTransformer(llm=llm)\n",
    "graph_docs = llm_transformer.convert_to_graph_documents(documents)"
   ]
  },
  {
   "cell_type": "code",
   "execution_count": 14,
   "id": "39080cd2",
   "metadata": {},
   "outputs": [
    {
     "data": {
      "text/plain": [
       "GraphDocument(nodes=[Node(id='Detection Of Coronal Mass Ejections At L1 And Forecast Of Their Geoeffectiveness', type='Publication', properties={}), Node(id='The Astrophysical Journal', type='Journal', properties={}), Node(id='E. Antonucci', type='Person', properties={}), Node(id='Alessandro Bemporad', type='Person', properties={}), Node(id='Tiziano Bianchi', type='Person', properties={}), Node(id='National Institute Of Astrophysics', type='Organization', properties={}), Node(id='Polytechnic University Of Turin', type='Organization', properties={})], relationships=[Relationship(source=Node(id='E. Antonucci', type='Person', properties={}), target=Node(id='National Institute Of Astrophysics', type='Organization', properties={}), type='AFFILIATION', properties={}), Relationship(source=Node(id='Alessandro Bemporad', type='Person', properties={}), target=Node(id='National Institute Of Astrophysics', type='Organization', properties={}), type='AFFILIATION', properties={}), Relationship(source=Node(id='Tiziano Bianchi', type='Person', properties={}), target=Node(id='Polytechnic University Of Turin', type='Organization', properties={}), type='AFFILIATION', properties={})], source=Document(metadata={'producer': '', 'creator': 'IOPP', 'creationdate': '2019-11-02T14:40:03+05:30', 'source': 'data/2019_ApJ_Telloni_et_al._DetectionofCoronalMassEjectionsatL1andForecastofTheirGeoeffectiveness.pdf', 'file_path': 'data/2019_ApJ_Telloni_et_al._DetectionofCoronalMassEjectionsatL1andForecastofTheirGeoeffectiveness.pdf', 'total_pages': 8, 'format': 'PDF 1.7', 'title': 'Detection of Coronal Mass Ejections at L1 and Forecast of Their Geoeffectiveness', 'author': 'Daniele Telloni', 'subject': 'The Astrophysical Journal, 885(2019) 120. doi:10.3847/1538-4357/ab48e9', 'keywords': 'Solar coronal mass ejections; Solar storm; Heliosphere; Solar-terrestrial interactions; Magnetohydrodynamics; Time series analysis; Wavelet analysis; Interplanetary medium', 'moddate': '2019-11-02T14:40:23+05:30', 'trapped': '', 'modDate': \"D:20191102144023+05'30'\", 'creationDate': \"D:20191102144003+05'30'\", 'page': 0}, page_content='See discussions, stats, and author profiles for this publication at: https://www.researchgate.net/publication/337095125\\nDetection of Coronal Mass Ejections at L1 and Forecast of Their Geoeffectiveness\\nArticle\\xa0\\xa0in\\xa0\\xa0The Astrophysical Journal · November 2019\\nDOI: 10.3847/1538-4357/ab48e9\\nCITATIONS\\n22\\nREADS\\n83\\n9 authors, including:\\nE. Antonucci\\nNational Institute of Astrophysics\\n354 PUBLICATIONS\\xa0\\xa0\\xa07,168 CITATIONS\\xa0\\xa0\\xa0\\nSEE PROFILE\\nAlessandro Bemporad\\nNational Institute of Astrophysics\\n217 PUBLICATIONS\\xa0\\xa0\\xa02,827 CITATIONS\\xa0\\xa0\\xa0\\nSEE PROFILE\\nTiziano Bianchi\\nPolytechnic University of Turin'))"
      ]
     },
     "execution_count": 14,
     "metadata": {},
     "output_type": "execute_result"
    }
   ],
   "source": [
    "graph_docs[0]"
   ]
  },
  {
   "cell_type": "code",
   "execution_count": 16,
   "id": "947b179a",
   "metadata": {},
   "outputs": [],
   "source": [
    "graph.add_graph_documents(\n",
    "    graph_documents=graph_docs,\n",
    "    baseEntityLabel=True,\n",
    "    include_source=True\n",
    ")"
   ]
  },
  {
   "cell_type": "code",
   "execution_count": 20,
   "id": "9b29b676",
   "metadata": {},
   "outputs": [],
   "source": [
    "embedding_model = OllamaEmbeddings(\n",
    "    model=\"nomic-embed-text:latest\"\n",
    ")"
   ]
  },
  {
   "cell_type": "code",
   "execution_count": 22,
   "id": "e8459d45",
   "metadata": {},
   "outputs": [],
   "source": [
    "vector_index = Neo4jVector.from_existing_graph(\n",
    "    embedding=embedding_model,\n",
    "    search_type=\"hybrid\",\n",
    "    node_label=\"Document\",\n",
    "    text_node_properties=[\"text\", \"source\", \"title\"],\n",
    "    embedding_node_property=\"embedding\"\n",
    ")\n",
    "vector_retriever = vector_index.as_retriever()"
   ]
  },
  {
   "cell_type": "code",
   "execution_count": null,
   "id": "b9e04110",
   "metadata": {},
   "outputs": [],
   "source": [
    "res = vector_retriever.invoke(\n",
    "    \"How do i calculate cme?\",\n",
    "    top_k=5,\n",
    "    similarity_threshold=0.7,\n",
    "    include_embeddings=True\n",
    ")\n",
    "pprint(res[0].model_dump()[\"page_content\"])"
   ]
  },
  {
   "cell_type": "code",
   "execution_count": null,
   "id": "7a6d6109",
   "metadata": {},
   "outputs": [],
   "source": [
    "class Entities(BaseModel):\n",
    "    \"\"\"Identifying information about entities in the text.\"\"\"\n",
    "\n",
    "    address: str = Field(description=\"An address, such as a street address or a location.\")\n",
    "    attribute: str = Field(description=\"An attribute or characteristic of an entity.\")\n",
    "    author: str = Field(description=\"A single author of the paper or a cited work.\")\n",
    "    authors: str = Field(description=\"List of authors associated with the paper.\")\n",
    "    chunk: str = Field(description=\"A section or meaningful unit of the text.\")\n",
    "    company: str = Field(description=\"A company or corporate entity mentioned in the text.\")\n",
    "    concept: str = Field(description=\"An abstract idea, principle, or domain-specific notion.\")\n",
    "    curve: str = Field(description=\"A graphical representation or mathematical curve described in the paper.\")\n",
    "    cycle: str = Field(description=\"A repeated process or time cycle referenced in the study.\")\n",
    "    data: str = Field(description=\"Specific data values, raw or processed, mentioned in the paper.\")\n",
    "    dataset: str = Field(description=\"A collection of data used, referenced, or produced in the study.\")\n",
    "    department: str = Field(description=\"A specific department within an organization or institution.\")\n",
    "    distribution: str = Field(description=\"The statistical or spatial distribution of data or variables.\")\n",
    "    document: str = Field(description=\"A referenced or related document, article, or paper.\")\n",
    "    electric_current: str = Field(description=\"Mentions of electric current or related electrical measurements.\")\n",
    "    entity: str = Field(description=\"A general named entity not otherwise categorized.\")\n",
    "    environment: str = Field(description=\"The environmental context or conditions mentioned.\")\n",
    "    equation: str = Field(description=\"A mathematical equation or formula stated in the text.\")\n",
    "    event: str = Field(description=\"An occurrence or happening described in the context of the study.\")\n",
    "    figure: str = Field(description=\"A referenced figure, chart, or diagram within the paper.\")\n",
    "    function: str = Field(description=\"A mathematical or computational function described or used.\")\n",
    "    group: str = Field(description=\"A collection of people, items, or elements considered together.\")\n",
    "    index: str = Field(description=\"An index value or indexing term used in the paper.\")\n",
    "    instrument: str = Field(description=\"A scientific or technical instrument used in data collection.\")\n",
    "    journal: str = Field(description=\"The journal where the paper or referenced articles are published.\")\n",
    "    location: str = Field(description=\"A geographic location or place mentioned.\")\n",
    "    magnetometer: str = Field(description=\"A specific instrument measuring magnetic fields.\")\n",
    "    measurement: str = Field(description=\"The act or result of measuring a quantity.\")\n",
    "    number: str = Field(description=\"A numerical value mentioned in the text.\")\n",
    "    orcid_id: str = Field(description=\"The ORCID identifier for an author.\")\n",
    "    organization: str = Field(description=\"An organization or institution involved or referenced.\")\n",
    "    person: str = Field(description=\"A named individual mentioned in the text.\")\n",
    "    phenomenon: str = Field(description=\"A scientific or observable phenomenon discussed.\")\n",
    "    planet: str = Field(description=\"A planet mentioned in the astronomical or environmental context.\")\n",
    "    publication: str = Field(description=\"A published work referenced or discussed.\")\n",
    "    quantity: str = Field(description=\"A measurable amount or value.\")\n",
    "    reference: str = Field(description=\"A citation or bibliographic reference.\")\n",
    "    region: str = Field(description=\"A specific area or region, geographic or conceptual.\")\n",
    "    resource: str = Field(description=\"Any resource—material, computational, or informational—mentioned.\")\n",
    "    satellite: str = Field(description=\"A satellite referenced in context to data collection or observation.\")\n",
    "    spacecraft: str = Field(description=\"A spacecraft or probe mentioned in the study.\")\n",
    "    state: str = Field(description=\"A physical or logical state or condition of a system or material.\")\n",
    "    structure: str = Field(description=\"A physical, logical, or organizational structure.\")\n",
    "    system: str = Field(description=\"A system—technical, natural, or conceptual—described in the paper.\")\n",
    "    thresholds: str = Field(description=\"Threshold values or limits defined or measured.\")\n",
    "    time_unit: str = Field(description=\"Units of time used in measurements or descriptions.\")\n",
    "    tool: str = Field(description=\"A software or hardware tool used in the analysis or study.\")\n",
    "    unit_of_measurement: str = Field(description=\"A standardized unit for measuring variables.\")\n",
    "    value: str = Field(description=\"A specific value, usually numerical or categorical, relevant to the context.\")\n",
    "    variable: str = Field(description=\"A changing or measured quantity in the study.\")\n",
    "    website: str = Field(description=\"A URL or web-based resource referenced.\")\n",
    "    year: str = Field(description=\"A specific year mentioned in the paper.\")\n"
   ]
  },
  {
   "cell_type": "code",
   "execution_count": 28,
   "id": "269fd984",
   "metadata": {},
   "outputs": [],
   "source": [
    "prompt = ChatPromptTemplate.from_messages(\n",
    "    [\n",
    "        (\n",
    "            \"system\",\n",
    "            \"You are an expert in scientific papers. Your task is to extract entities from the text. \"\n",
    "        ),\n",
    "        (\n",
    "            \"human\",\n",
    "            \"Use the given format to extract information from the following\"\n",
    "            \"input: {question}\"\n",
    "        )\n",
    "    ]\n",
    ")\n",
    "\n",
    "entity_chain = prompt | llm.with_structured_output(Entities)"
   ]
  },
  {
   "cell_type": "code",
   "execution_count": 52,
   "id": "544d082f",
   "metadata": {},
   "outputs": [
    {
     "data": {
      "text/plain": [
       "''"
      ]
     },
     "execution_count": 52,
     "metadata": {},
     "output_type": "execute_result"
    }
   ],
   "source": [
    "entities = entity_chain.invoke(\n",
    "    {\"question\": \"What is cme?\"}\n",
    ")\n",
    "\n",
    "entities.author"
   ]
  },
  {
   "cell_type": "code",
   "execution_count": 53,
   "id": "33ae680b",
   "metadata": {},
   "outputs": [
    {
     "data": {
      "text/plain": [
       "Entities(address='', attribute='cme', author='', authors='', chunk='What is cme?', company='', concept='cme', curve='', cycle='', data='', dataset='', department='', distribution='', document='', electric_current='', entity='cme', environment='', equation='', event='', figure='', function='', group='', index='', instrument='', journal='', location='', magnetometer='', measurement='', number='', orcid_id='', organization='', person='', phenomenon='', planet='', publication='', quantity='', reference='', region='', resource='', satellite='', spacecraft='', state='', structure='', system='', thresholds='', time_unit='', tool='', unit_of_measurement='', value='', variable='', website='', year='')"
      ]
     },
     "execution_count": 53,
     "metadata": {},
     "output_type": "execute_result"
    }
   ],
   "source": [
    "entities"
   ]
  },
  {
   "cell_type": "code",
   "execution_count": null,
   "id": "25e2a11f",
   "metadata": {},
   "outputs": [
    {
     "name": "stderr",
     "output_type": "stream",
     "text": [
      "Received notification from DBMS server: {severity: WARNING} {code: Neo.ClientNotification.Statement.FeatureDeprecationWarning} {category: DEPRECATION} {title: This feature is deprecated and will be removed in future versions.} {description: CALL subquery without a variable scope clause is now deprecated. Use CALL (node) { ... }} {position: line: 4, column: 13, offset: 132} for query: \"\\n            CALL db.index.fulltext.queryNodes('entityFullTextIndex', $query, {limit: 5})\\n            YIELD node, score\\n            CALL {\\n                WITH node\\n                OPTIONAL MATCH (node)-[:MENTIONS|RELATED_TO|CITED_IN|GENERATED_BY*1..2]-(doc:Document)\\n                RETURN DISTINCT doc.title AS title, doc.abstract AS abstract\\n            }\\n            RETURN title, abstract, score\\n            ORDER BY score DESC\\n            LIMIT 3\\n            \"\n",
      "Received notification from DBMS server: {severity: WARNING} {code: Neo.ClientNotification.Statement.UnknownRelationshipTypeWarning} {category: UNRECOGNIZED} {title: The provided relationship type is not in the database.} {description: One of the relationship types in your query is not available in the database, make sure you didn't misspell it or that the label is available when you run this statement in your application (the missing relationship type is: CITED_IN)} {position: line: 6, column: 61, offset: 225} for query: \"\\n            CALL db.index.fulltext.queryNodes('entityFullTextIndex', $query, {limit: 5})\\n            YIELD node, score\\n            CALL {\\n                WITH node\\n                OPTIONAL MATCH (node)-[:MENTIONS|RELATED_TO|CITED_IN|GENERATED_BY*1..2]-(doc:Document)\\n                RETURN DISTINCT doc.title AS title, doc.abstract AS abstract\\n            }\\n            RETURN title, abstract, score\\n            ORDER BY score DESC\\n            LIMIT 3\\n            \"\n",
      "Received notification from DBMS server: {severity: WARNING} {code: Neo.ClientNotification.Statement.UnknownRelationshipTypeWarning} {category: UNRECOGNIZED} {title: The provided relationship type is not in the database.} {description: One of the relationship types in your query is not available in the database, make sure you didn't misspell it or that the label is available when you run this statement in your application (the missing relationship type is: GENERATED_BY)} {position: line: 6, column: 70, offset: 234} for query: \"\\n            CALL db.index.fulltext.queryNodes('entityFullTextIndex', $query, {limit: 5})\\n            YIELD node, score\\n            CALL {\\n                WITH node\\n                OPTIONAL MATCH (node)-[:MENTIONS|RELATED_TO|CITED_IN|GENERATED_BY*1..2]-(doc:Document)\\n                RETURN DISTINCT doc.title AS title, doc.abstract AS abstract\\n            }\\n            RETURN title, abstract, score\\n            ORDER BY score DESC\\n            LIMIT 3\\n            \"\n",
      "Received notification from DBMS server: {severity: WARNING} {code: Neo.ClientNotification.Statement.UnknownPropertyKeyWarning} {category: UNRECOGNIZED} {title: The provided property key is not in the database} {description: One of the property names in your query is not available in the database, make sure you didn't misspell it or that the label is available when you run this statement in your application (the missing property name is: abstract)} {position: line: 7, column: 57, offset: 324} for query: \"\\n            CALL db.index.fulltext.queryNodes('entityFullTextIndex', $query, {limit: 5})\\n            YIELD node, score\\n            CALL {\\n                WITH node\\n                OPTIONAL MATCH (node)-[:MENTIONS|RELATED_TO|CITED_IN|GENERATED_BY*1..2]-(doc:Document)\\n                RETURN DISTINCT doc.title AS title, doc.abstract AS abstract\\n            }\\n            RETURN title, abstract, score\\n            ORDER BY score DESC\\n            LIMIT 3\\n            \"\n",
      "Received notification from DBMS server: {severity: WARNING} {code: Neo.ClientNotification.Statement.FeatureDeprecationWarning} {category: DEPRECATION} {title: This feature is deprecated and will be removed in future versions.} {description: CALL subquery without a variable scope clause is now deprecated. Use CALL (node) { ... }} {position: line: 4, column: 13, offset: 132} for query: \"\\n            CALL db.index.fulltext.queryNodes('entityFullTextIndex', $query, {limit: 5})\\n            YIELD node, score\\n            CALL {\\n                WITH node\\n                OPTIONAL MATCH (node)-[:MENTIONS|RELATED_TO|CITED_IN|GENERATED_BY*1..2]-(doc:Document)\\n                RETURN DISTINCT doc.title AS title, doc.abstract AS abstract\\n            }\\n            RETURN title, abstract, score\\n            ORDER BY score DESC\\n            LIMIT 3\\n            \"\n",
      "Received notification from DBMS server: {severity: WARNING} {code: Neo.ClientNotification.Statement.UnknownRelationshipTypeWarning} {category: UNRECOGNIZED} {title: The provided relationship type is not in the database.} {description: One of the relationship types in your query is not available in the database, make sure you didn't misspell it or that the label is available when you run this statement in your application (the missing relationship type is: CITED_IN)} {position: line: 6, column: 61, offset: 225} for query: \"\\n            CALL db.index.fulltext.queryNodes('entityFullTextIndex', $query, {limit: 5})\\n            YIELD node, score\\n            CALL {\\n                WITH node\\n                OPTIONAL MATCH (node)-[:MENTIONS|RELATED_TO|CITED_IN|GENERATED_BY*1..2]-(doc:Document)\\n                RETURN DISTINCT doc.title AS title, doc.abstract AS abstract\\n            }\\n            RETURN title, abstract, score\\n            ORDER BY score DESC\\n            LIMIT 3\\n            \"\n",
      "Received notification from DBMS server: {severity: WARNING} {code: Neo.ClientNotification.Statement.UnknownRelationshipTypeWarning} {category: UNRECOGNIZED} {title: The provided relationship type is not in the database.} {description: One of the relationship types in your query is not available in the database, make sure you didn't misspell it or that the label is available when you run this statement in your application (the missing relationship type is: GENERATED_BY)} {position: line: 6, column: 70, offset: 234} for query: \"\\n            CALL db.index.fulltext.queryNodes('entityFullTextIndex', $query, {limit: 5})\\n            YIELD node, score\\n            CALL {\\n                WITH node\\n                OPTIONAL MATCH (node)-[:MENTIONS|RELATED_TO|CITED_IN|GENERATED_BY*1..2]-(doc:Document)\\n                RETURN DISTINCT doc.title AS title, doc.abstract AS abstract\\n            }\\n            RETURN title, abstract, score\\n            ORDER BY score DESC\\n            LIMIT 3\\n            \"\n",
      "Received notification from DBMS server: {severity: WARNING} {code: Neo.ClientNotification.Statement.UnknownPropertyKeyWarning} {category: UNRECOGNIZED} {title: The provided property key is not in the database} {description: One of the property names in your query is not available in the database, make sure you didn't misspell it or that the label is available when you run this statement in your application (the missing property name is: abstract)} {position: line: 7, column: 57, offset: 324} for query: \"\\n            CALL db.index.fulltext.queryNodes('entityFullTextIndex', $query, {limit: 5})\\n            YIELD node, score\\n            CALL {\\n                WITH node\\n                OPTIONAL MATCH (node)-[:MENTIONS|RELATED_TO|CITED_IN|GENERATED_BY*1..2]-(doc:Document)\\n                RETURN DISTINCT doc.title AS title, doc.abstract AS abstract\\n            }\\n            RETURN title, abstract, score\\n            ORDER BY score DESC\\n            LIMIT 3\\n            \"\n",
      "Received notification from DBMS server: {severity: WARNING} {code: Neo.ClientNotification.Statement.FeatureDeprecationWarning} {category: DEPRECATION} {title: This feature is deprecated and will be removed in future versions.} {description: CALL subquery without a variable scope clause is now deprecated. Use CALL (node) { ... }} {position: line: 4, column: 13, offset: 132} for query: \"\\n            CALL db.index.fulltext.queryNodes('entityFullTextIndex', $query, {limit: 5})\\n            YIELD node, score\\n            CALL {\\n                WITH node\\n                OPTIONAL MATCH (node)-[:MENTIONS|RELATED_TO|CITED_IN|GENERATED_BY*1..2]-(doc:Document)\\n                RETURN DISTINCT doc.title AS title, doc.abstract AS abstract\\n            }\\n            RETURN title, abstract, score\\n            ORDER BY score DESC\\n            LIMIT 3\\n            \"\n",
      "Received notification from DBMS server: {severity: WARNING} {code: Neo.ClientNotification.Statement.UnknownRelationshipTypeWarning} {category: UNRECOGNIZED} {title: The provided relationship type is not in the database.} {description: One of the relationship types in your query is not available in the database, make sure you didn't misspell it or that the label is available when you run this statement in your application (the missing relationship type is: CITED_IN)} {position: line: 6, column: 61, offset: 225} for query: \"\\n            CALL db.index.fulltext.queryNodes('entityFullTextIndex', $query, {limit: 5})\\n            YIELD node, score\\n            CALL {\\n                WITH node\\n                OPTIONAL MATCH (node)-[:MENTIONS|RELATED_TO|CITED_IN|GENERATED_BY*1..2]-(doc:Document)\\n                RETURN DISTINCT doc.title AS title, doc.abstract AS abstract\\n            }\\n            RETURN title, abstract, score\\n            ORDER BY score DESC\\n            LIMIT 3\\n            \"\n",
      "Received notification from DBMS server: {severity: WARNING} {code: Neo.ClientNotification.Statement.UnknownRelationshipTypeWarning} {category: UNRECOGNIZED} {title: The provided relationship type is not in the database.} {description: One of the relationship types in your query is not available in the database, make sure you didn't misspell it or that the label is available when you run this statement in your application (the missing relationship type is: GENERATED_BY)} {position: line: 6, column: 70, offset: 234} for query: \"\\n            CALL db.index.fulltext.queryNodes('entityFullTextIndex', $query, {limit: 5})\\n            YIELD node, score\\n            CALL {\\n                WITH node\\n                OPTIONAL MATCH (node)-[:MENTIONS|RELATED_TO|CITED_IN|GENERATED_BY*1..2]-(doc:Document)\\n                RETURN DISTINCT doc.title AS title, doc.abstract AS abstract\\n            }\\n            RETURN title, abstract, score\\n            ORDER BY score DESC\\n            LIMIT 3\\n            \"\n",
      "Received notification from DBMS server: {severity: WARNING} {code: Neo.ClientNotification.Statement.UnknownPropertyKeyWarning} {category: UNRECOGNIZED} {title: The provided property key is not in the database} {description: One of the property names in your query is not available in the database, make sure you didn't misspell it or that the label is available when you run this statement in your application (the missing property name is: abstract)} {position: line: 7, column: 57, offset: 324} for query: \"\\n            CALL db.index.fulltext.queryNodes('entityFullTextIndex', $query, {limit: 5})\\n            YIELD node, score\\n            CALL {\\n                WITH node\\n                OPTIONAL MATCH (node)-[:MENTIONS|RELATED_TO|CITED_IN|GENERATED_BY*1..2]-(doc:Document)\\n                RETURN DISTINCT doc.title AS title, doc.abstract AS abstract\\n            }\\n            RETURN title, abstract, score\\n            ORDER BY score DESC\\n            LIMIT 3\\n            \"\n",
      "Received notification from DBMS server: {severity: WARNING} {code: Neo.ClientNotification.Statement.FeatureDeprecationWarning} {category: DEPRECATION} {title: This feature is deprecated and will be removed in future versions.} {description: CALL subquery without a variable scope clause is now deprecated. Use CALL (node) { ... }} {position: line: 4, column: 13, offset: 132} for query: \"\\n            CALL db.index.fulltext.queryNodes('entityFullTextIndex', $query, {limit: 5})\\n            YIELD node, score\\n            CALL {\\n                WITH node\\n                OPTIONAL MATCH (node)-[:MENTIONS|RELATED_TO|CITED_IN|GENERATED_BY*1..2]-(doc:Document)\\n                RETURN DISTINCT doc.title AS title, doc.abstract AS abstract\\n            }\\n            RETURN title, abstract, score\\n            ORDER BY score DESC\\n            LIMIT 3\\n            \"\n",
      "Received notification from DBMS server: {severity: WARNING} {code: Neo.ClientNotification.Statement.UnknownRelationshipTypeWarning} {category: UNRECOGNIZED} {title: The provided relationship type is not in the database.} {description: One of the relationship types in your query is not available in the database, make sure you didn't misspell it or that the label is available when you run this statement in your application (the missing relationship type is: CITED_IN)} {position: line: 6, column: 61, offset: 225} for query: \"\\n            CALL db.index.fulltext.queryNodes('entityFullTextIndex', $query, {limit: 5})\\n            YIELD node, score\\n            CALL {\\n                WITH node\\n                OPTIONAL MATCH (node)-[:MENTIONS|RELATED_TO|CITED_IN|GENERATED_BY*1..2]-(doc:Document)\\n                RETURN DISTINCT doc.title AS title, doc.abstract AS abstract\\n            }\\n            RETURN title, abstract, score\\n            ORDER BY score DESC\\n            LIMIT 3\\n            \"\n",
      "Received notification from DBMS server: {severity: WARNING} {code: Neo.ClientNotification.Statement.UnknownRelationshipTypeWarning} {category: UNRECOGNIZED} {title: The provided relationship type is not in the database.} {description: One of the relationship types in your query is not available in the database, make sure you didn't misspell it or that the label is available when you run this statement in your application (the missing relationship type is: GENERATED_BY)} {position: line: 6, column: 70, offset: 234} for query: \"\\n            CALL db.index.fulltext.queryNodes('entityFullTextIndex', $query, {limit: 5})\\n            YIELD node, score\\n            CALL {\\n                WITH node\\n                OPTIONAL MATCH (node)-[:MENTIONS|RELATED_TO|CITED_IN|GENERATED_BY*1..2]-(doc:Document)\\n                RETURN DISTINCT doc.title AS title, doc.abstract AS abstract\\n            }\\n            RETURN title, abstract, score\\n            ORDER BY score DESC\\n            LIMIT 3\\n            \"\n",
      "Received notification from DBMS server: {severity: WARNING} {code: Neo.ClientNotification.Statement.UnknownPropertyKeyWarning} {category: UNRECOGNIZED} {title: The provided property key is not in the database} {description: One of the property names in your query is not available in the database, make sure you didn't misspell it or that the label is available when you run this statement in your application (the missing property name is: abstract)} {position: line: 7, column: 57, offset: 324} for query: \"\\n            CALL db.index.fulltext.queryNodes('entityFullTextIndex', $query, {limit: 5})\\n            YIELD node, score\\n            CALL {\\n                WITH node\\n                OPTIONAL MATCH (node)-[:MENTIONS|RELATED_TO|CITED_IN|GENERATED_BY*1..2]-(doc:Document)\\n                RETURN DISTINCT doc.title AS title, doc.abstract AS abstract\\n            }\\n            RETURN title, abstract, score\\n            ORDER BY score DESC\\n            LIMIT 3\\n            \"\n"
     ]
    },
    {
     "data": {
      "text/plain": [
       "'Matched Field: attribute\\nEntity: cme\\nTitle: Detection of Coronal Mass Ejections at L1 and Forecast of Their Geoeffectiveness\\nAbstract: None\\nScore: 2.08\\n\\nMatched Field: attribute\\nEntity: cme\\nTitle: Detection of Coronal Mass Ejections at L1 and Forecast of Their Geoeffectiveness\\nAbstract: None\\nScore: 1.63\\n\\nMatched Field: attribute\\nEntity: cme\\nTitle: Detection of Coronal Mass Ejections at L1 and Forecast of Their Geoeffectiveness\\nAbstract: None\\nScore: 1.63'"
      ]
     },
     "execution_count": 66,
     "metadata": {},
     "output_type": "execute_result"
    }
   ],
   "source": [
    "def generate_full_text_query(input: str) ->  str:\n",
    "    words = [el for el in remove_lucene_chars(input).split() if el]\n",
    "    if not words:\n",
    "        return \"\"\n",
    "    full_text_query = \" AND \".join([f\"{word}~2\" for word in words])\n",
    "    return full_text_query.strip()\n",
    "\n",
    "def graph_retriever(question: str) -> str:\n",
    "    \"\"\"Retrieves relevant documents and related entities based on the question.\"\"\"\n",
    "    result = \"\"\n",
    "    entities = entity_chain.invoke({\"question\": question}) \n",
    "    seen = set()\n",
    "    for entity_type, value in entities.dict().items():\n",
    "        value = value.strip()\n",
    "        if not value or value in seen:\n",
    "            continue  # Skip empty fields\n",
    "        seen.add(value)\n",
    "\n",
    "        fuzzy_query = generate_full_text_query(value)\n",
    "\n",
    "        response = graph.query(\n",
    "            \"\"\"\n",
    "            CALL db.index.fulltext.queryNodes('entityFullTextIndex', $query, {limit: 5})\n",
    "            YIELD node, score\n",
    "            CALL {\n",
    "                WITH node\n",
    "                OPTIONAL MATCH (node)-[:MENTIONS|RELATED_TO|CITED_IN|GENERATED_BY*1..2]-(doc:Document)\n",
    "                RETURN DISTINCT doc.title AS title, doc.abstract AS abstract\n",
    "            }\n",
    "            RETURN title, abstract, score\n",
    "            ORDER BY score DESC\n",
    "            LIMIT 3\n",
    "            \"\"\",\n",
    "            {\"query\": fuzzy_query}\n",
    "        )\n",
    "\n",
    "        for record in response:\n",
    "            result += f\"Matched Field: {entity_type}\\n\"\n",
    "            result += f\"Entity: {value}\\n\"\n",
    "            result += f\"Title: {record['title']}\\n\"\n",
    "            result += f\"Abstract: {record['abstract']}\\n\"\n",
    "            result += f\"Score: {record['score']:.2f}\\n\\n\"\n",
    "\n",
    "    return result.strip()\n",
    "\n",
    "\n",
    "\n",
    "# generate_full_text_query(\"What the contents of this paper say?\")\n",
    "# graph_retriever(\"how to detect cme?\")"
   ]
  },
  {
   "cell_type": "code",
   "execution_count": 69,
   "id": "03e45fe1",
   "metadata": {},
   "outputs": [],
   "source": [
    "def full_retriever(query: str):\n",
    "    \"\"\"Retrieves relevant documents and entities based on the query.\"\"\"\n",
    "    graph_data = graph_retriever(question=query)\n",
    "    vector_data = [el.model_dump()[\"page_content\"] for el in vector_retriever.invoke(query)]\n",
    "\n",
    "    final_data = f\"\"\"Graph Data:\\n{graph_data}\\n\\nVector Data:\\n\n",
    "                  {\"\\nDocument\".join(vector_data)}\"\"\"\n",
    "    \n",
    "    return final_data.strip()"
   ]
  },
  {
   "cell_type": "code",
   "execution_count": 71,
   "id": "c926d936",
   "metadata": {},
   "outputs": [
    {
     "name": "stderr",
     "output_type": "stream",
     "text": [
      "Received notification from DBMS server: {severity: WARNING} {code: Neo.ClientNotification.Statement.FeatureDeprecationWarning} {category: DEPRECATION} {title: This feature is deprecated and will be removed in future versions.} {description: CALL subquery without a variable scope clause is now deprecated. Use CALL (node) { ... }} {position: line: 4, column: 13, offset: 132} for query: \"\\n            CALL db.index.fulltext.queryNodes('entityFullTextIndex', $query, {limit: 5})\\n            YIELD node, score\\n            CALL {\\n                WITH node\\n                OPTIONAL MATCH (node)-[:MENTIONS|RELATED_TO|CITED_IN|GENERATED_BY*1..2]-(doc:Document)\\n                RETURN DISTINCT doc.title AS title, doc.abstract AS abstract\\n            }\\n            RETURN title, abstract, score\\n            ORDER BY score DESC\\n            LIMIT 3\\n            \"\n",
      "Received notification from DBMS server: {severity: WARNING} {code: Neo.ClientNotification.Statement.UnknownRelationshipTypeWarning} {category: UNRECOGNIZED} {title: The provided relationship type is not in the database.} {description: One of the relationship types in your query is not available in the database, make sure you didn't misspell it or that the label is available when you run this statement in your application (the missing relationship type is: CITED_IN)} {position: line: 6, column: 61, offset: 225} for query: \"\\n            CALL db.index.fulltext.queryNodes('entityFullTextIndex', $query, {limit: 5})\\n            YIELD node, score\\n            CALL {\\n                WITH node\\n                OPTIONAL MATCH (node)-[:MENTIONS|RELATED_TO|CITED_IN|GENERATED_BY*1..2]-(doc:Document)\\n                RETURN DISTINCT doc.title AS title, doc.abstract AS abstract\\n            }\\n            RETURN title, abstract, score\\n            ORDER BY score DESC\\n            LIMIT 3\\n            \"\n",
      "Received notification from DBMS server: {severity: WARNING} {code: Neo.ClientNotification.Statement.UnknownRelationshipTypeWarning} {category: UNRECOGNIZED} {title: The provided relationship type is not in the database.} {description: One of the relationship types in your query is not available in the database, make sure you didn't misspell it or that the label is available when you run this statement in your application (the missing relationship type is: GENERATED_BY)} {position: line: 6, column: 70, offset: 234} for query: \"\\n            CALL db.index.fulltext.queryNodes('entityFullTextIndex', $query, {limit: 5})\\n            YIELD node, score\\n            CALL {\\n                WITH node\\n                OPTIONAL MATCH (node)-[:MENTIONS|RELATED_TO|CITED_IN|GENERATED_BY*1..2]-(doc:Document)\\n                RETURN DISTINCT doc.title AS title, doc.abstract AS abstract\\n            }\\n            RETURN title, abstract, score\\n            ORDER BY score DESC\\n            LIMIT 3\\n            \"\n",
      "Received notification from DBMS server: {severity: WARNING} {code: Neo.ClientNotification.Statement.UnknownPropertyKeyWarning} {category: UNRECOGNIZED} {title: The provided property key is not in the database} {description: One of the property names in your query is not available in the database, make sure you didn't misspell it or that the label is available when you run this statement in your application (the missing property name is: abstract)} {position: line: 7, column: 57, offset: 324} for query: \"\\n            CALL db.index.fulltext.queryNodes('entityFullTextIndex', $query, {limit: 5})\\n            YIELD node, score\\n            CALL {\\n                WITH node\\n                OPTIONAL MATCH (node)-[:MENTIONS|RELATED_TO|CITED_IN|GENERATED_BY*1..2]-(doc:Document)\\n                RETURN DISTINCT doc.title AS title, doc.abstract AS abstract\\n            }\\n            RETURN title, abstract, score\\n            ORDER BY score DESC\\n            LIMIT 3\\n            \"\n",
      "Received notification from DBMS server: {severity: WARNING} {code: Neo.ClientNotification.Statement.FeatureDeprecationWarning} {category: DEPRECATION} {title: This feature is deprecated and will be removed in future versions.} {description: CALL subquery without a variable scope clause is now deprecated. Use CALL (node) { ... }} {position: line: 4, column: 13, offset: 132} for query: \"\\n            CALL db.index.fulltext.queryNodes('entityFullTextIndex', $query, {limit: 5})\\n            YIELD node, score\\n            CALL {\\n                WITH node\\n                OPTIONAL MATCH (node)-[:MENTIONS|RELATED_TO|CITED_IN|GENERATED_BY*1..2]-(doc:Document)\\n                RETURN DISTINCT doc.title AS title, doc.abstract AS abstract\\n            }\\n            RETURN title, abstract, score\\n            ORDER BY score DESC\\n            LIMIT 3\\n            \"\n",
      "Received notification from DBMS server: {severity: WARNING} {code: Neo.ClientNotification.Statement.UnknownRelationshipTypeWarning} {category: UNRECOGNIZED} {title: The provided relationship type is not in the database.} {description: One of the relationship types in your query is not available in the database, make sure you didn't misspell it or that the label is available when you run this statement in your application (the missing relationship type is: CITED_IN)} {position: line: 6, column: 61, offset: 225} for query: \"\\n            CALL db.index.fulltext.queryNodes('entityFullTextIndex', $query, {limit: 5})\\n            YIELD node, score\\n            CALL {\\n                WITH node\\n                OPTIONAL MATCH (node)-[:MENTIONS|RELATED_TO|CITED_IN|GENERATED_BY*1..2]-(doc:Document)\\n                RETURN DISTINCT doc.title AS title, doc.abstract AS abstract\\n            }\\n            RETURN title, abstract, score\\n            ORDER BY score DESC\\n            LIMIT 3\\n            \"\n",
      "Received notification from DBMS server: {severity: WARNING} {code: Neo.ClientNotification.Statement.UnknownRelationshipTypeWarning} {category: UNRECOGNIZED} {title: The provided relationship type is not in the database.} {description: One of the relationship types in your query is not available in the database, make sure you didn't misspell it or that the label is available when you run this statement in your application (the missing relationship type is: GENERATED_BY)} {position: line: 6, column: 70, offset: 234} for query: \"\\n            CALL db.index.fulltext.queryNodes('entityFullTextIndex', $query, {limit: 5})\\n            YIELD node, score\\n            CALL {\\n                WITH node\\n                OPTIONAL MATCH (node)-[:MENTIONS|RELATED_TO|CITED_IN|GENERATED_BY*1..2]-(doc:Document)\\n                RETURN DISTINCT doc.title AS title, doc.abstract AS abstract\\n            }\\n            RETURN title, abstract, score\\n            ORDER BY score DESC\\n            LIMIT 3\\n            \"\n",
      "Received notification from DBMS server: {severity: WARNING} {code: Neo.ClientNotification.Statement.UnknownPropertyKeyWarning} {category: UNRECOGNIZED} {title: The provided property key is not in the database} {description: One of the property names in your query is not available in the database, make sure you didn't misspell it or that the label is available when you run this statement in your application (the missing property name is: abstract)} {position: line: 7, column: 57, offset: 324} for query: \"\\n            CALL db.index.fulltext.queryNodes('entityFullTextIndex', $query, {limit: 5})\\n            YIELD node, score\\n            CALL {\\n                WITH node\\n                OPTIONAL MATCH (node)-[:MENTIONS|RELATED_TO|CITED_IN|GENERATED_BY*1..2]-(doc:Document)\\n                RETURN DISTINCT doc.title AS title, doc.abstract AS abstract\\n            }\\n            RETURN title, abstract, score\\n            ORDER BY score DESC\\n            LIMIT 3\\n            \"\n",
      "Received notification from DBMS server: {severity: WARNING} {code: Neo.ClientNotification.Statement.FeatureDeprecationWarning} {category: DEPRECATION} {title: This feature is deprecated and will be removed in future versions.} {description: CALL subquery without a variable scope clause is now deprecated. Use CALL (node) { ... }} {position: line: 4, column: 13, offset: 132} for query: \"\\n            CALL db.index.fulltext.queryNodes('entityFullTextIndex', $query, {limit: 5})\\n            YIELD node, score\\n            CALL {\\n                WITH node\\n                OPTIONAL MATCH (node)-[:MENTIONS|RELATED_TO|CITED_IN|GENERATED_BY*1..2]-(doc:Document)\\n                RETURN DISTINCT doc.title AS title, doc.abstract AS abstract\\n            }\\n            RETURN title, abstract, score\\n            ORDER BY score DESC\\n            LIMIT 3\\n            \"\n",
      "Received notification from DBMS server: {severity: WARNING} {code: Neo.ClientNotification.Statement.UnknownRelationshipTypeWarning} {category: UNRECOGNIZED} {title: The provided relationship type is not in the database.} {description: One of the relationship types in your query is not available in the database, make sure you didn't misspell it or that the label is available when you run this statement in your application (the missing relationship type is: CITED_IN)} {position: line: 6, column: 61, offset: 225} for query: \"\\n            CALL db.index.fulltext.queryNodes('entityFullTextIndex', $query, {limit: 5})\\n            YIELD node, score\\n            CALL {\\n                WITH node\\n                OPTIONAL MATCH (node)-[:MENTIONS|RELATED_TO|CITED_IN|GENERATED_BY*1..2]-(doc:Document)\\n                RETURN DISTINCT doc.title AS title, doc.abstract AS abstract\\n            }\\n            RETURN title, abstract, score\\n            ORDER BY score DESC\\n            LIMIT 3\\n            \"\n",
      "Received notification from DBMS server: {severity: WARNING} {code: Neo.ClientNotification.Statement.UnknownRelationshipTypeWarning} {category: UNRECOGNIZED} {title: The provided relationship type is not in the database.} {description: One of the relationship types in your query is not available in the database, make sure you didn't misspell it or that the label is available when you run this statement in your application (the missing relationship type is: GENERATED_BY)} {position: line: 6, column: 70, offset: 234} for query: \"\\n            CALL db.index.fulltext.queryNodes('entityFullTextIndex', $query, {limit: 5})\\n            YIELD node, score\\n            CALL {\\n                WITH node\\n                OPTIONAL MATCH (node)-[:MENTIONS|RELATED_TO|CITED_IN|GENERATED_BY*1..2]-(doc:Document)\\n                RETURN DISTINCT doc.title AS title, doc.abstract AS abstract\\n            }\\n            RETURN title, abstract, score\\n            ORDER BY score DESC\\n            LIMIT 3\\n            \"\n",
      "Received notification from DBMS server: {severity: WARNING} {code: Neo.ClientNotification.Statement.UnknownPropertyKeyWarning} {category: UNRECOGNIZED} {title: The provided property key is not in the database} {description: One of the property names in your query is not available in the database, make sure you didn't misspell it or that the label is available when you run this statement in your application (the missing property name is: abstract)} {position: line: 7, column: 57, offset: 324} for query: \"\\n            CALL db.index.fulltext.queryNodes('entityFullTextIndex', $query, {limit: 5})\\n            YIELD node, score\\n            CALL {\\n                WITH node\\n                OPTIONAL MATCH (node)-[:MENTIONS|RELATED_TO|CITED_IN|GENERATED_BY*1..2]-(doc:Document)\\n                RETURN DISTINCT doc.title AS title, doc.abstract AS abstract\\n            }\\n            RETURN title, abstract, score\\n            ORDER BY score DESC\\n            LIMIT 3\\n            \"\n",
      "Received notification from DBMS server: {severity: WARNING} {code: Neo.ClientNotification.Statement.FeatureDeprecationWarning} {category: DEPRECATION} {title: This feature is deprecated and will be removed in future versions.} {description: CALL subquery without a variable scope clause is now deprecated. Use CALL (node) { ... }} {position: line: 4, column: 13, offset: 132} for query: \"\\n            CALL db.index.fulltext.queryNodes('entityFullTextIndex', $query, {limit: 5})\\n            YIELD node, score\\n            CALL {\\n                WITH node\\n                OPTIONAL MATCH (node)-[:MENTIONS|RELATED_TO|CITED_IN|GENERATED_BY*1..2]-(doc:Document)\\n                RETURN DISTINCT doc.title AS title, doc.abstract AS abstract\\n            }\\n            RETURN title, abstract, score\\n            ORDER BY score DESC\\n            LIMIT 3\\n            \"\n",
      "Received notification from DBMS server: {severity: WARNING} {code: Neo.ClientNotification.Statement.UnknownRelationshipTypeWarning} {category: UNRECOGNIZED} {title: The provided relationship type is not in the database.} {description: One of the relationship types in your query is not available in the database, make sure you didn't misspell it or that the label is available when you run this statement in your application (the missing relationship type is: CITED_IN)} {position: line: 6, column: 61, offset: 225} for query: \"\\n            CALL db.index.fulltext.queryNodes('entityFullTextIndex', $query, {limit: 5})\\n            YIELD node, score\\n            CALL {\\n                WITH node\\n                OPTIONAL MATCH (node)-[:MENTIONS|RELATED_TO|CITED_IN|GENERATED_BY*1..2]-(doc:Document)\\n                RETURN DISTINCT doc.title AS title, doc.abstract AS abstract\\n            }\\n            RETURN title, abstract, score\\n            ORDER BY score DESC\\n            LIMIT 3\\n            \"\n",
      "Received notification from DBMS server: {severity: WARNING} {code: Neo.ClientNotification.Statement.UnknownRelationshipTypeWarning} {category: UNRECOGNIZED} {title: The provided relationship type is not in the database.} {description: One of the relationship types in your query is not available in the database, make sure you didn't misspell it or that the label is available when you run this statement in your application (the missing relationship type is: GENERATED_BY)} {position: line: 6, column: 70, offset: 234} for query: \"\\n            CALL db.index.fulltext.queryNodes('entityFullTextIndex', $query, {limit: 5})\\n            YIELD node, score\\n            CALL {\\n                WITH node\\n                OPTIONAL MATCH (node)-[:MENTIONS|RELATED_TO|CITED_IN|GENERATED_BY*1..2]-(doc:Document)\\n                RETURN DISTINCT doc.title AS title, doc.abstract AS abstract\\n            }\\n            RETURN title, abstract, score\\n            ORDER BY score DESC\\n            LIMIT 3\\n            \"\n",
      "Received notification from DBMS server: {severity: WARNING} {code: Neo.ClientNotification.Statement.UnknownPropertyKeyWarning} {category: UNRECOGNIZED} {title: The provided property key is not in the database} {description: One of the property names in your query is not available in the database, make sure you didn't misspell it or that the label is available when you run this statement in your application (the missing property name is: abstract)} {position: line: 7, column: 57, offset: 324} for query: \"\\n            CALL db.index.fulltext.queryNodes('entityFullTextIndex', $query, {limit: 5})\\n            YIELD node, score\\n            CALL {\\n                WITH node\\n                OPTIONAL MATCH (node)-[:MENTIONS|RELATED_TO|CITED_IN|GENERATED_BY*1..2]-(doc:Document)\\n                RETURN DISTINCT doc.title AS title, doc.abstract AS abstract\\n            }\\n            RETURN title, abstract, score\\n            ORDER BY score DESC\\n            LIMIT 3\\n            \"\n",
      "Received notification from DBMS server: {severity: WARNING} {code: Neo.ClientNotification.Statement.FeatureDeprecationWarning} {category: DEPRECATION} {title: This feature is deprecated and will be removed in future versions.} {description: CALL subquery without a variable scope clause is now deprecated. Use CALL () { ... }} {position: line: 1, column: 1, offset: 0} for query: \"CALL { CALL db.index.vector.queryNodes($index, $k, $embedding) YIELD node, score WITH collect({node:node, score:score}) AS nodes, max(score) AS max UNWIND nodes AS n RETURN n.node AS node, (n.score / max) AS score UNION CALL db.index.fulltext.queryNodes($keyword_index, $query, {limit: $k}) YIELD node, score WITH collect({node:node, score:score}) AS nodes, max(score) AS max UNWIND nodes AS n RETURN n.node AS node, (n.score / max) AS score } WITH node, max(score) AS score ORDER BY score DESC LIMIT $k RETURN reduce(str='', k IN ['text', 'source', 'title'] | str + '\\\\n' + k + ': ' + coalesce(node[k], '')) AS text, node {.*, `embedding`: Null, id: Null, `text`: Null, `source`: Null, `title`: Null} AS metadata, score\"\n"
     ]
    }
   ],
   "source": [
    "op = full_retriever(\"how to detect cme?\")"
   ]
  },
  {
   "cell_type": "code",
   "execution_count": 73,
   "id": "7fcac9a7",
   "metadata": {},
   "outputs": [],
   "source": [
    "template = \"\"\"Answer the question based on the provided data.\n",
    "Context: \n",
    "{context}\n",
    "\n",
    "Question: {question}\n",
    "\n",
    "Use the context to answer the question as accurately as possible. Be concise and to the point.\n",
    "\n",
    "Answer:\n",
    "\"\"\"\n",
    "\n",
    "prompt = ChatPromptTemplate.from_template(template)\n",
    "\n",
    "chain = (\n",
    "    {\n",
    "        \"context\": full_retriever,\n",
    "        \"question\": RunnablePassthrough(),\n",
    "    } \n",
    "    | prompt\n",
    "    | llm\n",
    "    | StrOutputParser()\n",
    ")"
   ]
  },
  {
   "cell_type": "code",
   "execution_count": 77,
   "id": "bcd05c2f",
   "metadata": {},
   "outputs": [
    {
     "name": "stderr",
     "output_type": "stream",
     "text": [
      "Received notification from DBMS server: {severity: WARNING} {code: Neo.ClientNotification.Statement.FeatureDeprecationWarning} {category: DEPRECATION} {title: This feature is deprecated and will be removed in future versions.} {description: CALL subquery without a variable scope clause is now deprecated. Use CALL (node) { ... }} {position: line: 4, column: 13, offset: 132} for query: \"\\n            CALL db.index.fulltext.queryNodes('entityFullTextIndex', $query, {limit: 5})\\n            YIELD node, score\\n            CALL {\\n                WITH node\\n                OPTIONAL MATCH (node)-[:MENTIONS|RELATED_TO|CITED_IN|GENERATED_BY*1..2]-(doc:Document)\\n                RETURN DISTINCT doc.title AS title, doc.abstract AS abstract\\n            }\\n            RETURN title, abstract, score\\n            ORDER BY score DESC\\n            LIMIT 3\\n            \"\n",
      "Received notification from DBMS server: {severity: WARNING} {code: Neo.ClientNotification.Statement.UnknownRelationshipTypeWarning} {category: UNRECOGNIZED} {title: The provided relationship type is not in the database.} {description: One of the relationship types in your query is not available in the database, make sure you didn't misspell it or that the label is available when you run this statement in your application (the missing relationship type is: CITED_IN)} {position: line: 6, column: 61, offset: 225} for query: \"\\n            CALL db.index.fulltext.queryNodes('entityFullTextIndex', $query, {limit: 5})\\n            YIELD node, score\\n            CALL {\\n                WITH node\\n                OPTIONAL MATCH (node)-[:MENTIONS|RELATED_TO|CITED_IN|GENERATED_BY*1..2]-(doc:Document)\\n                RETURN DISTINCT doc.title AS title, doc.abstract AS abstract\\n            }\\n            RETURN title, abstract, score\\n            ORDER BY score DESC\\n            LIMIT 3\\n            \"\n",
      "Received notification from DBMS server: {severity: WARNING} {code: Neo.ClientNotification.Statement.UnknownRelationshipTypeWarning} {category: UNRECOGNIZED} {title: The provided relationship type is not in the database.} {description: One of the relationship types in your query is not available in the database, make sure you didn't misspell it or that the label is available when you run this statement in your application (the missing relationship type is: GENERATED_BY)} {position: line: 6, column: 70, offset: 234} for query: \"\\n            CALL db.index.fulltext.queryNodes('entityFullTextIndex', $query, {limit: 5})\\n            YIELD node, score\\n            CALL {\\n                WITH node\\n                OPTIONAL MATCH (node)-[:MENTIONS|RELATED_TO|CITED_IN|GENERATED_BY*1..2]-(doc:Document)\\n                RETURN DISTINCT doc.title AS title, doc.abstract AS abstract\\n            }\\n            RETURN title, abstract, score\\n            ORDER BY score DESC\\n            LIMIT 3\\n            \"\n",
      "Received notification from DBMS server: {severity: WARNING} {code: Neo.ClientNotification.Statement.UnknownPropertyKeyWarning} {category: UNRECOGNIZED} {title: The provided property key is not in the database} {description: One of the property names in your query is not available in the database, make sure you didn't misspell it or that the label is available when you run this statement in your application (the missing property name is: abstract)} {position: line: 7, column: 57, offset: 324} for query: \"\\n            CALL db.index.fulltext.queryNodes('entityFullTextIndex', $query, {limit: 5})\\n            YIELD node, score\\n            CALL {\\n                WITH node\\n                OPTIONAL MATCH (node)-[:MENTIONS|RELATED_TO|CITED_IN|GENERATED_BY*1..2]-(doc:Document)\\n                RETURN DISTINCT doc.title AS title, doc.abstract AS abstract\\n            }\\n            RETURN title, abstract, score\\n            ORDER BY score DESC\\n            LIMIT 3\\n            \"\n",
      "Received notification from DBMS server: {severity: WARNING} {code: Neo.ClientNotification.Statement.FeatureDeprecationWarning} {category: DEPRECATION} {title: This feature is deprecated and will be removed in future versions.} {description: CALL subquery without a variable scope clause is now deprecated. Use CALL (node) { ... }} {position: line: 4, column: 13, offset: 132} for query: \"\\n            CALL db.index.fulltext.queryNodes('entityFullTextIndex', $query, {limit: 5})\\n            YIELD node, score\\n            CALL {\\n                WITH node\\n                OPTIONAL MATCH (node)-[:MENTIONS|RELATED_TO|CITED_IN|GENERATED_BY*1..2]-(doc:Document)\\n                RETURN DISTINCT doc.title AS title, doc.abstract AS abstract\\n            }\\n            RETURN title, abstract, score\\n            ORDER BY score DESC\\n            LIMIT 3\\n            \"\n",
      "Received notification from DBMS server: {severity: WARNING} {code: Neo.ClientNotification.Statement.UnknownRelationshipTypeWarning} {category: UNRECOGNIZED} {title: The provided relationship type is not in the database.} {description: One of the relationship types in your query is not available in the database, make sure you didn't misspell it or that the label is available when you run this statement in your application (the missing relationship type is: CITED_IN)} {position: line: 6, column: 61, offset: 225} for query: \"\\n            CALL db.index.fulltext.queryNodes('entityFullTextIndex', $query, {limit: 5})\\n            YIELD node, score\\n            CALL {\\n                WITH node\\n                OPTIONAL MATCH (node)-[:MENTIONS|RELATED_TO|CITED_IN|GENERATED_BY*1..2]-(doc:Document)\\n                RETURN DISTINCT doc.title AS title, doc.abstract AS abstract\\n            }\\n            RETURN title, abstract, score\\n            ORDER BY score DESC\\n            LIMIT 3\\n            \"\n",
      "Received notification from DBMS server: {severity: WARNING} {code: Neo.ClientNotification.Statement.UnknownRelationshipTypeWarning} {category: UNRECOGNIZED} {title: The provided relationship type is not in the database.} {description: One of the relationship types in your query is not available in the database, make sure you didn't misspell it or that the label is available when you run this statement in your application (the missing relationship type is: GENERATED_BY)} {position: line: 6, column: 70, offset: 234} for query: \"\\n            CALL db.index.fulltext.queryNodes('entityFullTextIndex', $query, {limit: 5})\\n            YIELD node, score\\n            CALL {\\n                WITH node\\n                OPTIONAL MATCH (node)-[:MENTIONS|RELATED_TO|CITED_IN|GENERATED_BY*1..2]-(doc:Document)\\n                RETURN DISTINCT doc.title AS title, doc.abstract AS abstract\\n            }\\n            RETURN title, abstract, score\\n            ORDER BY score DESC\\n            LIMIT 3\\n            \"\n",
      "Received notification from DBMS server: {severity: WARNING} {code: Neo.ClientNotification.Statement.UnknownPropertyKeyWarning} {category: UNRECOGNIZED} {title: The provided property key is not in the database} {description: One of the property names in your query is not available in the database, make sure you didn't misspell it or that the label is available when you run this statement in your application (the missing property name is: abstract)} {position: line: 7, column: 57, offset: 324} for query: \"\\n            CALL db.index.fulltext.queryNodes('entityFullTextIndex', $query, {limit: 5})\\n            YIELD node, score\\n            CALL {\\n                WITH node\\n                OPTIONAL MATCH (node)-[:MENTIONS|RELATED_TO|CITED_IN|GENERATED_BY*1..2]-(doc:Document)\\n                RETURN DISTINCT doc.title AS title, doc.abstract AS abstract\\n            }\\n            RETURN title, abstract, score\\n            ORDER BY score DESC\\n            LIMIT 3\\n            \"\n",
      "Received notification from DBMS server: {severity: WARNING} {code: Neo.ClientNotification.Statement.FeatureDeprecationWarning} {category: DEPRECATION} {title: This feature is deprecated and will be removed in future versions.} {description: CALL subquery without a variable scope clause is now deprecated. Use CALL (node) { ... }} {position: line: 4, column: 13, offset: 132} for query: \"\\n            CALL db.index.fulltext.queryNodes('entityFullTextIndex', $query, {limit: 5})\\n            YIELD node, score\\n            CALL {\\n                WITH node\\n                OPTIONAL MATCH (node)-[:MENTIONS|RELATED_TO|CITED_IN|GENERATED_BY*1..2]-(doc:Document)\\n                RETURN DISTINCT doc.title AS title, doc.abstract AS abstract\\n            }\\n            RETURN title, abstract, score\\n            ORDER BY score DESC\\n            LIMIT 3\\n            \"\n",
      "Received notification from DBMS server: {severity: WARNING} {code: Neo.ClientNotification.Statement.UnknownRelationshipTypeWarning} {category: UNRECOGNIZED} {title: The provided relationship type is not in the database.} {description: One of the relationship types in your query is not available in the database, make sure you didn't misspell it or that the label is available when you run this statement in your application (the missing relationship type is: CITED_IN)} {position: line: 6, column: 61, offset: 225} for query: \"\\n            CALL db.index.fulltext.queryNodes('entityFullTextIndex', $query, {limit: 5})\\n            YIELD node, score\\n            CALL {\\n                WITH node\\n                OPTIONAL MATCH (node)-[:MENTIONS|RELATED_TO|CITED_IN|GENERATED_BY*1..2]-(doc:Document)\\n                RETURN DISTINCT doc.title AS title, doc.abstract AS abstract\\n            }\\n            RETURN title, abstract, score\\n            ORDER BY score DESC\\n            LIMIT 3\\n            \"\n",
      "Received notification from DBMS server: {severity: WARNING} {code: Neo.ClientNotification.Statement.UnknownRelationshipTypeWarning} {category: UNRECOGNIZED} {title: The provided relationship type is not in the database.} {description: One of the relationship types in your query is not available in the database, make sure you didn't misspell it or that the label is available when you run this statement in your application (the missing relationship type is: GENERATED_BY)} {position: line: 6, column: 70, offset: 234} for query: \"\\n            CALL db.index.fulltext.queryNodes('entityFullTextIndex', $query, {limit: 5})\\n            YIELD node, score\\n            CALL {\\n                WITH node\\n                OPTIONAL MATCH (node)-[:MENTIONS|RELATED_TO|CITED_IN|GENERATED_BY*1..2]-(doc:Document)\\n                RETURN DISTINCT doc.title AS title, doc.abstract AS abstract\\n            }\\n            RETURN title, abstract, score\\n            ORDER BY score DESC\\n            LIMIT 3\\n            \"\n",
      "Received notification from DBMS server: {severity: WARNING} {code: Neo.ClientNotification.Statement.UnknownPropertyKeyWarning} {category: UNRECOGNIZED} {title: The provided property key is not in the database} {description: One of the property names in your query is not available in the database, make sure you didn't misspell it or that the label is available when you run this statement in your application (the missing property name is: abstract)} {position: line: 7, column: 57, offset: 324} for query: \"\\n            CALL db.index.fulltext.queryNodes('entityFullTextIndex', $query, {limit: 5})\\n            YIELD node, score\\n            CALL {\\n                WITH node\\n                OPTIONAL MATCH (node)-[:MENTIONS|RELATED_TO|CITED_IN|GENERATED_BY*1..2]-(doc:Document)\\n                RETURN DISTINCT doc.title AS title, doc.abstract AS abstract\\n            }\\n            RETURN title, abstract, score\\n            ORDER BY score DESC\\n            LIMIT 3\\n            \"\n",
      "Received notification from DBMS server: {severity: WARNING} {code: Neo.ClientNotification.Statement.FeatureDeprecationWarning} {category: DEPRECATION} {title: This feature is deprecated and will be removed in future versions.} {description: CALL subquery without a variable scope clause is now deprecated. Use CALL (node) { ... }} {position: line: 4, column: 13, offset: 132} for query: \"\\n            CALL db.index.fulltext.queryNodes('entityFullTextIndex', $query, {limit: 5})\\n            YIELD node, score\\n            CALL {\\n                WITH node\\n                OPTIONAL MATCH (node)-[:MENTIONS|RELATED_TO|CITED_IN|GENERATED_BY*1..2]-(doc:Document)\\n                RETURN DISTINCT doc.title AS title, doc.abstract AS abstract\\n            }\\n            RETURN title, abstract, score\\n            ORDER BY score DESC\\n            LIMIT 3\\n            \"\n",
      "Received notification from DBMS server: {severity: WARNING} {code: Neo.ClientNotification.Statement.UnknownRelationshipTypeWarning} {category: UNRECOGNIZED} {title: The provided relationship type is not in the database.} {description: One of the relationship types in your query is not available in the database, make sure you didn't misspell it or that the label is available when you run this statement in your application (the missing relationship type is: CITED_IN)} {position: line: 6, column: 61, offset: 225} for query: \"\\n            CALL db.index.fulltext.queryNodes('entityFullTextIndex', $query, {limit: 5})\\n            YIELD node, score\\n            CALL {\\n                WITH node\\n                OPTIONAL MATCH (node)-[:MENTIONS|RELATED_TO|CITED_IN|GENERATED_BY*1..2]-(doc:Document)\\n                RETURN DISTINCT doc.title AS title, doc.abstract AS abstract\\n            }\\n            RETURN title, abstract, score\\n            ORDER BY score DESC\\n            LIMIT 3\\n            \"\n",
      "Received notification from DBMS server: {severity: WARNING} {code: Neo.ClientNotification.Statement.UnknownRelationshipTypeWarning} {category: UNRECOGNIZED} {title: The provided relationship type is not in the database.} {description: One of the relationship types in your query is not available in the database, make sure you didn't misspell it or that the label is available when you run this statement in your application (the missing relationship type is: GENERATED_BY)} {position: line: 6, column: 70, offset: 234} for query: \"\\n            CALL db.index.fulltext.queryNodes('entityFullTextIndex', $query, {limit: 5})\\n            YIELD node, score\\n            CALL {\\n                WITH node\\n                OPTIONAL MATCH (node)-[:MENTIONS|RELATED_TO|CITED_IN|GENERATED_BY*1..2]-(doc:Document)\\n                RETURN DISTINCT doc.title AS title, doc.abstract AS abstract\\n            }\\n            RETURN title, abstract, score\\n            ORDER BY score DESC\\n            LIMIT 3\\n            \"\n",
      "Received notification from DBMS server: {severity: WARNING} {code: Neo.ClientNotification.Statement.UnknownPropertyKeyWarning} {category: UNRECOGNIZED} {title: The provided property key is not in the database} {description: One of the property names in your query is not available in the database, make sure you didn't misspell it or that the label is available when you run this statement in your application (the missing property name is: abstract)} {position: line: 7, column: 57, offset: 324} for query: \"\\n            CALL db.index.fulltext.queryNodes('entityFullTextIndex', $query, {limit: 5})\\n            YIELD node, score\\n            CALL {\\n                WITH node\\n                OPTIONAL MATCH (node)-[:MENTIONS|RELATED_TO|CITED_IN|GENERATED_BY*1..2]-(doc:Document)\\n                RETURN DISTINCT doc.title AS title, doc.abstract AS abstract\\n            }\\n            RETURN title, abstract, score\\n            ORDER BY score DESC\\n            LIMIT 3\\n            \"\n",
      "Received notification from DBMS server: {severity: WARNING} {code: Neo.ClientNotification.Statement.FeatureDeprecationWarning} {category: DEPRECATION} {title: This feature is deprecated and will be removed in future versions.} {description: CALL subquery without a variable scope clause is now deprecated. Use CALL (node) { ... }} {position: line: 4, column: 13, offset: 132} for query: \"\\n            CALL db.index.fulltext.queryNodes('entityFullTextIndex', $query, {limit: 5})\\n            YIELD node, score\\n            CALL {\\n                WITH node\\n                OPTIONAL MATCH (node)-[:MENTIONS|RELATED_TO|CITED_IN|GENERATED_BY*1..2]-(doc:Document)\\n                RETURN DISTINCT doc.title AS title, doc.abstract AS abstract\\n            }\\n            RETURN title, abstract, score\\n            ORDER BY score DESC\\n            LIMIT 3\\n            \"\n",
      "Received notification from DBMS server: {severity: WARNING} {code: Neo.ClientNotification.Statement.UnknownRelationshipTypeWarning} {category: UNRECOGNIZED} {title: The provided relationship type is not in the database.} {description: One of the relationship types in your query is not available in the database, make sure you didn't misspell it or that the label is available when you run this statement in your application (the missing relationship type is: CITED_IN)} {position: line: 6, column: 61, offset: 225} for query: \"\\n            CALL db.index.fulltext.queryNodes('entityFullTextIndex', $query, {limit: 5})\\n            YIELD node, score\\n            CALL {\\n                WITH node\\n                OPTIONAL MATCH (node)-[:MENTIONS|RELATED_TO|CITED_IN|GENERATED_BY*1..2]-(doc:Document)\\n                RETURN DISTINCT doc.title AS title, doc.abstract AS abstract\\n            }\\n            RETURN title, abstract, score\\n            ORDER BY score DESC\\n            LIMIT 3\\n            \"\n",
      "Received notification from DBMS server: {severity: WARNING} {code: Neo.ClientNotification.Statement.UnknownRelationshipTypeWarning} {category: UNRECOGNIZED} {title: The provided relationship type is not in the database.} {description: One of the relationship types in your query is not available in the database, make sure you didn't misspell it or that the label is available when you run this statement in your application (the missing relationship type is: GENERATED_BY)} {position: line: 6, column: 70, offset: 234} for query: \"\\n            CALL db.index.fulltext.queryNodes('entityFullTextIndex', $query, {limit: 5})\\n            YIELD node, score\\n            CALL {\\n                WITH node\\n                OPTIONAL MATCH (node)-[:MENTIONS|RELATED_TO|CITED_IN|GENERATED_BY*1..2]-(doc:Document)\\n                RETURN DISTINCT doc.title AS title, doc.abstract AS abstract\\n            }\\n            RETURN title, abstract, score\\n            ORDER BY score DESC\\n            LIMIT 3\\n            \"\n",
      "Received notification from DBMS server: {severity: WARNING} {code: Neo.ClientNotification.Statement.UnknownPropertyKeyWarning} {category: UNRECOGNIZED} {title: The provided property key is not in the database} {description: One of the property names in your query is not available in the database, make sure you didn't misspell it or that the label is available when you run this statement in your application (the missing property name is: abstract)} {position: line: 7, column: 57, offset: 324} for query: \"\\n            CALL db.index.fulltext.queryNodes('entityFullTextIndex', $query, {limit: 5})\\n            YIELD node, score\\n            CALL {\\n                WITH node\\n                OPTIONAL MATCH (node)-[:MENTIONS|RELATED_TO|CITED_IN|GENERATED_BY*1..2]-(doc:Document)\\n                RETURN DISTINCT doc.title AS title, doc.abstract AS abstract\\n            }\\n            RETURN title, abstract, score\\n            ORDER BY score DESC\\n            LIMIT 3\\n            \"\n",
      "Received notification from DBMS server: {severity: WARNING} {code: Neo.ClientNotification.Statement.FeatureDeprecationWarning} {category: DEPRECATION} {title: This feature is deprecated and will be removed in future versions.} {description: CALL subquery without a variable scope clause is now deprecated. Use CALL (node) { ... }} {position: line: 4, column: 13, offset: 132} for query: \"\\n            CALL db.index.fulltext.queryNodes('entityFullTextIndex', $query, {limit: 5})\\n            YIELD node, score\\n            CALL {\\n                WITH node\\n                OPTIONAL MATCH (node)-[:MENTIONS|RELATED_TO|CITED_IN|GENERATED_BY*1..2]-(doc:Document)\\n                RETURN DISTINCT doc.title AS title, doc.abstract AS abstract\\n            }\\n            RETURN title, abstract, score\\n            ORDER BY score DESC\\n            LIMIT 3\\n            \"\n",
      "Received notification from DBMS server: {severity: WARNING} {code: Neo.ClientNotification.Statement.UnknownRelationshipTypeWarning} {category: UNRECOGNIZED} {title: The provided relationship type is not in the database.} {description: One of the relationship types in your query is not available in the database, make sure you didn't misspell it or that the label is available when you run this statement in your application (the missing relationship type is: CITED_IN)} {position: line: 6, column: 61, offset: 225} for query: \"\\n            CALL db.index.fulltext.queryNodes('entityFullTextIndex', $query, {limit: 5})\\n            YIELD node, score\\n            CALL {\\n                WITH node\\n                OPTIONAL MATCH (node)-[:MENTIONS|RELATED_TO|CITED_IN|GENERATED_BY*1..2]-(doc:Document)\\n                RETURN DISTINCT doc.title AS title, doc.abstract AS abstract\\n            }\\n            RETURN title, abstract, score\\n            ORDER BY score DESC\\n            LIMIT 3\\n            \"\n",
      "Received notification from DBMS server: {severity: WARNING} {code: Neo.ClientNotification.Statement.UnknownRelationshipTypeWarning} {category: UNRECOGNIZED} {title: The provided relationship type is not in the database.} {description: One of the relationship types in your query is not available in the database, make sure you didn't misspell it or that the label is available when you run this statement in your application (the missing relationship type is: GENERATED_BY)} {position: line: 6, column: 70, offset: 234} for query: \"\\n            CALL db.index.fulltext.queryNodes('entityFullTextIndex', $query, {limit: 5})\\n            YIELD node, score\\n            CALL {\\n                WITH node\\n                OPTIONAL MATCH (node)-[:MENTIONS|RELATED_TO|CITED_IN|GENERATED_BY*1..2]-(doc:Document)\\n                RETURN DISTINCT doc.title AS title, doc.abstract AS abstract\\n            }\\n            RETURN title, abstract, score\\n            ORDER BY score DESC\\n            LIMIT 3\\n            \"\n",
      "Received notification from DBMS server: {severity: WARNING} {code: Neo.ClientNotification.Statement.UnknownPropertyKeyWarning} {category: UNRECOGNIZED} {title: The provided property key is not in the database} {description: One of the property names in your query is not available in the database, make sure you didn't misspell it or that the label is available when you run this statement in your application (the missing property name is: abstract)} {position: line: 7, column: 57, offset: 324} for query: \"\\n            CALL db.index.fulltext.queryNodes('entityFullTextIndex', $query, {limit: 5})\\n            YIELD node, score\\n            CALL {\\n                WITH node\\n                OPTIONAL MATCH (node)-[:MENTIONS|RELATED_TO|CITED_IN|GENERATED_BY*1..2]-(doc:Document)\\n                RETURN DISTINCT doc.title AS title, doc.abstract AS abstract\\n            }\\n            RETURN title, abstract, score\\n            ORDER BY score DESC\\n            LIMIT 3\\n            \"\n",
      "Received notification from DBMS server: {severity: WARNING} {code: Neo.ClientNotification.Statement.FeatureDeprecationWarning} {category: DEPRECATION} {title: This feature is deprecated and will be removed in future versions.} {description: CALL subquery without a variable scope clause is now deprecated. Use CALL () { ... }} {position: line: 1, column: 1, offset: 0} for query: \"CALL { CALL db.index.vector.queryNodes($index, $k, $embedding) YIELD node, score WITH collect({node:node, score:score}) AS nodes, max(score) AS max UNWIND nodes AS n RETURN n.node AS node, (n.score / max) AS score UNION CALL db.index.fulltext.queryNodes($keyword_index, $query, {limit: $k}) YIELD node, score WITH collect({node:node, score:score}) AS nodes, max(score) AS max UNWIND nodes AS n RETURN n.node AS node, (n.score / max) AS score } WITH node, max(score) AS score ORDER BY score DESC LIMIT $k RETURN reduce(str='', k IN ['text', 'source', 'title'] | str + '\\\\n' + k + ': ' + coalesce(node[k], '')) AS text, node {.*, `embedding`: Null, id: Null, `text`: Null, `source`: Null, `title`: Null} AS metadata, score\"\n"
     ]
    }
   ],
   "source": [
    "output = chain.invoke(input=\"how to detect cme from particle activity in l1, in detail?\")"
   ]
  },
  {
   "cell_type": "code",
   "execution_count": 78,
   "id": "0e88071b",
   "metadata": {},
   "outputs": [
    {
     "data": {
      "text/markdown": [
       "The document discusses a method for detecting Coronal Mass Ejections (CMEs) at L1 using an algorithm that detects images containing single or multiple CMEs and reduces data volume. The detection efficiency is higher for bright CMEs (>90%) and lower for faint CMEs (<10%). To detect CMEs from particle activity in L1, the following steps can be taken:\n",
       "\n",
       "1. Use a coronagraph with an FOV close to the solar limb, such as LASCO C1 or VELC on board ADITYA-L1.\n",
       "2. Obtain continuous data from the coronagraph using high-resolution images and spectroscopy/spectropolarimetric capabilities.\n",
       "3. Apply the algorithm to detect images containing single or multiple CMEs.\n",
       "4. Measure properties of CMEs, such as apparent central position angle, average angular width, and height as a function of time.\n",
       "\n",
       "Note: The document does not provide detailed information on how to detect CMEs from particle activity in L1, but rather discusses the detection method using images and spectroscopy/spectropolarimetric capabilities."
      ],
      "text/plain": [
       "<IPython.core.display.Markdown object>"
      ]
     },
     "execution_count": 78,
     "metadata": {},
     "output_type": "execute_result"
    }
   ],
   "source": [
    "from IPython.display import Markdown as md\n",
    "md(output)"
   ]
  },
  {
   "cell_type": "code",
   "execution_count": null,
   "id": "aac9b11a",
   "metadata": {},
   "outputs": [],
   "source": []
  }
 ],
 "metadata": {
  "kernelspec": {
   "display_name": "rag-institute (3.13.2)",
   "language": "python",
   "name": "python3"
  },
  "language_info": {
   "codemirror_mode": {
    "name": "ipython",
    "version": 3
   },
   "file_extension": ".py",
   "mimetype": "text/x-python",
   "name": "python",
   "nbconvert_exporter": "python",
   "pygments_lexer": "ipython3",
   "version": "3.13.2"
  }
 },
 "nbformat": 4,
 "nbformat_minor": 5
}
